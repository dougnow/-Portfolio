{
  "nbformat": 4,
  "nbformat_minor": 0,
  "metadata": {
    "colab": {
      "name": " Synthetic Data Faker.ipynb",
      "provenance": [],
      "collapsed_sections": []
    },
    "kernelspec": {
      "name": "python3",
      "display_name": "Python 3"
    },
    "language_info": {
      "name": "python"
    }
  },
  "cells": [
    {
      "cell_type": "markdown",
      "source": [
        "#### Easy Synthetic Data in Python with Faker\n",
        "\n",
        "Practice Richard Douglas   @dougnow\n",
        "\n",
        "Try to check this information:\n",
        "\n",
        "https://faker.readthedocs.io/en/master/\n",
        "\n",
        "https://www.kdnuggets.com/2021/11/easy-synthetic-data-python-faker.html\n",
        "\n",
        "https://love2dev.com/blog/fake-generator-faker/"
      ],
      "metadata": {
        "id": "esJVGjW6L0R-"
      }
    },
    {
      "cell_type": "markdown",
      "source": [
        "Firts install faker"
      ],
      "metadata": {
        "id": "haYXV6diL8bJ"
      }
    },
    {
      "cell_type": "code",
      "execution_count": 1,
      "metadata": {
        "colab": {
          "base_uri": "https://localhost:8080/"
        },
        "id": "3ywWg54KLyJQ",
        "outputId": "669cb47b-d735-41c7-9c43-1d795e7e8564"
      },
      "outputs": [
        {
          "output_type": "stream",
          "name": "stdout",
          "text": [
            "Looking in indexes: https://pypi.org/simple, https://us-python.pkg.dev/colab-wheels/public/simple/\n",
            "Collecting faker\n",
            "  Downloading Faker-13.15.1-py3-none-any.whl (1.6 MB)\n",
            "\u001b[K     |████████████████████████████████| 1.6 MB 4.4 MB/s \n",
            "\u001b[?25hRequirement already satisfied: python-dateutil>=2.4 in /usr/local/lib/python3.7/dist-packages (from faker) (2.8.2)\n",
            "Requirement already satisfied: typing-extensions>=3.10.0.2 in /usr/local/lib/python3.7/dist-packages (from faker) (4.1.1)\n",
            "Requirement already satisfied: six>=1.5 in /usr/local/lib/python3.7/dist-packages (from python-dateutil>=2.4->faker) (1.15.0)\n",
            "Installing collected packages: faker\n",
            "Successfully installed faker-13.15.1\n"
          ]
        }
      ],
      "source": [
        "pip install faker"
      ]
    },
    {
      "cell_type": "code",
      "source": [
        "import random\n",
        "import faker\n",
        "from random import shuffle\n",
        "from faker import Faker"
      ],
      "metadata": {
        "id": "CLvGAQmve-NS"
      },
      "execution_count": 2,
      "outputs": []
    },
    {
      "cell_type": "code",
      "source": [
        "#make a test\n",
        "faker = Faker()\n",
        "names = [faker.unique.first_name() for _ in range(50)]\n",
        "assert len(set(names)) == len(names)\n",
        "print(names)"
      ],
      "metadata": {
        "colab": {
          "base_uri": "https://localhost:8080/"
        },
        "id": "wUxds98Ye-hl",
        "outputId": "7b8a6ed4-2e3e-4ad3-c8ba-4efc0b8533a0"
      },
      "execution_count": 13,
      "outputs": [
        {
          "output_type": "stream",
          "name": "stdout",
          "text": [
            "['Christian', 'David', 'Patrick', 'Cathy', 'Joseph', 'Jeffery', 'Angela', 'Sherry', 'Beth', 'Stephanie', 'Susan', 'Loretta', 'Timothy', 'Jason', 'Leslie', 'Rachel', 'Jeremy', 'Holly', 'Christopher', 'Anthony', 'Phillip', 'Michael', 'Antonio', 'Mark', 'Angelica', 'Tara', 'Shane', 'Ryan', 'Troy', 'Andrew', 'Katherine', 'Renee', 'Jennifer', 'Jeffrey', 'Samantha', 'Denise', 'Melinda', 'Jesse', 'Brandi', 'Christina', 'Tammy', 'Wendy', 'Raymond', 'Gregory', 'Carl', 'Jocelyn', 'Joshua', 'Matthew', 'Kristy', 'Daniel']\n"
          ]
        }
      ]
    },
    {
      "cell_type": "code",
      "source": [
        "#Make it into a list\n",
        "list(names)"
      ],
      "metadata": {
        "colab": {
          "base_uri": "https://localhost:8080/"
        },
        "id": "qt6Irwv6fCZj",
        "outputId": "aa00d0cc-d4ac-4e53-cdcb-6f150c6af8f2"
      },
      "execution_count": 14,
      "outputs": [
        {
          "output_type": "execute_result",
          "data": {
            "text/plain": [
              "['Christian',\n",
              " 'David',\n",
              " 'Patrick',\n",
              " 'Cathy',\n",
              " 'Joseph',\n",
              " 'Jeffery',\n",
              " 'Angela',\n",
              " 'Sherry',\n",
              " 'Beth',\n",
              " 'Stephanie',\n",
              " 'Susan',\n",
              " 'Loretta',\n",
              " 'Timothy',\n",
              " 'Jason',\n",
              " 'Leslie',\n",
              " 'Rachel',\n",
              " 'Jeremy',\n",
              " 'Holly',\n",
              " 'Christopher',\n",
              " 'Anthony',\n",
              " 'Phillip',\n",
              " 'Michael',\n",
              " 'Antonio',\n",
              " 'Mark',\n",
              " 'Angelica',\n",
              " 'Tara',\n",
              " 'Shane',\n",
              " 'Ryan',\n",
              " 'Troy',\n",
              " 'Andrew',\n",
              " 'Katherine',\n",
              " 'Renee',\n",
              " 'Jennifer',\n",
              " 'Jeffrey',\n",
              " 'Samantha',\n",
              " 'Denise',\n",
              " 'Melinda',\n",
              " 'Jesse',\n",
              " 'Brandi',\n",
              " 'Christina',\n",
              " 'Tammy',\n",
              " 'Wendy',\n",
              " 'Raymond',\n",
              " 'Gregory',\n",
              " 'Carl',\n",
              " 'Jocelyn',\n",
              " 'Joshua',\n",
              " 'Matthew',\n",
              " 'Kristy',\n",
              " 'Daniel']"
            ]
          },
          "metadata": {},
          "execution_count": 14
        }
      ]
    },
    {
      "cell_type": "markdown",
      "source": [
        "#### Python Names Dataset\n",
        "\n",
        "https://pypi.org/project/names-dataset/\n",
        "\n",
        "\n",
        "https://github.com/philipperemy/name-dataset"
      ],
      "metadata": {
        "id": "MhUrDDO6fhm7"
      }
    },
    {
      "cell_type": "code",
      "source": [
        "pip install names-dataset"
      ],
      "metadata": {
        "colab": {
          "base_uri": "https://localhost:8080/"
        },
        "id": "MqGlyO27fay6",
        "outputId": "47e53a89-9606-4a24-c5b1-aae39de36062"
      },
      "execution_count": 15,
      "outputs": [
        {
          "output_type": "stream",
          "name": "stdout",
          "text": [
            "Looking in indexes: https://pypi.org/simple, https://us-python.pkg.dev/colab-wheels/public/simple/\n",
            "Collecting names-dataset\n",
            "  Downloading names-dataset-3.1.0.tar.gz (58.4 MB)\n",
            "\u001b[K     |████████████████████████████████| 58.4 MB 1.2 MB/s \n",
            "\u001b[?25hCollecting pycountry\n",
            "  Downloading pycountry-22.3.5.tar.gz (10.1 MB)\n",
            "\u001b[K     |████████████████████████████████| 10.1 MB 27.0 MB/s \n",
            "\u001b[?25h  Installing build dependencies ... \u001b[?25l\u001b[?25hdone\n",
            "  Getting requirements to build wheel ... \u001b[?25l\u001b[?25hdone\n",
            "    Preparing wheel metadata ... \u001b[?25l\u001b[?25hdone\n",
            "Requirement already satisfied: setuptools in /usr/local/lib/python3.7/dist-packages (from pycountry->names-dataset) (57.4.0)\n",
            "Building wheels for collected packages: names-dataset, pycountry\n",
            "  Building wheel for names-dataset (setup.py) ... \u001b[?25l\u001b[?25hdone\n",
            "  Created wheel for names-dataset: filename=names_dataset-3.1.0-py3-none-any.whl size=116832781 sha256=efdcc6a86ef2a643dd57c407a724400ad232faedb49c44a85c16e84144c1e614\n",
            "  Stored in directory: /root/.cache/pip/wheels/1b/59/19/b3a2b3fe7477148739ddd6e588ea3b2fb713188c8e5e2f31ac\n",
            "  Building wheel for pycountry (PEP 517) ... \u001b[?25l\u001b[?25hdone\n",
            "  Created wheel for pycountry: filename=pycountry-22.3.5-py2.py3-none-any.whl size=10681845 sha256=d5434f8dd453aeaf30dd21c8e580c8493fece339550e7941e837f83152f5f7fb\n",
            "  Stored in directory: /root/.cache/pip/wheels/0e/06/e8/7ee176e95ea9a8a8c3b3afcb1869f20adbd42413d4611c6eb4\n",
            "Successfully built names-dataset pycountry\n",
            "Installing collected packages: pycountry, names-dataset\n",
            "Successfully installed names-dataset-3.1.0 pycountry-22.3.5\n"
          ]
        }
      ]
    },
    {
      "cell_type": "code",
      "source": [
        "from names_dataset import NameDataset"
      ],
      "metadata": {
        "id": "S4CGwVmNfjpI"
      },
      "execution_count": 16,
      "outputs": []
    },
    {
      "cell_type": "code",
      "source": [
        "nd = NameDataset()"
      ],
      "metadata": {
        "id": "Dp8tmWBmfqRL"
      },
      "execution_count": 17,
      "outputs": []
    },
    {
      "cell_type": "code",
      "source": [
        "print(nd.search('Walter'))"
      ],
      "metadata": {
        "colab": {
          "base_uri": "https://localhost:8080/"
        },
        "id": "ef50QS8bfrpv",
        "outputId": "faf770ec-448c-43ca-8b7a-553a909260c9"
      },
      "execution_count": 18,
      "outputs": [
        {
          "output_type": "stream",
          "name": "stdout",
          "text": [
            "{'first_name': {'country': {'Argentina': 0.062, 'Austria': 0.037, 'Bolivia, Plurinational State of': 0.042, 'Colombia': 0.096, 'Germany': 0.044, 'Italy': 0.295, 'Peru': 0.185, 'United States': 0.159, 'Uruguay': 0.036, 'South Africa': 0.043}, 'gender': {'Female': 0.007, 'Male': 0.993}, 'rank': {'Argentina': 37, 'Austria': 34, 'Bolivia, Plurinational State of': 67, 'Colombia': 250, 'Germany': 214, 'Italy': 193, 'Peru': 27, 'United States': 317, 'Uruguay': 44, 'South Africa': 388}}, 'last_name': {'country': {'Austria': 0.036, 'Brazil': 0.039, 'Switzerland': 0.032, 'Germany': 0.299, 'France': 0.121, 'United Kingdom': 0.048, 'Italy': 0.09, 'Nigeria': 0.078, 'United States': 0.172, 'South Africa': 0.085}, 'gender': {}, 'rank': {'Austria': 106, 'Brazil': 805, 'Switzerland': 140, 'Germany': 39, 'France': 625, 'United Kingdom': 1823, 'Italy': 3564, 'Nigeria': 926, 'United States': 1210, 'South Africa': 1169}}}\n"
          ]
        }
      ]
    },
    {
      "cell_type": "markdown",
      "source": [
        "## Easy Synthetic Data in Python with Faker\n",
        "https://faker.readthedocs.io/en/master/\n",
        "\n",
        "https://www.kdnuggets.com/2021/11/easy-synthetic-data-python-faker.html\n",
        "\n",
        "https://love2dev.com/blog/fake-generator-faker/"
      ],
      "metadata": {
        "id": "rcFWM3Ahfv97"
      }
    },
    {
      "cell_type": "code",
      "source": [
        "from faker import Faker\n",
        "fake = Faker()"
      ],
      "metadata": {
        "id": "v-CcTYeKfwxk"
      },
      "execution_count": 19,
      "outputs": []
    },
    {
      "cell_type": "code",
      "source": [
        "print(fake.name())"
      ],
      "metadata": {
        "colab": {
          "base_uri": "https://localhost:8080/"
        },
        "id": "177GA_xsf5oS",
        "outputId": "aa8cc433-20ba-4f9e-801e-e364fcba05e7"
      },
      "execution_count": 20,
      "outputs": [
        {
          "output_type": "stream",
          "name": "stdout",
          "text": [
            "Frederick Hansen\n"
          ]
        }
      ]
    },
    {
      "cell_type": "code",
      "source": [
        "print(fake.date())"
      ],
      "metadata": {
        "colab": {
          "base_uri": "https://localhost:8080/"
        },
        "id": "wo2gvWXrf7Xl",
        "outputId": "7bd63ec5-eb7f-4202-935f-13674a0873b9"
      },
      "execution_count": 21,
      "outputs": [
        {
          "output_type": "stream",
          "name": "stdout",
          "text": [
            "1976-02-09\n"
          ]
        }
      ]
    },
    {
      "cell_type": "code",
      "source": [
        "print(fake.address())"
      ],
      "metadata": {
        "colab": {
          "base_uri": "https://localhost:8080/"
        },
        "id": "C_0vPPkvgDDw",
        "outputId": "5e91130c-7880-4838-de40-40e1f8f2173c"
      },
      "execution_count": 22,
      "outputs": [
        {
          "output_type": "stream",
          "name": "stdout",
          "text": [
            "1746 Joseph Canyon Suite 808\n",
            "South Andrew, OK 27208\n"
          ]
        }
      ]
    },
    {
      "cell_type": "code",
      "source": [
        "print(fake.job())"
      ],
      "metadata": {
        "colab": {
          "base_uri": "https://localhost:8080/"
        },
        "id": "doXwbKKhgGV6",
        "outputId": "ef085b33-af02-4288-bb51-d75868b66523"
      },
      "execution_count": 23,
      "outputs": [
        {
          "output_type": "stream",
          "name": "stdout",
          "text": [
            "Engineer, automotive\n"
          ]
        }
      ]
    },
    {
      "cell_type": "markdown",
      "source": [
        "**Create code for Dataset**"
      ],
      "metadata": {
        "id": "9aCAOjN3gKXm"
      }
    },
    {
      "cell_type": "code",
      "source": [
        "from faker import Faker\n",
        "import pandas as pd\n",
        "\n",
        "fake = Faker(['en_US', 'en_UK', 'it_IT', 'de_DE', 'fr_FR'], use_weighting=True)    \n",
        "\n",
        "customers = {}\n",
        "\n",
        "for i in range(0, 10000):\n",
        "    customers[i]={}\n",
        "    customers[i]['id'] = i+1\n",
        "    customers[i]['name'] = fake.name()\n",
        "    customers[i]['address'] = fake.address().replace('\\n', ', ')\n",
        "    customers[i]['phone_number'] = fake.phone_number()\n",
        "    customers[i]['dob'] = fake.date_between(start_date= '-65y',end_date='-18y')\n",
        "    customers[i]['Job'] = fake.job()\n",
        "    customers[i]['Salary'] = []\n",
        "    customers[i]['note'] = fake.text().replace('\\n', ' ')\n",
        "\n",
        "df = pd.DataFrame(customers).T\n",
        "\n",
        "import random\n",
        "def Rand(start, end, num):\n",
        "    res = []\n",
        " \n",
        "    for j in range(num):\n",
        "        res.append(random.randint(start, end))\n",
        " \n",
        "    return res\n",
        " \n",
        "# Driver Code\n",
        "num = 10000\n",
        "start = 45000\n",
        "end = 135000\n",
        "\n",
        "df2=(Rand(start, end, num))\n",
        "df2 = pd.DataFrame(df2)\n",
        "\n",
        "df['Salary'] = df2\n",
        "\n",
        "print(df)"
      ],
      "metadata": {
        "colab": {
          "base_uri": "https://localhost:8080/"
        },
        "id": "zs1zdFnpgASX",
        "outputId": "4f386b5d-460a-4ead-9675-d6bf54e913fa"
      },
      "execution_count": 24,
      "outputs": [
        {
          "output_type": "stream",
          "name": "stdout",
          "text": [
            "         id                      name  \\\n",
            "0         1   Sig.ra Melissa Lopresti   \n",
            "1         2  Prof. Tassilo Neureuther   \n",
            "2         3              Lauren Jones   \n",
            "3         4          François Raynaud   \n",
            "4         5             Sante Telesio   \n",
            "...     ...                       ...   \n",
            "9995   9996          Michael Reynolds   \n",
            "9996   9997            Barbara Taylor   \n",
            "9997   9998         Lara Guicciardini   \n",
            "9998   9999               Lilian Drub   \n",
            "9999  10000        Prof. Mehdi Sontag   \n",
            "\n",
            "                                                address          phone_number  \\\n",
            "0                      Meisterring 8, 59969 Lüdenscheid  +33 (0)4 67 80 79 20   \n",
            "1             Flat 22o, Mark parks, Davidville, M8D 0FD        +44151 4960440   \n",
            "2                   20, boulevard de Durand, 88183 Paul        (0115) 4960813   \n",
            "3                      Krauseweg 26, 97493 Grevesmühlen          185-230-4383   \n",
            "4             Contrada Fausto, 88, 39040, Kurtinig (BZ)      +49(0) 946678587   \n",
            "...                                                 ...                   ...   \n",
            "9995             94 Burrows port, Port Samantha, G0 1TD       +4428 9018 0596   \n",
            "9996  Incrocio Munari, 975 Appartamento 15, 35010, T...       (020) 7496 0476   \n",
            "9997     Incrocio Tutino, 2 Piano 3, 10083, Favria (TO)        (02117) 004947   \n",
            "9998       3858 Daniel Burgs, West Aprilshire, IL 41029        05 18 45 73 89   \n",
            "9999  89, avenue Augustin Marie, 45797 Courtois-sur-Mer         (048)482-0495   \n",
            "\n",
            "             dob                              Job  Salary  \\\n",
            "0     1969-02-26                Psychiatric nurse   62085   \n",
            "1     1996-01-24              Art gallery manager  100651   \n",
            "2     1958-02-09                 Paediatric nurse   96275   \n",
            "3     1974-02-05              Medizininformatiker  104052   \n",
            "4     1968-12-26          Water quality scientist  129503   \n",
            "...          ...                              ...     ...   \n",
            "9995  2001-10-20  Commercial/residential surveyor  106220   \n",
            "9996  1971-09-09                       antiquaire   90454   \n",
            "9997  1988-07-12                     Asphaltbauer   70298   \n",
            "9998  1985-09-15                       Astronomer   82553   \n",
            "9999  1995-04-15                         Designer  134384   \n",
            "\n",
            "                                                   note  \n",
            "0     Temporibus id consequatur perferendis minima r...  \n",
            "1     Incidunt non velit numquam quod tenetur. Volup...  \n",
            "2     Geschichte Geburtstag versuchen an. Etwas Uhr ...  \n",
            "3     Expedita quo in eos distinctio. Facere accusan...  \n",
            "4     Check news animal box spend project window. Co...  \n",
            "...                                                 ...  \n",
            "9995  Eaque et ut sint adipisci dolorum consequatur....  \n",
            "9996  Affect seek find participant human sit. Fear s...  \n",
            "9997  Ziehen Sohn kann beide Wagen. Brauchen am lege...  \n",
            "9998  Longtemps honneur douceur reconnaître ou avoir...  \n",
            "9999  Explicabo aspernatur repellat dolorem. Quibusd...  \n",
            "\n",
            "[10000 rows x 8 columns]\n"
          ]
        }
      ]
    },
    {
      "cell_type": "code",
      "source": [
        "df.info()"
      ],
      "metadata": {
        "colab": {
          "base_uri": "https://localhost:8080/"
        },
        "id": "Kwg3JfTNgSai",
        "outputId": "c30adff0-3487-456d-909a-d95f85906794"
      },
      "execution_count": 25,
      "outputs": [
        {
          "output_type": "stream",
          "name": "stdout",
          "text": [
            "<class 'pandas.core.frame.DataFrame'>\n",
            "Int64Index: 10000 entries, 0 to 9999\n",
            "Data columns (total 8 columns):\n",
            " #   Column        Non-Null Count  Dtype \n",
            "---  ------        --------------  ----- \n",
            " 0   id            10000 non-null  object\n",
            " 1   name          10000 non-null  object\n",
            " 2   address       10000 non-null  object\n",
            " 3   phone_number  10000 non-null  object\n",
            " 4   dob           10000 non-null  object\n",
            " 5   Job           10000 non-null  object\n",
            " 6   Salary        10000 non-null  int64 \n",
            " 7   note          10000 non-null  object\n",
            "dtypes: int64(1), object(7)\n",
            "memory usage: 703.1+ KB\n"
          ]
        }
      ]
    },
    {
      "cell_type": "markdown",
      "source": [
        "Create a CSV with Dataset information"
      ],
      "metadata": {
        "id": "5sNExs3igW1u"
      }
    },
    {
      "cell_type": "code",
      "source": [
        "from faker import Faker\n",
        "import pandas as pd\n",
        "\n",
        "fake = Faker(['en_US', 'en_UK', 'it_IT', 'de_DE', 'fr_FR'], use_weighting=True)\n",
        "\n",
        "customers = {}\n",
        "\n",
        "for i in range(0, 10000):\n",
        "    customers[i]={}\n",
        "    customers[i]['id'] = i+1\n",
        "    customers[i]['name'] = fake.name()\n",
        "    customers[i]['address'] = fake.address().replace('\\n', ', ')\n",
        "    customers[i]['phone_number'] = fake.phone_number()\n",
        "    customers[i]['dob'] = fake.date_between(start_date= '-65y',end_date='-20y')\n",
        "    customers[i]['Job'] = fake.job()\n",
        "    customers[i]['Salary'] = []\n",
        "    customers[i]['note'] = fake.text().replace('\\n', ' ')\n",
        "\n",
        "df = pd.DataFrame(customers).T\n",
        "\n",
        "import random\n",
        "def Rand(start, end, num):\n",
        "    res = []\n",
        " \n",
        "    for j in range(num):\n",
        "        res.append(random.randint(start, end))\n",
        " \n",
        "    return res\n",
        " \n",
        "# Driver Code\n",
        "num = 10000\n",
        "start = 45000\n",
        "end = 135000\n",
        "\n",
        "df2=(Rand(start, end, num))\n",
        "df2 = pd.DataFrame(df2)\n",
        "\n",
        "df['Salary'] = df2\n",
        "print(df)\n",
        "\n",
        "df.to_csv('customer_data.csv', index=False)"
      ],
      "metadata": {
        "colab": {
          "base_uri": "https://localhost:8080/"
        },
        "id": "ab9dNXjvgakU",
        "outputId": "d00be91f-4a37-4c16-8e65-eaab9dd6414d"
      },
      "execution_count": 26,
      "outputs": [
        {
          "output_type": "stream",
          "name": "stdout",
          "text": [
            "         id                        name  \\\n",
            "0         1              Nedda Borsiere   \n",
            "1         2      Marcantonio Montalcini   \n",
            "2         3              Kimberly Mccoy   \n",
            "3         4        Sig. Ermanno Panatta   \n",
            "4         5             Mr Callum Smith   \n",
            "...     ...                         ...   \n",
            "9995   9996     Dr. Albina Butte B.Eng.   \n",
            "9996   9997          Telemaco Bresciani   \n",
            "9997   9998  Aimée Courtois de la Dupuy   \n",
            "9998   9999               Gemma Tonisto   \n",
            "9999  10000        Lukas Thanel-Liebelt   \n",
            "\n",
            "                                                address         phone_number  \\\n",
            "0     Flat 3, Clements crossroad, New Kirstyhaven, M...          07358 03966   \n",
            "1                     Heidrichgasse 11, 25921 Lippstadt    +33 1 88 39 89 23   \n",
            "2           935, chemin de Gimenez, 51225 Paul-sur-Gros            042236966   \n",
            "3                          Häringgasse 79, 72608 Goslar   +44(0)909 879 0524   \n",
            "4     Strada Pomponio, 828 Appartamento 75, 86021, M...           0422121201   \n",
            "...                                                 ...                  ...   \n",
            "9995     52, avenue Margaret Turpin, 34547 Sainte Roger        (09329) 34462   \n",
            "9996  Contrada Girolamo, 58 Appartamento 14, 06072, ...       05 33 16 33 97   \n",
            "9997               37 Alex knolls, Boltonview, HX42 3DW           3711665441   \n",
            "9998  Borgo Lara, 52, 98048, San Martino Spadafora (ME)  +49 (0) 7869 774008   \n",
            "9999             Rosalinde-Anders-Allee 6, 04128 Zossen  +49 (0) 8647 923319   \n",
            "\n",
            "             dob                                    Job  Salary  \\\n",
            "0     1968-03-18  Emergency planning/management officer  110841   \n",
            "1     1960-06-02                   Sports administrator   91911   \n",
            "2     1978-10-16                    Chirurgiemechaniker   57648   \n",
            "3     1990-09-28                               Erzieher   85800   \n",
            "4     1970-07-03                    Medizininformatiker   47078   \n",
            "...          ...                                    ...     ...   \n",
            "9995  1980-05-17                    Seismic interpreter  132315   \n",
            "9996  1981-07-27                               Erzieher   57590   \n",
            "9997  1963-01-02             Contracting civil engineer   71596   \n",
            "9998  1976-01-12                        moniteur de ski  124401   \n",
            "9999  1998-03-01                                  Actor  121113   \n",
            "\n",
            "                                                   note  \n",
            "0     Delectus distinctio libero soluta pariatur ips...  \n",
            "1     Quisquam dolorem rem alias excepturi non. Ipsa...  \n",
            "2     Hund treffen wir dir bringen Eis weinen. Schwa...  \n",
            "3     Pass national remember physical writer no head...  \n",
            "4     Commodi commodi repudiandae. Nobis sapiente hi...  \n",
            "...                                                 ...  \n",
            "9995  Commencer apporter souffrance honneur dessus l...  \n",
            "9996  Wear including produce situation reach get. Mo...  \n",
            "9997  That probably away note rest bar. Republican c...  \n",
            "9998  Tenetur cum vel reprehenderit pariatur. Nostru...  \n",
            "9999  American ever remember employee. Ago along man...  \n",
            "\n",
            "[10000 rows x 8 columns]\n"
          ]
        }
      ]
    },
    {
      "cell_type": "markdown",
      "source": [
        "Read the Dataset"
      ],
      "metadata": {
        "id": "nXnJF028geim"
      }
    },
    {
      "cell_type": "code",
      "source": [
        "import pandas as pd\n",
        "import matplotlib.pyplot as plt\n",
        "\n",
        "df = pd.read_csv('/content/customer_data.csv')\n",
        "df.head()"
      ],
      "metadata": {
        "colab": {
          "base_uri": "https://localhost:8080/",
          "height": 337
        },
        "id": "ZJim5K9dgeI0",
        "outputId": "158d6f18-8131-4ca9-ac09-577200f63e82"
      },
      "execution_count": 27,
      "outputs": [
        {
          "output_type": "execute_result",
          "data": {
            "text/plain": [
              "   id                    name  \\\n",
              "0   1          Nedda Borsiere   \n",
              "1   2  Marcantonio Montalcini   \n",
              "2   3          Kimberly Mccoy   \n",
              "3   4    Sig. Ermanno Panatta   \n",
              "4   5         Mr Callum Smith   \n",
              "\n",
              "                                             address        phone_number  \\\n",
              "0  Flat 3, Clements crossroad, New Kirstyhaven, M...         07358 03966   \n",
              "1                  Heidrichgasse 11, 25921 Lippstadt   +33 1 88 39 89 23   \n",
              "2        935, chemin de Gimenez, 51225 Paul-sur-Gros           042236966   \n",
              "3                       Häringgasse 79, 72608 Goslar  +44(0)909 879 0524   \n",
              "4  Strada Pomponio, 828 Appartamento 75, 86021, M...          0422121201   \n",
              "\n",
              "          dob                                    Job  Salary  \\\n",
              "0  1968-03-18  Emergency planning/management officer  110841   \n",
              "1  1960-06-02                   Sports administrator   91911   \n",
              "2  1978-10-16                    Chirurgiemechaniker   57648   \n",
              "3  1990-09-28                               Erzieher   85800   \n",
              "4  1970-07-03                    Medizininformatiker   47078   \n",
              "\n",
              "                                                note  \n",
              "0  Delectus distinctio libero soluta pariatur ips...  \n",
              "1  Quisquam dolorem rem alias excepturi non. Ipsa...  \n",
              "2  Hund treffen wir dir bringen Eis weinen. Schwa...  \n",
              "3  Pass national remember physical writer no head...  \n",
              "4  Commodi commodi repudiandae. Nobis sapiente hi...  "
            ],
            "text/html": [
              "\n",
              "  <div id=\"df-9e856827-527c-421e-b91f-dbe61572cf08\">\n",
              "    <div class=\"colab-df-container\">\n",
              "      <div>\n",
              "<style scoped>\n",
              "    .dataframe tbody tr th:only-of-type {\n",
              "        vertical-align: middle;\n",
              "    }\n",
              "\n",
              "    .dataframe tbody tr th {\n",
              "        vertical-align: top;\n",
              "    }\n",
              "\n",
              "    .dataframe thead th {\n",
              "        text-align: right;\n",
              "    }\n",
              "</style>\n",
              "<table border=\"1\" class=\"dataframe\">\n",
              "  <thead>\n",
              "    <tr style=\"text-align: right;\">\n",
              "      <th></th>\n",
              "      <th>id</th>\n",
              "      <th>name</th>\n",
              "      <th>address</th>\n",
              "      <th>phone_number</th>\n",
              "      <th>dob</th>\n",
              "      <th>Job</th>\n",
              "      <th>Salary</th>\n",
              "      <th>note</th>\n",
              "    </tr>\n",
              "  </thead>\n",
              "  <tbody>\n",
              "    <tr>\n",
              "      <th>0</th>\n",
              "      <td>1</td>\n",
              "      <td>Nedda Borsiere</td>\n",
              "      <td>Flat 3, Clements crossroad, New Kirstyhaven, M...</td>\n",
              "      <td>07358 03966</td>\n",
              "      <td>1968-03-18</td>\n",
              "      <td>Emergency planning/management officer</td>\n",
              "      <td>110841</td>\n",
              "      <td>Delectus distinctio libero soluta pariatur ips...</td>\n",
              "    </tr>\n",
              "    <tr>\n",
              "      <th>1</th>\n",
              "      <td>2</td>\n",
              "      <td>Marcantonio Montalcini</td>\n",
              "      <td>Heidrichgasse 11, 25921 Lippstadt</td>\n",
              "      <td>+33 1 88 39 89 23</td>\n",
              "      <td>1960-06-02</td>\n",
              "      <td>Sports administrator</td>\n",
              "      <td>91911</td>\n",
              "      <td>Quisquam dolorem rem alias excepturi non. Ipsa...</td>\n",
              "    </tr>\n",
              "    <tr>\n",
              "      <th>2</th>\n",
              "      <td>3</td>\n",
              "      <td>Kimberly Mccoy</td>\n",
              "      <td>935, chemin de Gimenez, 51225 Paul-sur-Gros</td>\n",
              "      <td>042236966</td>\n",
              "      <td>1978-10-16</td>\n",
              "      <td>Chirurgiemechaniker</td>\n",
              "      <td>57648</td>\n",
              "      <td>Hund treffen wir dir bringen Eis weinen. Schwa...</td>\n",
              "    </tr>\n",
              "    <tr>\n",
              "      <th>3</th>\n",
              "      <td>4</td>\n",
              "      <td>Sig. Ermanno Panatta</td>\n",
              "      <td>Häringgasse 79, 72608 Goslar</td>\n",
              "      <td>+44(0)909 879 0524</td>\n",
              "      <td>1990-09-28</td>\n",
              "      <td>Erzieher</td>\n",
              "      <td>85800</td>\n",
              "      <td>Pass national remember physical writer no head...</td>\n",
              "    </tr>\n",
              "    <tr>\n",
              "      <th>4</th>\n",
              "      <td>5</td>\n",
              "      <td>Mr Callum Smith</td>\n",
              "      <td>Strada Pomponio, 828 Appartamento 75, 86021, M...</td>\n",
              "      <td>0422121201</td>\n",
              "      <td>1970-07-03</td>\n",
              "      <td>Medizininformatiker</td>\n",
              "      <td>47078</td>\n",
              "      <td>Commodi commodi repudiandae. Nobis sapiente hi...</td>\n",
              "    </tr>\n",
              "  </tbody>\n",
              "</table>\n",
              "</div>\n",
              "      <button class=\"colab-df-convert\" onclick=\"convertToInteractive('df-9e856827-527c-421e-b91f-dbe61572cf08')\"\n",
              "              title=\"Convert this dataframe to an interactive table.\"\n",
              "              style=\"display:none;\">\n",
              "        \n",
              "  <svg xmlns=\"http://www.w3.org/2000/svg\" height=\"24px\"viewBox=\"0 0 24 24\"\n",
              "       width=\"24px\">\n",
              "    <path d=\"M0 0h24v24H0V0z\" fill=\"none\"/>\n",
              "    <path d=\"M18.56 5.44l.94 2.06.94-2.06 2.06-.94-2.06-.94-.94-2.06-.94 2.06-2.06.94zm-11 1L8.5 8.5l.94-2.06 2.06-.94-2.06-.94L8.5 2.5l-.94 2.06-2.06.94zm10 10l.94 2.06.94-2.06 2.06-.94-2.06-.94-.94-2.06-.94 2.06-2.06.94z\"/><path d=\"M17.41 7.96l-1.37-1.37c-.4-.4-.92-.59-1.43-.59-.52 0-1.04.2-1.43.59L10.3 9.45l-7.72 7.72c-.78.78-.78 2.05 0 2.83L4 21.41c.39.39.9.59 1.41.59.51 0 1.02-.2 1.41-.59l7.78-7.78 2.81-2.81c.8-.78.8-2.07 0-2.86zM5.41 20L4 18.59l7.72-7.72 1.47 1.35L5.41 20z\"/>\n",
              "  </svg>\n",
              "      </button>\n",
              "      \n",
              "  <style>\n",
              "    .colab-df-container {\n",
              "      display:flex;\n",
              "      flex-wrap:wrap;\n",
              "      gap: 12px;\n",
              "    }\n",
              "\n",
              "    .colab-df-convert {\n",
              "      background-color: #E8F0FE;\n",
              "      border: none;\n",
              "      border-radius: 50%;\n",
              "      cursor: pointer;\n",
              "      display: none;\n",
              "      fill: #1967D2;\n",
              "      height: 32px;\n",
              "      padding: 0 0 0 0;\n",
              "      width: 32px;\n",
              "    }\n",
              "\n",
              "    .colab-df-convert:hover {\n",
              "      background-color: #E2EBFA;\n",
              "      box-shadow: 0px 1px 2px rgba(60, 64, 67, 0.3), 0px 1px 3px 1px rgba(60, 64, 67, 0.15);\n",
              "      fill: #174EA6;\n",
              "    }\n",
              "\n",
              "    [theme=dark] .colab-df-convert {\n",
              "      background-color: #3B4455;\n",
              "      fill: #D2E3FC;\n",
              "    }\n",
              "\n",
              "    [theme=dark] .colab-df-convert:hover {\n",
              "      background-color: #434B5C;\n",
              "      box-shadow: 0px 1px 3px 1px rgba(0, 0, 0, 0.15);\n",
              "      filter: drop-shadow(0px 1px 2px rgba(0, 0, 0, 0.3));\n",
              "      fill: #FFFFFF;\n",
              "    }\n",
              "  </style>\n",
              "\n",
              "      <script>\n",
              "        const buttonEl =\n",
              "          document.querySelector('#df-9e856827-527c-421e-b91f-dbe61572cf08 button.colab-df-convert');\n",
              "        buttonEl.style.display =\n",
              "          google.colab.kernel.accessAllowed ? 'block' : 'none';\n",
              "\n",
              "        async function convertToInteractive(key) {\n",
              "          const element = document.querySelector('#df-9e856827-527c-421e-b91f-dbe61572cf08');\n",
              "          const dataTable =\n",
              "            await google.colab.kernel.invokeFunction('convertToInteractive',\n",
              "                                                     [key], {});\n",
              "          if (!dataTable) return;\n",
              "\n",
              "          const docLinkHtml = 'Like what you see? Visit the ' +\n",
              "            '<a target=\"_blank\" href=https://colab.research.google.com/notebooks/data_table.ipynb>data table notebook</a>'\n",
              "            + ' to learn more about interactive tables.';\n",
              "          element.innerHTML = '';\n",
              "          dataTable['output_type'] = 'display_data';\n",
              "          await google.colab.output.renderOutput(dataTable, element);\n",
              "          const docLink = document.createElement('div');\n",
              "          docLink.innerHTML = docLinkHtml;\n",
              "          element.appendChild(docLink);\n",
              "        }\n",
              "      </script>\n",
              "    </div>\n",
              "  </div>\n",
              "  "
            ]
          },
          "metadata": {},
          "execution_count": 27
        }
      ]
    },
    {
      "cell_type": "code",
      "source": [
        "df.columns"
      ],
      "metadata": {
        "colab": {
          "base_uri": "https://localhost:8080/"
        },
        "id": "0cbdL8y8gic-",
        "outputId": "49796620-0a1a-42ca-f420-75773f45620e"
      },
      "execution_count": 28,
      "outputs": [
        {
          "output_type": "execute_result",
          "data": {
            "text/plain": [
              "Index(['id', 'name', 'address', 'phone_number', 'dob', 'Job', 'Salary',\n",
              "       'note'],\n",
              "      dtype='object')"
            ]
          },
          "metadata": {},
          "execution_count": 28
        }
      ]
    },
    {
      "cell_type": "code",
      "source": [
        "df.shape"
      ],
      "metadata": {
        "colab": {
          "base_uri": "https://localhost:8080/"
        },
        "id": "qIIQLh-BgjWe",
        "outputId": "7ad097a3-eaa2-41a9-eed7-d38cae2641d1"
      },
      "execution_count": 30,
      "outputs": [
        {
          "output_type": "execute_result",
          "data": {
            "text/plain": [
              "(10000, 8)"
            ]
          },
          "metadata": {},
          "execution_count": 30
        }
      ]
    },
    {
      "cell_type": "code",
      "source": [
        "df.info()"
      ],
      "metadata": {
        "colab": {
          "base_uri": "https://localhost:8080/"
        },
        "id": "FyfLyIY5gmQx",
        "outputId": "b4947174-4ed9-44a4-96bf-df79ef8ee4c7"
      },
      "execution_count": 31,
      "outputs": [
        {
          "output_type": "stream",
          "name": "stdout",
          "text": [
            "<class 'pandas.core.frame.DataFrame'>\n",
            "RangeIndex: 10000 entries, 0 to 9999\n",
            "Data columns (total 8 columns):\n",
            " #   Column        Non-Null Count  Dtype \n",
            "---  ------        --------------  ----- \n",
            " 0   id            10000 non-null  int64 \n",
            " 1   name          10000 non-null  object\n",
            " 2   address       10000 non-null  object\n",
            " 3   phone_number  10000 non-null  object\n",
            " 4   dob           10000 non-null  object\n",
            " 5   Job           10000 non-null  object\n",
            " 6   Salary        10000 non-null  int64 \n",
            " 7   note          10000 non-null  object\n",
            "dtypes: int64(2), object(6)\n",
            "memory usage: 625.1+ KB\n"
          ]
        }
      ]
    },
    {
      "cell_type": "code",
      "source": [
        "df['Salary'].plot.hist();"
      ],
      "metadata": {
        "colab": {
          "base_uri": "https://localhost:8080/",
          "height": 265
        },
        "id": "_zlGtQoBgtY3",
        "outputId": "e5d81e90-c87e-4626-883a-855928644a9b"
      },
      "execution_count": 32,
      "outputs": [
        {
          "output_type": "display_data",
          "data": {
            "text/plain": [
              "<Figure size 432x288 with 1 Axes>"
            ],
            "image/png": "[encoded data removed]"
          },
          "metadata": {
            "needs_background": "light"
          }
        }
      ]
    }
  ]
}