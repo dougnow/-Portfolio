{
 "cells": [
  {
   "cell_type": "markdown",
   "id": "856d134d",
   "metadata": {},
   "source": [
    " ### PRÁCTICA FINAL DEL CURSO\n",
    " \n",
    " #### Estudiante: Richard Douglas Grijalba\n",
    " \n",
    " #### Modalidad Virutal  - Grow Up."
   ]
  },
  {
   "cell_type": "markdown",
   "id": "79fb331a",
   "metadata": {},
   "source": [
    "#### Se solicita: \n",
    "* Realice carga de los paquetes necesarios para ejecutar el análisis\n",
    "* cargue el conunto de datos y realice la exploración de la información\n",
    "* Ejecute un Análisi Exploratorio que debe contar con lo siguiente:\n",
    "        -Valide si existen valores nulos\n",
    "        -revise si las variables de gasto contiene valores atípicos y la distribucion de los datos (en caso de existir                    debe tratarlos)\n",
    "        -Realice Matrix de Correlación\n",
    "        \n",
    "* Convierta las variables categóricas de texto en variables categóricas numéricas (ejemplo con get_dummies)\n",
    "* Separar los datos en un conjunto de datos de entrenamiento y de prueba\n",
    "* Estandarice las variables X del conunto de dato s(X_train) para ello puede utilizar ejemplo StandarScaler\n",
    "* Realice Tres diferentes modelos de regresión para luego validar cual brinda la mejor precisión (SVR, Lasso, XGBoost)\n",
    "* Evalúa el modelo con 2 diferentes métricas para validar su precisión\n",
    "* Seleccione el algrotimo e indicar porqué fue seleccionado."
   ]
  },
  {
   "cell_type": "markdown",
   "id": "505eccd4",
   "metadata": {},
   "source": [
    "**Informacion del Dataset**\n",
    "\n",
    "**Detalle de las columnas:**\n",
    "\n",
    "* Serial No. = # de Folio de Admisión\n",
    "* GRE Score = Puntaje de exámenes de registros de graduados.\n",
    "* TOEFL Score = Prueba de puntaje de inglés como lengua extranjera \n",
    "* University Rating = Rango de la Universidad\n",
    "* CGPA=Promedio de Calificaciones Acumulativo\n",
    "* Research = Investigación\n",
    "* Chance of Admit = Posibilidad de Admisión "
   ]
  },
  {
   "attachments": {},
   "cell_type": "markdown",
   "id": "c7817f6a",
   "metadata": {},
   "source": [
    "### 1-Carga y Exploración de Datos"
   ]
  },
  {
   "cell_type": "code",
   "execution_count": 1,
   "id": "84dcaeb8",
   "metadata": {},
   "outputs": [],
   "source": [
    "# importar algunas librerias \n",
    "import numpy as np\n",
    "import pandas as pd\n",
    "import matplotlib.pyplot as plt\n",
    "import seaborn as sns\n",
    "import warnings\n",
    "warnings.filterwarnings(\"ignore\")"
   ]
  },
  {
   "cell_type": "markdown",
   "id": "32f2260a",
   "metadata": {},
   "source": [
    "**Importación de los Datos**"
   ]
  },
  {
   "cell_type": "code",
   "execution_count": 2,
   "id": "a4263ebf",
   "metadata": {},
   "outputs": [
    {
     "data": {
      "text/html": [
       "<div>\n",
       "<style scoped>\n",
       "    .dataframe tbody tr th:only-of-type {\n",
       "        vertical-align: middle;\n",
       "    }\n",
       "\n",
       "    .dataframe tbody tr th {\n",
       "        vertical-align: top;\n",
       "    }\n",
       "\n",
       "    .dataframe thead th {\n",
       "        text-align: right;\n",
       "    }\n",
       "</style>\n",
       "<table border=\"1\" class=\"dataframe\">\n",
       "  <thead>\n",
       "    <tr style=\"text-align: right;\">\n",
       "      <th></th>\n",
       "      <th>Serial No.</th>\n",
       "      <th>GRE Score</th>\n",
       "      <th>TOEFL Score</th>\n",
       "      <th>University Rating</th>\n",
       "      <th>SOP</th>\n",
       "      <th>LOR</th>\n",
       "      <th>CGPA</th>\n",
       "      <th>Research</th>\n",
       "      <th>Chance of Admit</th>\n",
       "    </tr>\n",
       "  </thead>\n",
       "  <tbody>\n",
       "    <tr>\n",
       "      <th>0</th>\n",
       "      <td>1</td>\n",
       "      <td>337</td>\n",
       "      <td>118</td>\n",
       "      <td>4</td>\n",
       "      <td>4.5</td>\n",
       "      <td>4.5</td>\n",
       "      <td>9.65</td>\n",
       "      <td>1</td>\n",
       "      <td>0.92</td>\n",
       "    </tr>\n",
       "    <tr>\n",
       "      <th>1</th>\n",
       "      <td>2</td>\n",
       "      <td>324</td>\n",
       "      <td>107</td>\n",
       "      <td>4</td>\n",
       "      <td>4.0</td>\n",
       "      <td>4.5</td>\n",
       "      <td>8.87</td>\n",
       "      <td>1</td>\n",
       "      <td>0.76</td>\n",
       "    </tr>\n",
       "    <tr>\n",
       "      <th>2</th>\n",
       "      <td>3</td>\n",
       "      <td>316</td>\n",
       "      <td>104</td>\n",
       "      <td>3</td>\n",
       "      <td>3.0</td>\n",
       "      <td>3.5</td>\n",
       "      <td>8.00</td>\n",
       "      <td>1</td>\n",
       "      <td>0.72</td>\n",
       "    </tr>\n",
       "    <tr>\n",
       "      <th>3</th>\n",
       "      <td>4</td>\n",
       "      <td>322</td>\n",
       "      <td>110</td>\n",
       "      <td>3</td>\n",
       "      <td>3.5</td>\n",
       "      <td>2.5</td>\n",
       "      <td>8.67</td>\n",
       "      <td>1</td>\n",
       "      <td>0.80</td>\n",
       "    </tr>\n",
       "    <tr>\n",
       "      <th>4</th>\n",
       "      <td>5</td>\n",
       "      <td>314</td>\n",
       "      <td>103</td>\n",
       "      <td>2</td>\n",
       "      <td>2.0</td>\n",
       "      <td>3.0</td>\n",
       "      <td>8.21</td>\n",
       "      <td>0</td>\n",
       "      <td>0.65</td>\n",
       "    </tr>\n",
       "  </tbody>\n",
       "</table>\n",
       "</div>"
      ],
      "text/plain": [
       "   Serial No.  GRE Score  TOEFL Score  University Rating  SOP  LOR   CGPA  \\\n",
       "0           1        337          118                  4  4.5   4.5  9.65   \n",
       "1           2        324          107                  4  4.0   4.5  8.87   \n",
       "2           3        316          104                  3  3.0   3.5  8.00   \n",
       "3           4        322          110                  3  3.5   2.5  8.67   \n",
       "4           5        314          103                  2  2.0   3.0  8.21   \n",
       "\n",
       "   Research  Chance of Admit   \n",
       "0         1              0.92  \n",
       "1         1              0.76  \n",
       "2         1              0.72  \n",
       "3         1              0.80  \n",
       "4         0              0.65  "
      ]
     },
     "execution_count": 2,
     "metadata": {},
     "output_type": "execute_result"
    }
   ],
   "source": [
    "df = pd.read_csv('C:\\\\Users\\\\Rdouglas\\\\Documents\\\\Python Scripts\\\\M_dat_final_ML_regresion\\\\Admisiones.csv')\n",
    "\n",
    "df.head()"
   ]
  },
  {
   "cell_type": "markdown",
   "id": "42fab9e3",
   "metadata": {},
   "source": [
    "**Revisión de los Datos**"
   ]
  },
  {
   "cell_type": "code",
   "execution_count": 3,
   "id": "4d866374",
   "metadata": {},
   "outputs": [
    {
     "data": {
      "text/html": [
       "<div>\n",
       "<style scoped>\n",
       "    .dataframe tbody tr th:only-of-type {\n",
       "        vertical-align: middle;\n",
       "    }\n",
       "\n",
       "    .dataframe tbody tr th {\n",
       "        vertical-align: top;\n",
       "    }\n",
       "\n",
       "    .dataframe thead th {\n",
       "        text-align: right;\n",
       "    }\n",
       "</style>\n",
       "<table border=\"1\" class=\"dataframe\">\n",
       "  <thead>\n",
       "    <tr style=\"text-align: right;\">\n",
       "      <th></th>\n",
       "      <th>Serial No.</th>\n",
       "      <th>GRE Score</th>\n",
       "      <th>TOEFL Score</th>\n",
       "      <th>University Rating</th>\n",
       "      <th>SOP</th>\n",
       "      <th>LOR</th>\n",
       "      <th>CGPA</th>\n",
       "      <th>Research</th>\n",
       "      <th>Chance of Admit</th>\n",
       "    </tr>\n",
       "  </thead>\n",
       "  <tbody>\n",
       "    <tr>\n",
       "      <th>0</th>\n",
       "      <td>1</td>\n",
       "      <td>337</td>\n",
       "      <td>118</td>\n",
       "      <td>4</td>\n",
       "      <td>4.5</td>\n",
       "      <td>4.5</td>\n",
       "      <td>9.65</td>\n",
       "      <td>1</td>\n",
       "      <td>0.92</td>\n",
       "    </tr>\n",
       "    <tr>\n",
       "      <th>1</th>\n",
       "      <td>2</td>\n",
       "      <td>324</td>\n",
       "      <td>107</td>\n",
       "      <td>4</td>\n",
       "      <td>4.0</td>\n",
       "      <td>4.5</td>\n",
       "      <td>8.87</td>\n",
       "      <td>1</td>\n",
       "      <td>0.76</td>\n",
       "    </tr>\n",
       "    <tr>\n",
       "      <th>2</th>\n",
       "      <td>3</td>\n",
       "      <td>316</td>\n",
       "      <td>104</td>\n",
       "      <td>3</td>\n",
       "      <td>3.0</td>\n",
       "      <td>3.5</td>\n",
       "      <td>8.00</td>\n",
       "      <td>1</td>\n",
       "      <td>0.72</td>\n",
       "    </tr>\n",
       "    <tr>\n",
       "      <th>3</th>\n",
       "      <td>4</td>\n",
       "      <td>322</td>\n",
       "      <td>110</td>\n",
       "      <td>3</td>\n",
       "      <td>3.5</td>\n",
       "      <td>2.5</td>\n",
       "      <td>8.67</td>\n",
       "      <td>1</td>\n",
       "      <td>0.80</td>\n",
       "    </tr>\n",
       "    <tr>\n",
       "      <th>4</th>\n",
       "      <td>5</td>\n",
       "      <td>314</td>\n",
       "      <td>103</td>\n",
       "      <td>2</td>\n",
       "      <td>2.0</td>\n",
       "      <td>3.0</td>\n",
       "      <td>8.21</td>\n",
       "      <td>0</td>\n",
       "      <td>0.65</td>\n",
       "    </tr>\n",
       "  </tbody>\n",
       "</table>\n",
       "</div>"
      ],
      "text/plain": [
       "   Serial No.  GRE Score  TOEFL Score  University Rating  SOP  LOR   CGPA  \\\n",
       "0           1        337          118                  4  4.5   4.5  9.65   \n",
       "1           2        324          107                  4  4.0   4.5  8.87   \n",
       "2           3        316          104                  3  3.0   3.5  8.00   \n",
       "3           4        322          110                  3  3.5   2.5  8.67   \n",
       "4           5        314          103                  2  2.0   3.0  8.21   \n",
       "\n",
       "   Research  Chance of Admit   \n",
       "0         1              0.92  \n",
       "1         1              0.76  \n",
       "2         1              0.72  \n",
       "3         1              0.80  \n",
       "4         0              0.65  "
      ]
     },
     "execution_count": 3,
     "metadata": {},
     "output_type": "execute_result"
    }
   ],
   "source": [
    "df.head()  # se presentan los primeros datos del dataset"
   ]
  },
  {
   "cell_type": "code",
   "execution_count": 4,
   "id": "9c9afe77",
   "metadata": {},
   "outputs": [
    {
     "data": {
      "text/html": [
       "<div>\n",
       "<style scoped>\n",
       "    .dataframe tbody tr th:only-of-type {\n",
       "        vertical-align: middle;\n",
       "    }\n",
       "\n",
       "    .dataframe tbody tr th {\n",
       "        vertical-align: top;\n",
       "    }\n",
       "\n",
       "    .dataframe thead th {\n",
       "        text-align: right;\n",
       "    }\n",
       "</style>\n",
       "<table border=\"1\" class=\"dataframe\">\n",
       "  <thead>\n",
       "    <tr style=\"text-align: right;\">\n",
       "      <th></th>\n",
       "      <th>Serial No.</th>\n",
       "      <th>GRE Score</th>\n",
       "      <th>TOEFL Score</th>\n",
       "      <th>University Rating</th>\n",
       "      <th>SOP</th>\n",
       "      <th>LOR</th>\n",
       "      <th>CGPA</th>\n",
       "      <th>Research</th>\n",
       "      <th>Chance of Admit</th>\n",
       "    </tr>\n",
       "  </thead>\n",
       "  <tbody>\n",
       "    <tr>\n",
       "      <th>395</th>\n",
       "      <td>396</td>\n",
       "      <td>324</td>\n",
       "      <td>110</td>\n",
       "      <td>3</td>\n",
       "      <td>3.5</td>\n",
       "      <td>3.5</td>\n",
       "      <td>9.04</td>\n",
       "      <td>1</td>\n",
       "      <td>0.82</td>\n",
       "    </tr>\n",
       "    <tr>\n",
       "      <th>396</th>\n",
       "      <td>397</td>\n",
       "      <td>325</td>\n",
       "      <td>107</td>\n",
       "      <td>3</td>\n",
       "      <td>3.0</td>\n",
       "      <td>3.5</td>\n",
       "      <td>9.11</td>\n",
       "      <td>1</td>\n",
       "      <td>0.84</td>\n",
       "    </tr>\n",
       "    <tr>\n",
       "      <th>397</th>\n",
       "      <td>398</td>\n",
       "      <td>330</td>\n",
       "      <td>116</td>\n",
       "      <td>4</td>\n",
       "      <td>5.0</td>\n",
       "      <td>4.5</td>\n",
       "      <td>9.45</td>\n",
       "      <td>1</td>\n",
       "      <td>0.91</td>\n",
       "    </tr>\n",
       "    <tr>\n",
       "      <th>398</th>\n",
       "      <td>399</td>\n",
       "      <td>312</td>\n",
       "      <td>103</td>\n",
       "      <td>3</td>\n",
       "      <td>3.5</td>\n",
       "      <td>4.0</td>\n",
       "      <td>8.78</td>\n",
       "      <td>0</td>\n",
       "      <td>0.67</td>\n",
       "    </tr>\n",
       "    <tr>\n",
       "      <th>399</th>\n",
       "      <td>400</td>\n",
       "      <td>333</td>\n",
       "      <td>117</td>\n",
       "      <td>4</td>\n",
       "      <td>5.0</td>\n",
       "      <td>4.0</td>\n",
       "      <td>9.66</td>\n",
       "      <td>1</td>\n",
       "      <td>0.95</td>\n",
       "    </tr>\n",
       "  </tbody>\n",
       "</table>\n",
       "</div>"
      ],
      "text/plain": [
       "     Serial No.  GRE Score  TOEFL Score  University Rating  SOP  LOR   CGPA  \\\n",
       "395         396        324          110                  3  3.5   3.5  9.04   \n",
       "396         397        325          107                  3  3.0   3.5  9.11   \n",
       "397         398        330          116                  4  5.0   4.5  9.45   \n",
       "398         399        312          103                  3  3.5   4.0  8.78   \n",
       "399         400        333          117                  4  5.0   4.0  9.66   \n",
       "\n",
       "     Research  Chance of Admit   \n",
       "395         1              0.82  \n",
       "396         1              0.84  \n",
       "397         1              0.91  \n",
       "398         0              0.67  \n",
       "399         1              0.95  "
      ]
     },
     "execution_count": 4,
     "metadata": {},
     "output_type": "execute_result"
    }
   ],
   "source": [
    "df.tail()"
   ]
  },
  {
   "cell_type": "markdown",
   "id": "f78a0e70",
   "metadata": {},
   "source": [
    "**Realizar una revisión del tamaño de las dimensiones del dataframe.**"
   ]
  },
  {
   "cell_type": "code",
   "execution_count": 5,
   "id": "ce8b8e7f",
   "metadata": {},
   "outputs": [
    {
     "name": "stdout",
     "output_type": "stream",
     "text": [
      "Dimensiones: (400, 9)\n",
      "---\n",
      "Nombre de Columnas: \n",
      "Index(['Serial No.', 'GRE Score', 'TOEFL Score', 'University Rating', 'SOP',\n",
      "       'LOR ', 'CGPA', 'Research', 'Chance of Admit '],\n",
      "      dtype='object')\n",
      "---\n",
      "Tipos de Variables\n",
      "Serial No.             int64\n",
      "GRE Score              int64\n",
      "TOEFL Score            int64\n",
      "University Rating      int64\n",
      "SOP                  float64\n",
      "LOR                  float64\n",
      "CGPA                 float64\n",
      "Research               int64\n",
      "Chance of Admit      float64\n",
      "dtype: object\n"
     ]
    }
   ],
   "source": [
    "# Realizar una revisión del tamaño de las dimensiones del dataframe.\n",
    "\n",
    "print('Dimensiones: '+str(df.shape))\n",
    "print('---')\n",
    "\n",
    "#podemos revisar el nombre de las columnas presentes en el dataframe \n",
    "print('Nombre de Columnas: ')\n",
    "print(df.columns)\n",
    "print('---')\n",
    "\n",
    "# se puede tambien revisar el de dato de cada columnas\n",
    "print('Tipos de Variables')\n",
    "print(df.dtypes)"
   ]
  },
  {
   "cell_type": "code",
   "execution_count": 6,
   "id": "b1698f83",
   "metadata": {},
   "outputs": [
    {
     "name": "stdout",
     "output_type": "stream",
     "text": [
      "Numero de filas: 400\n",
      "Numero de Columnas: 9\n"
     ]
    }
   ],
   "source": [
    "print(\"Numero de filas: \"+ str(df.shape[0]))\n",
    "print(\"Numero de Columnas: \"+ str(df.shape[1]))"
   ]
  },
  {
   "cell_type": "code",
   "execution_count": 7,
   "id": "b8efa83e",
   "metadata": {},
   "outputs": [
    {
     "name": "stdout",
     "output_type": "stream",
     "text": [
      "<class 'pandas.core.frame.DataFrame'>\n",
      "RangeIndex: 400 entries, 0 to 399\n",
      "Data columns (total 9 columns):\n",
      " #   Column             Non-Null Count  Dtype  \n",
      "---  ------             --------------  -----  \n",
      " 0   Serial No.         400 non-null    int64  \n",
      " 1   GRE Score          400 non-null    int64  \n",
      " 2   TOEFL Score        400 non-null    int64  \n",
      " 3   University Rating  400 non-null    int64  \n",
      " 4   SOP                400 non-null    float64\n",
      " 5   LOR                400 non-null    float64\n",
      " 6   CGPA               400 non-null    float64\n",
      " 7   Research           400 non-null    int64  \n",
      " 8   Chance of Admit    400 non-null    float64\n",
      "dtypes: float64(4), int64(5)\n",
      "memory usage: 28.2 KB\n"
     ]
    }
   ],
   "source": [
    "df.info()  # se procede a presentar la información general de los datos"
   ]
  },
  {
   "cell_type": "markdown",
   "id": "72bd04d5",
   "metadata": {},
   "source": [
    "**Exploración de Información Estadística del Data Frame**"
   ]
  },
  {
   "cell_type": "code",
   "execution_count": 8,
   "id": "a6d42522",
   "metadata": {},
   "outputs": [
    {
     "data": {
      "text/html": [
       "<div>\n",
       "<style scoped>\n",
       "    .dataframe tbody tr th:only-of-type {\n",
       "        vertical-align: middle;\n",
       "    }\n",
       "\n",
       "    .dataframe tbody tr th {\n",
       "        vertical-align: top;\n",
       "    }\n",
       "\n",
       "    .dataframe thead th {\n",
       "        text-align: right;\n",
       "    }\n",
       "</style>\n",
       "<table border=\"1\" class=\"dataframe\">\n",
       "  <thead>\n",
       "    <tr style=\"text-align: right;\">\n",
       "      <th></th>\n",
       "      <th>Serial No.</th>\n",
       "      <th>GRE Score</th>\n",
       "      <th>TOEFL Score</th>\n",
       "      <th>University Rating</th>\n",
       "      <th>SOP</th>\n",
       "      <th>LOR</th>\n",
       "      <th>CGPA</th>\n",
       "      <th>Research</th>\n",
       "      <th>Chance of Admit</th>\n",
       "    </tr>\n",
       "  </thead>\n",
       "  <tbody>\n",
       "    <tr>\n",
       "      <th>count</th>\n",
       "      <td>400.000000</td>\n",
       "      <td>400.000000</td>\n",
       "      <td>400.000000</td>\n",
       "      <td>400.000000</td>\n",
       "      <td>400.000000</td>\n",
       "      <td>400.000000</td>\n",
       "      <td>400.000000</td>\n",
       "      <td>400.000000</td>\n",
       "      <td>400.000000</td>\n",
       "    </tr>\n",
       "    <tr>\n",
       "      <th>mean</th>\n",
       "      <td>200.500000</td>\n",
       "      <td>316.807500</td>\n",
       "      <td>107.410000</td>\n",
       "      <td>3.087500</td>\n",
       "      <td>3.400000</td>\n",
       "      <td>3.452500</td>\n",
       "      <td>8.598925</td>\n",
       "      <td>0.547500</td>\n",
       "      <td>0.724350</td>\n",
       "    </tr>\n",
       "    <tr>\n",
       "      <th>std</th>\n",
       "      <td>115.614301</td>\n",
       "      <td>11.473646</td>\n",
       "      <td>6.069514</td>\n",
       "      <td>1.143728</td>\n",
       "      <td>1.006869</td>\n",
       "      <td>0.898478</td>\n",
       "      <td>0.596317</td>\n",
       "      <td>0.498362</td>\n",
       "      <td>0.142609</td>\n",
       "    </tr>\n",
       "    <tr>\n",
       "      <th>min</th>\n",
       "      <td>1.000000</td>\n",
       "      <td>290.000000</td>\n",
       "      <td>92.000000</td>\n",
       "      <td>1.000000</td>\n",
       "      <td>1.000000</td>\n",
       "      <td>1.000000</td>\n",
       "      <td>6.800000</td>\n",
       "      <td>0.000000</td>\n",
       "      <td>0.340000</td>\n",
       "    </tr>\n",
       "    <tr>\n",
       "      <th>25%</th>\n",
       "      <td>100.750000</td>\n",
       "      <td>308.000000</td>\n",
       "      <td>103.000000</td>\n",
       "      <td>2.000000</td>\n",
       "      <td>2.500000</td>\n",
       "      <td>3.000000</td>\n",
       "      <td>8.170000</td>\n",
       "      <td>0.000000</td>\n",
       "      <td>0.640000</td>\n",
       "    </tr>\n",
       "    <tr>\n",
       "      <th>50%</th>\n",
       "      <td>200.500000</td>\n",
       "      <td>317.000000</td>\n",
       "      <td>107.000000</td>\n",
       "      <td>3.000000</td>\n",
       "      <td>3.500000</td>\n",
       "      <td>3.500000</td>\n",
       "      <td>8.610000</td>\n",
       "      <td>1.000000</td>\n",
       "      <td>0.730000</td>\n",
       "    </tr>\n",
       "    <tr>\n",
       "      <th>75%</th>\n",
       "      <td>300.250000</td>\n",
       "      <td>325.000000</td>\n",
       "      <td>112.000000</td>\n",
       "      <td>4.000000</td>\n",
       "      <td>4.000000</td>\n",
       "      <td>4.000000</td>\n",
       "      <td>9.062500</td>\n",
       "      <td>1.000000</td>\n",
       "      <td>0.830000</td>\n",
       "    </tr>\n",
       "    <tr>\n",
       "      <th>max</th>\n",
       "      <td>400.000000</td>\n",
       "      <td>340.000000</td>\n",
       "      <td>120.000000</td>\n",
       "      <td>5.000000</td>\n",
       "      <td>5.000000</td>\n",
       "      <td>5.000000</td>\n",
       "      <td>9.920000</td>\n",
       "      <td>1.000000</td>\n",
       "      <td>0.970000</td>\n",
       "    </tr>\n",
       "  </tbody>\n",
       "</table>\n",
       "</div>"
      ],
      "text/plain": [
       "       Serial No.   GRE Score  TOEFL Score  University Rating         SOP  \\\n",
       "count  400.000000  400.000000   400.000000         400.000000  400.000000   \n",
       "mean   200.500000  316.807500   107.410000           3.087500    3.400000   \n",
       "std    115.614301   11.473646     6.069514           1.143728    1.006869   \n",
       "min      1.000000  290.000000    92.000000           1.000000    1.000000   \n",
       "25%    100.750000  308.000000   103.000000           2.000000    2.500000   \n",
       "50%    200.500000  317.000000   107.000000           3.000000    3.500000   \n",
       "75%    300.250000  325.000000   112.000000           4.000000    4.000000   \n",
       "max    400.000000  340.000000   120.000000           5.000000    5.000000   \n",
       "\n",
       "             LOR         CGPA    Research  Chance of Admit   \n",
       "count  400.000000  400.000000  400.000000        400.000000  \n",
       "mean     3.452500    8.598925    0.547500          0.724350  \n",
       "std      0.898478    0.596317    0.498362          0.142609  \n",
       "min      1.000000    6.800000    0.000000          0.340000  \n",
       "25%      3.000000    8.170000    0.000000          0.640000  \n",
       "50%      3.500000    8.610000    1.000000          0.730000  \n",
       "75%      4.000000    9.062500    1.000000          0.830000  \n",
       "max      5.000000    9.920000    1.000000          0.970000  "
      ]
     },
     "execution_count": 8,
     "metadata": {},
     "output_type": "execute_result"
    }
   ],
   "source": [
    "df.describe()"
   ]
  },
  {
   "cell_type": "markdown",
   "id": "0b0c94cd",
   "metadata": {},
   "source": [
    "**Revision de Valores Nulos**"
   ]
  },
  {
   "cell_type": "code",
   "execution_count": 9,
   "id": "1ae6fd41",
   "metadata": {},
   "outputs": [
    {
     "data": {
      "text/plain": [
       "Serial No.           False\n",
       "GRE Score            False\n",
       "TOEFL Score          False\n",
       "University Rating    False\n",
       "SOP                  False\n",
       "LOR                  False\n",
       "CGPA                 False\n",
       "Research             False\n",
       "Chance of Admit      False\n",
       "dtype: bool"
      ]
     },
     "execution_count": 9,
     "metadata": {},
     "output_type": "execute_result"
    }
   ],
   "source": [
    "df.isna().any()"
   ]
  },
  {
   "cell_type": "code",
   "execution_count": 10,
   "id": "1245510d",
   "metadata": {},
   "outputs": [
    {
     "data": {
      "text/plain": [
       "Serial No.           0\n",
       "GRE Score            0\n",
       "TOEFL Score          0\n",
       "University Rating    0\n",
       "SOP                  0\n",
       "LOR                  0\n",
       "CGPA                 0\n",
       "Research             0\n",
       "Chance of Admit      0\n",
       "dtype: int64"
      ]
     },
     "execution_count": 10,
     "metadata": {},
     "output_type": "execute_result"
    }
   ],
   "source": [
    "df.isnull().sum()"
   ]
  },
  {
   "cell_type": "code",
   "execution_count": 11,
   "id": "5d094507",
   "metadata": {},
   "outputs": [
    {
     "data": {
      "text/plain": [
       "Serial No.           0\n",
       "GRE Score            0\n",
       "TOEFL Score          0\n",
       "University Rating    0\n",
       "SOP                  0\n",
       "LOR                  0\n",
       "CGPA                 0\n",
       "Research             0\n",
       "Chance of Admit      0\n",
       "dtype: int64"
      ]
     },
     "execution_count": 11,
     "metadata": {},
     "output_type": "execute_result"
    }
   ],
   "source": [
    "df.isna().sum()"
   ]
  },
  {
   "cell_type": "markdown",
   "id": "df780bf8",
   "metadata": {},
   "source": [
    "### Realice el EDA - Análisi Exploratorio de Datos\n",
    "\n",
    "**Se procede a utilizar parte de las funciones aprendidas en el desarrollo de cursos previos**"
   ]
  },
  {
   "cell_type": "code",
   "execution_count": 12,
   "id": "ee114539",
   "metadata": {},
   "outputs": [],
   "source": [
    "def explorarVariableContinua(pDatos,pAtributo,l=30,b=8):\n",
    "    plt.figure(figsize=(l,b))\n",
    "    plt.subplot(131)\n",
    "    sns.histplot(pDatos[pAtributo],kde= True)\n",
    "    plt.xlabel(pAtributo)\n",
    "    plt.title(\"Distribucion de Variables: \"+pAtributo)\n",
    "    plt.subplot(132)\n",
    "    sns.set_style('whitegrid')\n",
    "    ax= sns.boxplot(y=pAtributo,data=pDatos)\n",
    "    ax=sns.stripplot(y=pAtributo,data=pDatos, color=\"0.8\")\n",
    "    plt.title(\"Distribucion de Variable: \"+pAtributo)\n",
    "    plt.show()\n",
    "    \n",
    "    \n",
    "def explorarVariableCategorica(pDatos, pAtributo, l=30, b=8):\n",
    "    plt.figure(figsize= (l,b))\n",
    "    plt.subplot(131)\n",
    "    sns.countplot(pDatos[pAtributo], order = pDatos[pAtributo].value_counts().index)\n",
    "    plt.title(\"distribucion de Variable: \"+pAtributo)\n",
    "    plt.subplot(132)\n",
    "    pDatos[pAtributo].value_counts().plot(kind='pie', autopct= \"%0.1f %%\")\n",
    "    plt.title(\"Grafico de Pastel: \"+pAtributo)\n",
    "    plt.show()"
   ]
  },
  {
   "cell_type": "code",
   "execution_count": 13,
   "id": "3d8b4b5a",
   "metadata": {},
   "outputs": [
    {
     "data": {
      "text/plain": [
       "Index(['Serial No.', 'GRE Score', 'TOEFL Score', 'University Rating', 'SOP',\n",
       "       'LOR ', 'CGPA', 'Research', 'Chance of Admit '],\n",
       "      dtype='object')"
      ]
     },
     "execution_count": 13,
     "metadata": {},
     "output_type": "execute_result"
    }
   ],
   "source": [
    "df.columns"
   ]
  },
  {
   "cell_type": "code",
   "execution_count": 14,
   "id": "860b3a13",
   "metadata": {},
   "outputs": [
    {
     "data": {
      "text/plain": [
       "Index(['Serial No.', 'GRE Score', 'TOEFL Score', 'University Rating', 'SOP',\n",
       "       'LOR', 'CGPA', 'Research', 'Chance_of_Admit'],\n",
       "      dtype='object')"
      ]
     },
     "execution_count": 14,
     "metadata": {},
     "output_type": "execute_result"
    }
   ],
   "source": [
    "df.rename(columns={'LOR ':'LOR' , 'Chance of Admit ' :'Chance_of_Admit'}, inplace=True)\n",
    "df.columns"
   ]
  },
  {
   "cell_type": "code",
   "execution_count": 15,
   "id": "734bb44c",
   "metadata": {},
   "outputs": [
    {
     "data": {
      "text/html": [
       "<div>\n",
       "<style scoped>\n",
       "    .dataframe tbody tr th:only-of-type {\n",
       "        vertical-align: middle;\n",
       "    }\n",
       "\n",
       "    .dataframe tbody tr th {\n",
       "        vertical-align: top;\n",
       "    }\n",
       "\n",
       "    .dataframe thead th {\n",
       "        text-align: right;\n",
       "    }\n",
       "</style>\n",
       "<table border=\"1\" class=\"dataframe\">\n",
       "  <thead>\n",
       "    <tr style=\"text-align: right;\">\n",
       "      <th></th>\n",
       "      <th>GRE Score</th>\n",
       "      <th>TOEFL Score</th>\n",
       "      <th>University Rating</th>\n",
       "      <th>SOP</th>\n",
       "      <th>LOR</th>\n",
       "      <th>CGPA</th>\n",
       "      <th>Research</th>\n",
       "      <th>Chance_of_Admit</th>\n",
       "    </tr>\n",
       "  </thead>\n",
       "  <tbody>\n",
       "    <tr>\n",
       "      <th>0</th>\n",
       "      <td>337</td>\n",
       "      <td>118</td>\n",
       "      <td>4</td>\n",
       "      <td>4.5</td>\n",
       "      <td>4.5</td>\n",
       "      <td>9.65</td>\n",
       "      <td>1</td>\n",
       "      <td>0.92</td>\n",
       "    </tr>\n",
       "    <tr>\n",
       "      <th>1</th>\n",
       "      <td>324</td>\n",
       "      <td>107</td>\n",
       "      <td>4</td>\n",
       "      <td>4.0</td>\n",
       "      <td>4.5</td>\n",
       "      <td>8.87</td>\n",
       "      <td>1</td>\n",
       "      <td>0.76</td>\n",
       "    </tr>\n",
       "    <tr>\n",
       "      <th>2</th>\n",
       "      <td>316</td>\n",
       "      <td>104</td>\n",
       "      <td>3</td>\n",
       "      <td>3.0</td>\n",
       "      <td>3.5</td>\n",
       "      <td>8.00</td>\n",
       "      <td>1</td>\n",
       "      <td>0.72</td>\n",
       "    </tr>\n",
       "    <tr>\n",
       "      <th>3</th>\n",
       "      <td>322</td>\n",
       "      <td>110</td>\n",
       "      <td>3</td>\n",
       "      <td>3.5</td>\n",
       "      <td>2.5</td>\n",
       "      <td>8.67</td>\n",
       "      <td>1</td>\n",
       "      <td>0.80</td>\n",
       "    </tr>\n",
       "    <tr>\n",
       "      <th>4</th>\n",
       "      <td>314</td>\n",
       "      <td>103</td>\n",
       "      <td>2</td>\n",
       "      <td>2.0</td>\n",
       "      <td>3.0</td>\n",
       "      <td>8.21</td>\n",
       "      <td>0</td>\n",
       "      <td>0.65</td>\n",
       "    </tr>\n",
       "  </tbody>\n",
       "</table>\n",
       "</div>"
      ],
      "text/plain": [
       "   GRE Score  TOEFL Score  University Rating  SOP  LOR  CGPA  Research  \\\n",
       "0        337          118                  4  4.5  4.5  9.65         1   \n",
       "1        324          107                  4  4.0  4.5  8.87         1   \n",
       "2        316          104                  3  3.0  3.5  8.00         1   \n",
       "3        322          110                  3  3.5  2.5  8.67         1   \n",
       "4        314          103                  2  2.0  3.0  8.21         0   \n",
       "\n",
       "   Chance_of_Admit  \n",
       "0             0.92  \n",
       "1             0.76  \n",
       "2             0.72  \n",
       "3             0.80  \n",
       "4             0.65  "
      ]
     },
     "execution_count": 15,
     "metadata": {},
     "output_type": "execute_result"
    }
   ],
   "source": [
    "# se procede a quitar la columna de Serial No., corresponde a un consecutivo el cual no \n",
    "# aporta al proceso del estudio\n",
    "df = df.drop(['Serial No.'], 1)\n",
    "\n",
    "df.head()"
   ]
  },
  {
   "cell_type": "code",
   "execution_count": 16,
   "id": "46fdd145",
   "metadata": {},
   "outputs": [
    {
     "data": {
      "text/plain": [
       "Index(['GRE Score', 'TOEFL Score', 'University Rating', 'SOP', 'LOR', 'CGPA',\n",
       "       'Research', 'Chance_of_Admit'],\n",
       "      dtype='object')"
      ]
     },
     "execution_count": 16,
     "metadata": {},
     "output_type": "execute_result"
    }
   ],
   "source": [
    "df.columns"
   ]
  },
  {
   "cell_type": "markdown",
   "id": "6e77f6f1",
   "metadata": {},
   "source": [
    "### Exploración de la Caracteristica:  GRE Score\n",
    "\n",
    "GRE Score = Puntaje de exámenes de registros de graduados."
   ]
  },
  {
   "cell_type": "code",
   "execution_count": 17,
   "id": "9ecff50a",
   "metadata": {},
   "outputs": [
    {
     "data": {
      "image/png": "[encoded data removed]",
      "text/plain": [
       "<Figure size 2160x576 with 2 Axes>"
      ]
     },
     "metadata": {
      "needs_background": "light"
     },
     "output_type": "display_data"
    }
   ],
   "source": [
    "explorarVariableContinua(df,'GRE Score')"
   ]
  },
  {
   "cell_type": "code",
   "execution_count": 18,
   "id": "ffffc418",
   "metadata": {},
   "outputs": [
    {
     "data": {
      "text/plain": [
       "count    400.000000\n",
       "mean     316.807500\n",
       "std       11.473646\n",
       "min      290.000000\n",
       "25%      308.000000\n",
       "50%      317.000000\n",
       "75%      325.000000\n",
       "max      340.000000\n",
       "Name: GRE Score, dtype: float64"
      ]
     },
     "execution_count": 18,
     "metadata": {},
     "output_type": "execute_result"
    }
   ],
   "source": [
    "df['GRE Score'].describe()"
   ]
  },
  {
   "cell_type": "code",
   "execution_count": 19,
   "id": "001caa9d",
   "metadata": {},
   "outputs": [
    {
     "data": {
      "text/plain": [
       "0    312\n",
       "1    324\n",
       "Name: GRE Score, dtype: int64"
      ]
     },
     "execution_count": 19,
     "metadata": {},
     "output_type": "execute_result"
    }
   ],
   "source": [
    "df['GRE Score'].mode()"
   ]
  },
  {
   "cell_type": "markdown",
   "id": "b8c94820",
   "metadata": {},
   "source": [
    "### Exploración de la Caracteristica: TOEFL Score\t\n",
    "\n",
    "TOEFL Score = Prueba de puntaje de inglés como lengua extranjera"
   ]
  },
  {
   "cell_type": "code",
   "execution_count": 20,
   "id": "3c6caf52",
   "metadata": {},
   "outputs": [
    {
     "data": {
      "image/png": "[encoded data removed]",
      "text/plain": [
       "<Figure size 2160x576 with 2 Axes>"
      ]
     },
     "metadata": {},
     "output_type": "display_data"
    }
   ],
   "source": [
    "explorarVariableContinua(df,'TOEFL Score')"
   ]
  },
  {
   "cell_type": "code",
   "execution_count": 21,
   "id": "5643f542",
   "metadata": {},
   "outputs": [
    {
     "data": {
      "text/plain": [
       "count    400.000000\n",
       "mean     107.410000\n",
       "std        6.069514\n",
       "min       92.000000\n",
       "25%      103.000000\n",
       "50%      107.000000\n",
       "75%      112.000000\n",
       "max      120.000000\n",
       "Name: TOEFL Score, dtype: float64"
      ]
     },
     "execution_count": 21,
     "metadata": {},
     "output_type": "execute_result"
    }
   ],
   "source": [
    "df['TOEFL Score'].describe()"
   ]
  },
  {
   "cell_type": "code",
   "execution_count": 22,
   "id": "f790d7e2",
   "metadata": {},
   "outputs": [
    {
     "data": {
      "text/plain": [
       "0    110\n",
       "Name: TOEFL Score, dtype: int64"
      ]
     },
     "execution_count": 22,
     "metadata": {},
     "output_type": "execute_result"
    }
   ],
   "source": [
    "df['TOEFL Score'].mode()"
   ]
  },
  {
   "cell_type": "markdown",
   "id": "ee0abf6c",
   "metadata": {},
   "source": [
    "### Exploración de la Caracteristica:  University Rating\n",
    "\n",
    "University Rating = Rango de la Universidad"
   ]
  },
  {
   "cell_type": "code",
   "execution_count": 23,
   "id": "5d61657d",
   "metadata": {},
   "outputs": [
    {
     "data": {
      "image/png": "[encoded data removed]",
      "text/plain": [
       "<Figure size 2160x576 with 2 Axes>"
      ]
     },
     "metadata": {},
     "output_type": "display_data"
    }
   ],
   "source": [
    "explorarVariableContinua(df,'University Rating')"
   ]
  },
  {
   "cell_type": "code",
   "execution_count": 24,
   "id": "a6e4e6d0",
   "metadata": {},
   "outputs": [
    {
     "data": {
      "text/plain": [
       "count    400.000000\n",
       "mean       3.087500\n",
       "std        1.143728\n",
       "min        1.000000\n",
       "25%        2.000000\n",
       "50%        3.000000\n",
       "75%        4.000000\n",
       "max        5.000000\n",
       "Name: University Rating, dtype: float64"
      ]
     },
     "execution_count": 24,
     "metadata": {},
     "output_type": "execute_result"
    }
   ],
   "source": [
    "df['University Rating'].describe()"
   ]
  },
  {
   "cell_type": "code",
   "execution_count": 25,
   "id": "81c6d7a1",
   "metadata": {},
   "outputs": [
    {
     "data": {
      "text/plain": [
       "0    3\n",
       "Name: University Rating, dtype: int64"
      ]
     },
     "execution_count": 25,
     "metadata": {},
     "output_type": "execute_result"
    }
   ],
   "source": [
    "df['University Rating'].mode()"
   ]
  },
  {
   "cell_type": "markdown",
   "id": "f3139edd",
   "metadata": {},
   "source": [
    "### Exploración de la Caracteristica:  SOP"
   ]
  },
  {
   "cell_type": "code",
   "execution_count": 26,
   "id": "048e783f",
   "metadata": {},
   "outputs": [
    {
     "data": {
      "image/png": "[encoded data removed]",
      "text/plain": [
       "<Figure size 2160x576 with 2 Axes>"
      ]
     },
     "metadata": {},
     "output_type": "display_data"
    }
   ],
   "source": [
    "explorarVariableContinua(df,'SOP')"
   ]
  },
  {
   "cell_type": "code",
   "execution_count": 27,
   "id": "210b91cc",
   "metadata": {},
   "outputs": [
    {
     "data": {
      "text/plain": [
       "count    400.000000\n",
       "mean       3.400000\n",
       "std        1.006869\n",
       "min        1.000000\n",
       "25%        2.500000\n",
       "50%        3.500000\n",
       "75%        4.000000\n",
       "max        5.000000\n",
       "Name: SOP, dtype: float64"
      ]
     },
     "execution_count": 27,
     "metadata": {},
     "output_type": "execute_result"
    }
   ],
   "source": [
    "df['SOP'].describe()"
   ]
  },
  {
   "cell_type": "code",
   "execution_count": 28,
   "id": "deb443e0",
   "metadata": {},
   "outputs": [
    {
     "data": {
      "text/plain": [
       "0    3.5\n",
       "1    4.0\n",
       "Name: SOP, dtype: float64"
      ]
     },
     "execution_count": 28,
     "metadata": {},
     "output_type": "execute_result"
    }
   ],
   "source": [
    "df['SOP'].mode()"
   ]
  },
  {
   "cell_type": "markdown",
   "id": "89182bf0",
   "metadata": {},
   "source": [
    "### Exploración de la Caracteristica: LOR"
   ]
  },
  {
   "cell_type": "code",
   "execution_count": 29,
   "id": "2fa3c2ba",
   "metadata": {},
   "outputs": [
    {
     "data": {
      "image/png": "[encoded data removed]",
      "text/plain": [
       "<Figure size 2160x576 with 2 Axes>"
      ]
     },
     "metadata": {},
     "output_type": "display_data"
    }
   ],
   "source": [
    "explorarVariableContinua(df,'LOR')"
   ]
  },
  {
   "cell_type": "code",
   "execution_count": 30,
   "id": "a384bacc",
   "metadata": {},
   "outputs": [
    {
     "data": {
      "text/plain": [
       "count    400.000000\n",
       "mean       3.452500\n",
       "std        0.898478\n",
       "min        1.000000\n",
       "25%        3.000000\n",
       "50%        3.500000\n",
       "75%        4.000000\n",
       "max        5.000000\n",
       "Name: LOR, dtype: float64"
      ]
     },
     "execution_count": 30,
     "metadata": {},
     "output_type": "execute_result"
    }
   ],
   "source": [
    "df['LOR'].describe()"
   ]
  },
  {
   "cell_type": "code",
   "execution_count": 31,
   "id": "66ecd088",
   "metadata": {},
   "outputs": [
    {
     "data": {
      "text/plain": [
       "0    3.0\n",
       "Name: LOR, dtype: float64"
      ]
     },
     "execution_count": 31,
     "metadata": {},
     "output_type": "execute_result"
    }
   ],
   "source": [
    "df['LOR'].mode()"
   ]
  },
  {
   "cell_type": "markdown",
   "id": "399888c8",
   "metadata": {},
   "source": [
    "### Exploración de la Caracteristica: CGPA\n",
    "\n",
    "CGPA=Promedio de Calificaciones Acumulativo"
   ]
  },
  {
   "cell_type": "code",
   "execution_count": 32,
   "id": "c8d46d56",
   "metadata": {},
   "outputs": [
    {
     "data": {
      "image/png": "[encoded data removed]",
      "text/plain": [
       "<Figure size 2160x576 with 2 Axes>"
      ]
     },
     "metadata": {},
     "output_type": "display_data"
    }
   ],
   "source": [
    "explorarVariableContinua(df,'CGPA')"
   ]
  },
  {
   "cell_type": "code",
   "execution_count": 33,
   "id": "336992de",
   "metadata": {},
   "outputs": [
    {
     "data": {
      "text/plain": [
       "count    400.000000\n",
       "mean       8.598925\n",
       "std        0.596317\n",
       "min        6.800000\n",
       "25%        8.170000\n",
       "50%        8.610000\n",
       "75%        9.062500\n",
       "max        9.920000\n",
       "Name: CGPA, dtype: float64"
      ]
     },
     "execution_count": 33,
     "metadata": {},
     "output_type": "execute_result"
    }
   ],
   "source": [
    "df['CGPA'].describe()"
   ]
  },
  {
   "cell_type": "code",
   "execution_count": 34,
   "id": "a9888275",
   "metadata": {},
   "outputs": [
    {
     "data": {
      "text/plain": [
       "0    8.0\n",
       "Name: CGPA, dtype: float64"
      ]
     },
     "execution_count": 34,
     "metadata": {},
     "output_type": "execute_result"
    }
   ],
   "source": [
    "df['CGPA'].mode()"
   ]
  },
  {
   "cell_type": "markdown",
   "id": "1a077ded",
   "metadata": {},
   "source": [
    "### Exploración de la Caracteristica:  Research\n",
    "\n",
    "Research = Investigación\n",
    "\n",
    "\n",
    "Esta caracteristica está constituida en  1 o 0"
   ]
  },
  {
   "cell_type": "code",
   "execution_count": 35,
   "id": "f7423283",
   "metadata": {},
   "outputs": [
    {
     "data": {
      "image/png": "[encoded data removed]",
      "text/plain": [
       "<Figure size 2160x576 with 2 Axes>"
      ]
     },
     "metadata": {},
     "output_type": "display_data"
    }
   ],
   "source": [
    "explorarVariableContinua(df,'Research')"
   ]
  },
  {
   "cell_type": "code",
   "execution_count": 36,
   "id": "9f2308f8",
   "metadata": {},
   "outputs": [
    {
     "data": {
      "text/plain": [
       "count    400.000000\n",
       "mean       0.547500\n",
       "std        0.498362\n",
       "min        0.000000\n",
       "25%        0.000000\n",
       "50%        1.000000\n",
       "75%        1.000000\n",
       "max        1.000000\n",
       "Name: Research, dtype: float64"
      ]
     },
     "execution_count": 36,
     "metadata": {},
     "output_type": "execute_result"
    }
   ],
   "source": [
    "df['Research'].describe()"
   ]
  },
  {
   "cell_type": "code",
   "execution_count": 37,
   "id": "bc17cbbb",
   "metadata": {},
   "outputs": [
    {
     "data": {
      "text/plain": [
       "0    1\n",
       "Name: Research, dtype: int64"
      ]
     },
     "execution_count": 37,
     "metadata": {},
     "output_type": "execute_result"
    }
   ],
   "source": [
    "df['Research'].mode()"
   ]
  },
  {
   "cell_type": "code",
   "execution_count": 38,
   "id": "231353be",
   "metadata": {},
   "outputs": [
    {
     "data": {
      "text/plain": [
       "Research\n",
       "0    181\n",
       "1    219\n",
       "dtype: int64"
      ]
     },
     "execution_count": 38,
     "metadata": {},
     "output_type": "execute_result"
    }
   ],
   "source": [
    "df.groupby('Research').size()"
   ]
  },
  {
   "cell_type": "markdown",
   "id": "2b224f35",
   "metadata": {},
   "source": [
    "### Exploración de la Caracteristica:  Chance of Admit\n",
    "\n",
    "Chance of Admit = Posibilidad de Admisión"
   ]
  },
  {
   "cell_type": "code",
   "execution_count": 39,
   "id": "cce60f0e",
   "metadata": {},
   "outputs": [
    {
     "data": {
      "image/png": "[encoded data removed]",
      "text/plain": [
       "<Figure size 2160x576 with 2 Axes>"
      ]
     },
     "metadata": {},
     "output_type": "display_data"
    }
   ],
   "source": [
    "explorarVariableContinua(df,'Chance_of_Admit')"
   ]
  },
  {
   "cell_type": "code",
   "execution_count": 40,
   "id": "5d305d5f",
   "metadata": {},
   "outputs": [
    {
     "data": {
      "text/plain": [
       "count    400.000000\n",
       "mean       0.724350\n",
       "std        0.142609\n",
       "min        0.340000\n",
       "25%        0.640000\n",
       "50%        0.730000\n",
       "75%        0.830000\n",
       "max        0.970000\n",
       "Name: Chance_of_Admit, dtype: float64"
      ]
     },
     "execution_count": 40,
     "metadata": {},
     "output_type": "execute_result"
    }
   ],
   "source": [
    "df['Chance_of_Admit'].describe()"
   ]
  },
  {
   "cell_type": "code",
   "execution_count": 41,
   "id": "9c485588",
   "metadata": {},
   "outputs": [
    {
     "data": {
      "text/plain": [
       "0    0.64\n",
       "Name: Chance_of_Admit, dtype: float64"
      ]
     },
     "execution_count": 41,
     "metadata": {},
     "output_type": "execute_result"
    }
   ],
   "source": [
    "df['Chance_of_Admit'].mode()"
   ]
  },
  {
   "cell_type": "markdown",
   "id": "40a4de69",
   "metadata": {},
   "source": [
    "### **Observar los Boxplots de las Cuatro Caracteristicas Numéricas**"
   ]
  },
  {
   "cell_type": "code",
   "execution_count": 90,
   "id": "a7d531a6",
   "metadata": {},
   "outputs": [
    {
     "data": {
      "image/png": "[encoded data removed]",
      "text/plain": [
       "<Figure size 1080x1080 with 16 Axes>"
      ]
     },
     "metadata": {},
     "output_type": "display_data"
    }
   ],
   "source": [
    "df.plot(kind='box',subplots=True, layout=(4,4), sharex=False, sharey=False)\n",
    "sns.set(rc={'figure.figsize':(15,15)})\n",
    "plt.show()"
   ]
  },
  {
   "cell_type": "code",
   "execution_count": 43,
   "id": "19943dc6",
   "metadata": {},
   "outputs": [
    {
     "name": "stdout",
     "output_type": "stream",
     "text": [
      "Q1: 0.64\n",
      "Q3: 0.83\n",
      "Valor Máximo: 1.1149999999999998\n"
     ]
    }
   ],
   "source": [
    "# limpieza de datos. eliminacion de los valores atipicos en la columna Prestamo\n",
    "\n",
    "#calcular los cuartiles\n",
    "Q1=np.percentile(df.Chance_of_Admit, 25)\n",
    "Q3=np.percentile(df.Chance_of_Admit, 75)\n",
    "\n",
    "#cálculo de distancia entre cuartiles\n",
    "IQR = Q3 - Q1\n",
    "\n",
    "#calculo del valor maximo\n",
    "maximo = Q3+1.5*IQR\n",
    "\n",
    "#Consulta de valores de cuartiles \n",
    "print(\"Q1: \"+str(Q1))\n",
    "print(\"Q3: \"+str(Q3))\n",
    "\n",
    "#consulta del valor máximo\n",
    "print(\"Valor Máximo: \"+str(maximo))"
   ]
  },
  {
   "cell_type": "code",
   "execution_count": 44,
   "id": "4c3e1f5a",
   "metadata": {},
   "outputs": [
    {
     "name": "stdout",
     "output_type": "stream",
     "text": [
      "Q1: 3.0\n",
      "Q3: 4.0\n",
      "Valor Máximo: 5.5\n"
     ]
    }
   ],
   "source": [
    "# limpieza de datos. eliminacion de los valores atipicos en la columna Prestamo\n",
    "\n",
    "#calcular los cuartiles\n",
    "Q1=np.percentile(df.LOR, 25)\n",
    "Q3=np.percentile(df.LOR, 75)\n",
    "\n",
    "#cálculo de distancia entre cuartiles\n",
    "IQR = Q3 - Q1\n",
    "\n",
    "#calculo del valor maximo\n",
    "maximo = Q3+1.5*IQR\n",
    "\n",
    "#Consulta de valores de cuartiles \n",
    "print(\"Q1: \"+str(Q1))\n",
    "print(\"Q3: \"+str(Q3))\n",
    "\n",
    "#consulta del valor máximo\n",
    "print(\"Valor Máximo: \"+str(maximo))"
   ]
  },
  {
   "cell_type": "code",
   "execution_count": 45,
   "id": "0942ece6",
   "metadata": {},
   "outputs": [
    {
     "data": {
      "text/html": [
       "<div>\n",
       "<style scoped>\n",
       "    .dataframe tbody tr th:only-of-type {\n",
       "        vertical-align: middle;\n",
       "    }\n",
       "\n",
       "    .dataframe tbody tr th {\n",
       "        vertical-align: top;\n",
       "    }\n",
       "\n",
       "    .dataframe thead th {\n",
       "        text-align: right;\n",
       "    }\n",
       "</style>\n",
       "<table border=\"1\" class=\"dataframe\">\n",
       "  <thead>\n",
       "    <tr style=\"text-align: right;\">\n",
       "      <th></th>\n",
       "      <th>GRE Score</th>\n",
       "      <th>TOEFL Score</th>\n",
       "      <th>University Rating</th>\n",
       "      <th>SOP</th>\n",
       "      <th>LOR</th>\n",
       "      <th>CGPA</th>\n",
       "      <th>Research</th>\n",
       "      <th>Chance_of_Admit</th>\n",
       "    </tr>\n",
       "  </thead>\n",
       "  <tbody>\n",
       "    <tr>\n",
       "      <th>0</th>\n",
       "      <td>337</td>\n",
       "      <td>118</td>\n",
       "      <td>4</td>\n",
       "      <td>4.5</td>\n",
       "      <td>4.5</td>\n",
       "      <td>9.65</td>\n",
       "      <td>1</td>\n",
       "      <td>0.92</td>\n",
       "    </tr>\n",
       "    <tr>\n",
       "      <th>1</th>\n",
       "      <td>324</td>\n",
       "      <td>107</td>\n",
       "      <td>4</td>\n",
       "      <td>4.0</td>\n",
       "      <td>4.5</td>\n",
       "      <td>8.87</td>\n",
       "      <td>1</td>\n",
       "      <td>0.76</td>\n",
       "    </tr>\n",
       "    <tr>\n",
       "      <th>2</th>\n",
       "      <td>316</td>\n",
       "      <td>104</td>\n",
       "      <td>3</td>\n",
       "      <td>3.0</td>\n",
       "      <td>3.5</td>\n",
       "      <td>8.00</td>\n",
       "      <td>1</td>\n",
       "      <td>0.72</td>\n",
       "    </tr>\n",
       "    <tr>\n",
       "      <th>3</th>\n",
       "      <td>322</td>\n",
       "      <td>110</td>\n",
       "      <td>3</td>\n",
       "      <td>3.5</td>\n",
       "      <td>2.5</td>\n",
       "      <td>8.67</td>\n",
       "      <td>1</td>\n",
       "      <td>0.80</td>\n",
       "    </tr>\n",
       "    <tr>\n",
       "      <th>4</th>\n",
       "      <td>314</td>\n",
       "      <td>103</td>\n",
       "      <td>2</td>\n",
       "      <td>2.0</td>\n",
       "      <td>3.0</td>\n",
       "      <td>8.21</td>\n",
       "      <td>0</td>\n",
       "      <td>0.65</td>\n",
       "    </tr>\n",
       "  </tbody>\n",
       "</table>\n",
       "</div>"
      ],
      "text/plain": [
       "   GRE Score  TOEFL Score  University Rating  SOP  LOR  CGPA  Research  \\\n",
       "0        337          118                  4  4.5  4.5  9.65         1   \n",
       "1        324          107                  4  4.0  4.5  8.87         1   \n",
       "2        316          104                  3  3.0  3.5  8.00         1   \n",
       "3        322          110                  3  3.5  2.5  8.67         1   \n",
       "4        314          103                  2  2.0  3.0  8.21         0   \n",
       "\n",
       "   Chance_of_Admit  \n",
       "0             0.92  \n",
       "1             0.76  \n",
       "2             0.72  \n",
       "3             0.80  \n",
       "4             0.65  "
      ]
     },
     "execution_count": 45,
     "metadata": {},
     "output_type": "execute_result"
    }
   ],
   "source": [
    "#filtrar el dataframe que sobrepasan el valor Maximo\n",
    "\n",
    "df= df[df.Chance_of_Admit<maximo]\n",
    "df.head()"
   ]
  },
  {
   "cell_type": "code",
   "execution_count": 46,
   "id": "2b390639",
   "metadata": {},
   "outputs": [
    {
     "data": {
      "text/plain": [
       "(400, 8)"
      ]
     },
     "execution_count": 46,
     "metadata": {},
     "output_type": "execute_result"
    }
   ],
   "source": [
    "df.shape   # al parecer la aplicacion no quitó el outlier. se procede"
   ]
  },
  {
   "cell_type": "markdown",
   "id": "8b30c3bb",
   "metadata": {},
   "source": [
    "**Convierta las variables categóricas de texto en variables categóricas numéricas (ejemplo con get_dummies)**\n",
    "\n",
    "En este caso el dataset no presenta caracteristicas del tipo texto"
   ]
  },
  {
   "cell_type": "markdown",
   "id": "0f9901e4",
   "metadata": {},
   "source": [
    "### Creacion de la matriz de correlación"
   ]
  },
  {
   "cell_type": "code",
   "execution_count": 47,
   "id": "6aaf0e9b",
   "metadata": {},
   "outputs": [
    {
     "data": {
      "image/png": "[encoded data removed]",
      "text/plain": [
       "<Figure size 720x432 with 2 Axes>"
      ]
     },
     "metadata": {},
     "output_type": "display_data"
    }
   ],
   "source": [
    "#creacion de la matriz de correlación\n",
    "\n",
    "correlation_mat = df.corr()\n",
    "plt.figure(figsize=(10,6))\n",
    "plt.title(\"Matriz de Correlación\")\n",
    "sns.heatmap(correlation_mat, annot=True)\n",
    "plt.show()"
   ]
  },
  {
   "cell_type": "markdown",
   "id": "9a10f74b",
   "metadata": {},
   "source": [
    "**Se observa una gran correlación entre** la variable de Chance_of_Admit y **GRE Score** así como en la caracteristia de **TOEL Score** y finalmente con la caracteristica de **University rating**"
   ]
  },
  {
   "cell_type": "code",
   "execution_count": 48,
   "id": "39b05a52",
   "metadata": {},
   "outputs": [
    {
     "data": {
      "image/png": "[encoded data removed]",
      "text/plain": [
       "<Figure size 792x648 with 2 Axes>"
      ]
     },
     "metadata": {},
     "output_type": "display_data"
    }
   ],
   "source": [
    "corr= df.corr()\n",
    "\n",
    "mask = np.zeros_like(corr, dtype=np.bool);mask[np.triu_indices_from(mask)] = True\n",
    "\n",
    "f, ax=plt.subplots(figsize=(11,9))\n",
    "\n",
    "cmap= sns.diverging_palette(220,10, as_cmap=True)\n",
    "\n",
    "sns.heatmap(corr, mask=mask, cmap=cmap, center=0, square=True, linewidths=.5, cbar_kws={'shrink': .5}, annot= True);"
   ]
  },
  {
   "cell_type": "markdown",
   "id": "800642d4",
   "metadata": {},
   "source": [
    "### Separar los datos en un conjunto de datos de entrenamiento y de prueba\n",
    "\n",
    "En este caso vmaos a determinar la Y como el Chance_of_Admit"
   ]
  },
  {
   "cell_type": "code",
   "execution_count": 49,
   "id": "c7aa9706",
   "metadata": {},
   "outputs": [],
   "source": [
    "X=df.drop('Chance_of_Admit',axis=1)\n",
    "y=df['Chance_of_Admit']"
   ]
  },
  {
   "cell_type": "code",
   "execution_count": 50,
   "id": "986d96b3",
   "metadata": {},
   "outputs": [
    {
     "data": {
      "text/plain": [
       "(400, 7)"
      ]
     },
     "execution_count": 50,
     "metadata": {},
     "output_type": "execute_result"
    }
   ],
   "source": [
    "X.shape"
   ]
  },
  {
   "cell_type": "code",
   "execution_count": 51,
   "id": "f998130a",
   "metadata": {},
   "outputs": [
    {
     "data": {
      "text/plain": [
       "(400,)"
      ]
     },
     "execution_count": 51,
     "metadata": {},
     "output_type": "execute_result"
    }
   ],
   "source": [
    "y.shape"
   ]
  },
  {
   "cell_type": "markdown",
   "id": "9317e95d",
   "metadata": {},
   "source": [
    "## Modelo 1 - SVR Support Vector Regression / Regresión de Soporte Vectorial"
   ]
  },
  {
   "cell_type": "code",
   "execution_count": 52,
   "id": "49c83a19",
   "metadata": {},
   "outputs": [],
   "source": [
    "import numpy as np\n",
    "import pandas as pd\n",
    "from sklearn import preprocessing\n",
    "from sklearn.preprocessing import StandardScaler\n",
    "from sklearn.model_selection import train_test_split\n",
    "from sklearn.model_selection import cross_val_score\n",
    "from sklearn.metrics import accuracy_score\n",
    "from sklearn.metrics import cohen_kappa_score\n",
    "from sklearn.model_selection import GridSearchCV, RandomizedSearchCV\n",
    "from sklearn import svm\n",
    "from sklearn.svm import SVR\n",
    "from sklearn.metrics import r2_score\n",
    "from sklearn.metrics import mean_squared_error\n",
    "from sklearn.metrics import explained_variance_score\n",
    "from sklearn.metrics import mean_absolute_error"
   ]
  },
  {
   "cell_type": "code",
   "execution_count": 53,
   "id": "639a2fcc",
   "metadata": {},
   "outputs": [
    {
     "data": {
      "text/plain": [
       "array([[ 1.76210664,  1.74697064,  0.79882862, ...,  1.16732114,\n",
       "         1.76481828,  0.90911166],\n",
       "       [ 0.62765641, -0.06763531,  0.79882862, ...,  1.16732114,\n",
       "         0.45515126,  0.90911166],\n",
       "       [-0.07046681, -0.56252785, -0.07660001, ...,  0.05293342,\n",
       "        -1.00563118,  0.90911166],\n",
       "       ...,\n",
       "       [ 1.15124883,  1.41704229,  0.79882862, ...,  1.16732114,\n",
       "         1.42900622,  0.90911166],\n",
       "       [-0.41952842, -0.72749202, -0.07660001, ...,  0.61012728,\n",
       "         0.30403584, -1.09997489],\n",
       "       [ 1.41304503,  1.58200646,  0.79882862, ...,  0.61012728,\n",
       "         1.78160888,  0.90911166]])"
      ]
     },
     "execution_count": 53,
     "metadata": {},
     "output_type": "execute_result"
    }
   ],
   "source": [
    "# Escalar los datos\n",
    "scaler_x = preprocessing.StandardScaler().fit(X)\n",
    "scaled_x = scaler_x.transform(X.astype(np.float64))\n",
    "scaled_x"
   ]
  },
  {
   "cell_type": "code",
   "execution_count": 54,
   "id": "408180d5",
   "metadata": {},
   "outputs": [],
   "source": [
    "X = scaled_x"
   ]
  },
  {
   "cell_type": "code",
   "execution_count": 55,
   "id": "a9a017de",
   "metadata": {},
   "outputs": [
    {
     "data": {
      "text/plain": [
       "1.0"
      ]
     },
     "execution_count": 55,
     "metadata": {},
     "output_type": "execute_result"
    }
   ],
   "source": [
    "np.std(X)"
   ]
  },
  {
   "cell_type": "code",
   "execution_count": 56,
   "id": "ddd37b4d",
   "metadata": {},
   "outputs": [],
   "source": [
    "#Le da una nueva forma al arreglo sin perder los valores originales.\n",
    "y = y.values.reshape(-1,1)"
   ]
  },
  {
   "cell_type": "code",
   "execution_count": 57,
   "id": "eb46bf5e",
   "metadata": {},
   "outputs": [
    {
     "data": {
      "text/plain": [
       "array([[ 1.37364801],\n",
       "       [ 0.25029671],\n",
       "       [-0.03054111],\n",
       "       [ 0.53113453],\n",
       "       [-0.52200731],\n",
       "       [ 1.23322909],\n",
       "       [ 0.18008725],\n",
       "       [-0.31137894],\n",
       "       [-1.57514914],\n",
       "       [-1.92619642],\n",
       "       [-1.43473023],\n",
       "       [ 0.81197236],\n",
       "       [ 0.39071562],\n",
       "       [-0.73263567],\n",
       "       [-0.80284513],\n",
       "       [-1.29431132],\n",
       "       [-0.45179785],\n",
       "       [-0.52200731],\n",
       "       [-0.66242622],\n",
       "       [-0.73263567],\n",
       "       [-0.59221676],\n",
       "       [-0.17096003],\n",
       "       [ 1.51406692],\n",
       "       [ 1.58427637],\n",
       "       [ 1.72469529],\n",
       "       [ 1.51406692],\n",
       "       [ 0.25029671],\n",
       "       [-1.99640588],\n",
       "       [-1.85598697],\n",
       "       [-1.29431132],\n",
       "       [-0.52200731],\n",
       "       [ 0.1098778 ],\n",
       "       [ 1.30343855],\n",
       "       [ 1.23322909],\n",
       "       [ 1.51406692],\n",
       "       [ 1.09281018],\n",
       "       [-0.59221676],\n",
       "       [-1.0134735 ],\n",
       "       [-1.43473023],\n",
       "       [-1.71556806],\n",
       "       [-1.85598697],\n",
       "       [-1.6453586 ],\n",
       "       [-1.36452078],\n",
       "       [ 1.02260073],\n",
       "       [ 1.30343855],\n",
       "       [ 1.09281018],\n",
       "       [ 0.95239127],\n",
       "       [ 1.16301964],\n",
       "       [ 0.67155345],\n",
       "       [ 0.39071562],\n",
       "       [ 0.25029671],\n",
       "       [-1.15389241],\n",
       "       [ 0.39071562],\n",
       "       [-0.03054111],\n",
       "       [-0.17096003],\n",
       "       [-0.59221676],\n",
       "       [-0.59221676],\n",
       "       [-1.85598697],\n",
       "       [-2.55808153],\n",
       "       [-2.13682479],\n",
       "       [-1.71556806],\n",
       "       [-1.78577751],\n",
       "       [-1.29431132],\n",
       "       [-1.15389241],\n",
       "       [-1.43473023],\n",
       "       [-1.22410186],\n",
       "       [-0.80284513],\n",
       "       [-1.08368295],\n",
       "       [-0.31137894],\n",
       "       [ 0.39071562],\n",
       "       [ 1.51406692],\n",
       "       [ 1.65448583],\n",
       "       [ 1.44385746],\n",
       "       [ 0.81197236],\n",
       "       [ 0.1098778 ],\n",
       "       [-0.03054111],\n",
       "       [ 0.1098778 ],\n",
       "       [-0.59221676],\n",
       "       [-1.99640588],\n",
       "       [-1.85598697],\n",
       "       [-1.57514914],\n",
       "       [ 1.65448583],\n",
       "       [ 1.37364801],\n",
       "       [ 1.37364801],\n",
       "       [ 1.51406692],\n",
       "       [ 0.25029671],\n",
       "       [-0.03054111],\n",
       "       [-0.45179785],\n",
       "       [-0.59221676],\n",
       "       [ 0.1098778 ],\n",
       "       [-0.59221676],\n",
       "       [-2.41766262],\n",
       "       [-2.69850044],\n",
       "       [-1.99640588],\n",
       "       [-2.55808153],\n",
       "       [-2.13682479],\n",
       "       [-1.71556806],\n",
       "       [ 0.95239127],\n",
       "       [ 1.23322909],\n",
       "       [ 0.46092508],\n",
       "       [-0.10075057],\n",
       "       [-0.59221676],\n",
       "       [-0.73263567],\n",
       "       [-1.08368295],\n",
       "       [ 0.1098778 ],\n",
       "       [-0.24116948],\n",
       "       [ 1.02260073],\n",
       "       [ 1.30343855],\n",
       "       [ 1.44385746],\n",
       "       [-0.31137894],\n",
       "       [-0.80284513],\n",
       "       [-0.24116948],\n",
       "       [-0.73263567],\n",
       "       [-0.03054111],\n",
       "       [-0.94326404],\n",
       "       [-0.45179785],\n",
       "       [-1.15389241],\n",
       "       [-1.92619642],\n",
       "       [-1.78577751],\n",
       "       [-0.10075057],\n",
       "       [ 1.51406692],\n",
       "       [ 1.51406692],\n",
       "       [-1.08368295],\n",
       "       [-0.80284513],\n",
       "       [-1.08368295],\n",
       "       [-0.59221676],\n",
       "       [ 0.88218181],\n",
       "       [ 0.39071562],\n",
       "       [ 0.81197236],\n",
       "       [ 1.37364801],\n",
       "       [ 1.65448583],\n",
       "       [ 0.32050617],\n",
       "       [-0.10075057],\n",
       "       [ 0.46092508],\n",
       "       [ 1.16301964],\n",
       "       [ 0.67155345],\n",
       "       [ 0.25029671],\n",
       "       [-0.10075057],\n",
       "       [ 0.53113453],\n",
       "       [ 0.39071562],\n",
       "       [ 0.81197236],\n",
       "       [ 1.23322909],\n",
       "       [ 1.37364801],\n",
       "       [ 1.72469529],\n",
       "       [ 0.53113453],\n",
       "       [ 0.60134399],\n",
       "       [ 0.18008725],\n",
       "       [ 0.7417629 ],\n",
       "       [ 1.65448583],\n",
       "       [ 0.46092508],\n",
       "       [ 1.44385746],\n",
       "       [ 1.51406692],\n",
       "       [ 0.95239127],\n",
       "       [ 0.46092508],\n",
       "       [ 0.53113453],\n",
       "       [ 0.32050617],\n",
       "       [-0.17096003],\n",
       "       [-0.52200731],\n",
       "       [-0.80284513],\n",
       "       [-1.43473023],\n",
       "       [-1.08368295],\n",
       "       [-1.36452078],\n",
       "       [-0.38158839],\n",
       "       [-0.31137894],\n",
       "       [ 0.60134399],\n",
       "       [ 0.39071562],\n",
       "       [-0.52200731],\n",
       "       [-0.59221676],\n",
       "       [-0.59221676],\n",
       "       [-0.52200731],\n",
       "       [-0.31137894],\n",
       "       [ 1.16301964],\n",
       "       [ 0.95239127],\n",
       "       [ 1.16301964],\n",
       "       [ 1.02260073],\n",
       "       [ 0.88218181],\n",
       "       [ 1.23322909],\n",
       "       [ 0.67155345],\n",
       "       [-0.03054111],\n",
       "       [ 0.03966834],\n",
       "       [-0.10075057],\n",
       "       [-0.10075057],\n",
       "       [-0.31137894],\n",
       "       [ 0.18008725],\n",
       "       [-0.03054111],\n",
       "       [ 1.16301964],\n",
       "       [ 0.81197236],\n",
       "       [ 1.44385746],\n",
       "       [ 1.44385746],\n",
       "       [ 1.09281018],\n",
       "       [ 1.23322909],\n",
       "       [ 1.02260073],\n",
       "       [ 0.95239127],\n",
       "       [ 1.51406692],\n",
       "       [ 0.32050617],\n",
       "       [ 0.39071562],\n",
       "       [ 0.03966834],\n",
       "       [ 0.03966834],\n",
       "       [-0.17096003],\n",
       "       [-0.03054111],\n",
       "       [ 0.03966834],\n",
       "       [-0.03054111],\n",
       "       [ 1.72469529],\n",
       "       [ 1.72469529],\n",
       "       [-0.24116948],\n",
       "       [-1.08368295],\n",
       "       [-0.66242622],\n",
       "       [-0.45179785],\n",
       "       [-0.59221676],\n",
       "       [-0.31137894],\n",
       "       [ 0.46092508],\n",
       "       [ 0.67155345],\n",
       "       [ 1.58427637],\n",
       "       [ 1.65448583],\n",
       "       [ 1.51406692],\n",
       "       [ 1.44385746],\n",
       "       [ 1.30343855],\n",
       "       [ 0.88218181],\n",
       "       [ 0.81197236],\n",
       "       [ 0.1098778 ],\n",
       "       [ 0.25029671],\n",
       "       [ 0.18008725],\n",
       "       [ 0.25029671],\n",
       "       [-0.10075057],\n",
       "       [-0.38158839],\n",
       "       [-0.80284513],\n",
       "       [-0.66242622],\n",
       "       [-0.59221676],\n",
       "       [-0.10075057],\n",
       "       [ 0.67155345],\n",
       "       [ 0.03966834],\n",
       "       [ 0.1098778 ],\n",
       "       [-0.24116948],\n",
       "       [-0.59221676],\n",
       "       [ 1.30343855],\n",
       "       [ 1.09281018],\n",
       "       [ 0.88218181],\n",
       "       [ 0.95239127],\n",
       "       [-0.17096003],\n",
       "       [-0.94326404],\n",
       "       [-0.87305458],\n",
       "       [-0.52200731],\n",
       "       [-0.17096003],\n",
       "       [ 0.25029671],\n",
       "       [-0.66242622],\n",
       "       [ 0.60134399],\n",
       "       [-0.03054111],\n",
       "       [-0.10075057],\n",
       "       [ 0.53113453],\n",
       "       [ 0.32050617],\n",
       "       [ 0.1098778 ],\n",
       "       [-0.17096003],\n",
       "       [-0.10075057],\n",
       "       [ 1.44385746],\n",
       "       [ 0.88218181],\n",
       "       [ 0.46092508],\n",
       "       [ 0.25029671],\n",
       "       [ 0.39071562],\n",
       "       [ 0.32050617],\n",
       "       [ 1.23322909],\n",
       "       [ 1.02260073],\n",
       "       [-0.10075057],\n",
       "       [-0.17096003],\n",
       "       [-0.17096003],\n",
       "       [ 0.18008725],\n",
       "       [-0.10075057],\n",
       "       [-0.03054111],\n",
       "       [ 0.03966834],\n",
       "       [ 0.7417629 ],\n",
       "       [ 0.32050617],\n",
       "       [-0.03054111],\n",
       "       [-1.29431132],\n",
       "       [-1.6453586 ],\n",
       "       [-1.43473023],\n",
       "       [-1.0134735 ],\n",
       "       [ 0.39071562],\n",
       "       [ 1.16301964],\n",
       "       [-0.17096003],\n",
       "       [-0.45179785],\n",
       "       [-0.38158839],\n",
       "       [-0.31137894],\n",
       "       [ 0.53113453],\n",
       "       [ 0.60134399],\n",
       "       [ 0.53113453],\n",
       "       [ 1.51406692],\n",
       "       [ 1.44385746],\n",
       "       [ 1.37364801],\n",
       "       [ 1.16301964],\n",
       "       [ 0.67155345],\n",
       "       [ 0.46092508],\n",
       "       [-1.0134735 ],\n",
       "       [-1.15389241],\n",
       "       [-1.15389241],\n",
       "       [-0.59221676],\n",
       "       [-0.80284513],\n",
       "       [-0.31137894],\n",
       "       [ 0.25029671],\n",
       "       [ 0.95239127],\n",
       "       [ 1.23322909],\n",
       "       [-0.10075057],\n",
       "       [-0.73263567],\n",
       "       [-0.45179785],\n",
       "       [-0.52200731],\n",
       "       [ 0.03966834],\n",
       "       [-0.73263567],\n",
       "       [ 0.1098778 ],\n",
       "       [ 0.46092508],\n",
       "       [ 0.53113453],\n",
       "       [-0.24116948],\n",
       "       [-0.17096003],\n",
       "       [ 0.25029671],\n",
       "       [ 0.81197236],\n",
       "       [ 0.39071562],\n",
       "       [-0.38158839],\n",
       "       [-0.45179785],\n",
       "       [-0.52200731],\n",
       "       [-1.29431132],\n",
       "       [-1.0134735 ],\n",
       "       [ 0.46092508],\n",
       "       [ 0.53113453],\n",
       "       [ 0.18008725],\n",
       "       [ 0.03966834],\n",
       "       [-0.03054111],\n",
       "       [-0.73263567],\n",
       "       [-0.38158839],\n",
       "       [ 0.60134399],\n",
       "       [-0.66242622],\n",
       "       [-0.24116948],\n",
       "       [ 0.53113453],\n",
       "       [-2.06661534],\n",
       "       [ 0.53113453],\n",
       "       [ 0.03966834],\n",
       "       [ 0.18008725],\n",
       "       [-0.10075057],\n",
       "       [ 0.03966834],\n",
       "       [ 0.7417629 ],\n",
       "       [-0.03054111],\n",
       "       [ 1.51406692],\n",
       "       [ 0.60134399],\n",
       "       [ 0.60134399],\n",
       "       [ 0.18008725],\n",
       "       [ 0.46092508],\n",
       "       [-1.0134735 ],\n",
       "       [-0.94326404],\n",
       "       [-1.78577751],\n",
       "       [-1.6453586 ],\n",
       "       [-1.78577751],\n",
       "       [-2.13682479],\n",
       "       [-1.08368295],\n",
       "       [-0.73263567],\n",
       "       [ 0.1098778 ],\n",
       "       [ 0.03966834],\n",
       "       [-0.59221676],\n",
       "       [-0.66242622],\n",
       "       [-0.94326404],\n",
       "       [ 0.03966834],\n",
       "       [ 0.46092508],\n",
       "       [-0.31137894],\n",
       "       [-0.17096003],\n",
       "       [ 0.60134399],\n",
       "       [ 0.88218181],\n",
       "       [ 1.44385746],\n",
       "       [ 1.30343855],\n",
       "       [-0.24116948],\n",
       "       [ 0.32050617],\n",
       "       [ 0.95239127],\n",
       "       [ 0.1098778 ],\n",
       "       [-1.08368295],\n",
       "       [-1.50493969],\n",
       "       [-0.38158839],\n",
       "       [-0.03054111],\n",
       "       [ 1.16301964],\n",
       "       [ 1.58427637],\n",
       "       [ 0.46092508],\n",
       "       [-2.34745316],\n",
       "       [-2.41766262],\n",
       "       [-2.69850044],\n",
       "       [-1.78577751],\n",
       "       [-1.15389241],\n",
       "       [-0.10075057],\n",
       "       [ 0.39071562],\n",
       "       [ 0.03966834],\n",
       "       [ 0.67155345],\n",
       "       [-0.73263567],\n",
       "       [ 1.65448583],\n",
       "       [ 1.65448583],\n",
       "       [-1.85598697],\n",
       "       [-1.36452078],\n",
       "       [-1.6453586 ],\n",
       "       [ 0.25029671],\n",
       "       [-0.59221676],\n",
       "       [-0.10075057],\n",
       "       [ 0.81197236],\n",
       "       [ 0.32050617],\n",
       "       [ 1.16301964],\n",
       "       [ 0.67155345],\n",
       "       [ 0.81197236],\n",
       "       [ 1.30343855],\n",
       "       [-0.38158839],\n",
       "       [ 1.58427637]])"
      ]
     },
     "execution_count": 57,
     "metadata": {},
     "output_type": "execute_result"
    }
   ],
   "source": [
    "#Escalar los datos de prueba.\n",
    "scaler_y = preprocessing.StandardScaler().fit(y)\n",
    "y = scaler_y.transform(y)\n",
    "y"
   ]
  },
  {
   "cell_type": "markdown",
   "id": "788cd73c",
   "metadata": {},
   "source": [
    "### Partición de datos\n",
    "\n",
    "Las muestras se dividen en un 70% de datos para entrenar y un 30% para la prueba."
   ]
  },
  {
   "cell_type": "code",
   "execution_count": 58,
   "id": "47fc38ab",
   "metadata": {},
   "outputs": [],
   "source": [
    "#Se crea una set de entrenamiento y prueba del set de datos X y Y. \n",
    "X_train, X_test, y_train, y_test = train_test_split(X, y, test_size= 0.3)"
   ]
  },
  {
   "cell_type": "code",
   "execution_count": 59,
   "id": "c9e355b2",
   "metadata": {},
   "outputs": [],
   "source": [
    "regr = svm.SVR()"
   ]
  },
  {
   "cell_type": "code",
   "execution_count": 60,
   "id": "5ee258a1",
   "metadata": {},
   "outputs": [
    {
     "name": "stdout",
     "output_type": "stream",
     "text": [
      "[[-1.72850946 -1.55231291 -0.95202863 ... -0.50426044 -1.55972107\n",
      "  -1.09997489]\n",
      " [-1.64124406 -0.39756367 -0.07660001 ...  0.61012728 -0.09893863\n",
      "  -1.09997489]\n",
      " [ 1.50031044  1.91193482  1.67425725 ...  1.16732114  1.47937803\n",
      "   0.90911166]\n",
      " ...\n",
      " [-0.24499762 -0.23259949 -0.95202863 ...  0.05293342 -0.58586611\n",
      "  -1.09997489]\n",
      " [-0.68132463 -1.38734873 -0.07660001 ...  0.61012728 -0.06535742\n",
      "  -1.09997489]\n",
      " [ 0.4531256   0.42725722  1.67425725 ...  0.61012728  0.84133513\n",
      "   0.90911166]]\n",
      "[-0.94326404 -0.24116948  1.51406692  0.81197236 -1.78577751  0.03966834\n",
      " -0.03054111  0.39071562  0.03966834 -0.24116948 -0.59221676 -0.66242622\n",
      " -0.80284513  1.65448583 -1.85598697 -0.73263567 -1.71556806 -0.17096003\n",
      "  0.46092508  1.09281018 -0.52200731  1.44385746  1.51406692  0.53113453\n",
      " -0.24116948  1.37364801 -0.59221676 -0.59221676  1.02260073  1.23322909\n",
      " -0.59221676  0.03966834 -0.59221676 -0.59221676 -0.52200731 -2.41766262\n",
      "  0.81197236  0.53113453  0.25029671  0.03966834  0.95239127  0.46092508\n",
      "  0.95239127  0.18008725  1.58427637 -0.17096003 -0.24116948 -1.15389241\n",
      "  0.60134399  1.51406692  1.44385746 -0.73263567 -0.10075057 -0.17096003\n",
      " -1.0134735   0.32050617  0.46092508 -0.38158839 -2.13682479  0.67155345\n",
      "  0.67155345 -1.43473023 -0.52200731 -0.52200731  0.25029671  0.7417629\n",
      " -0.17096003  1.30343855 -0.59221676  0.81197236 -0.59221676  1.44385746\n",
      " -0.03054111  1.44385746 -0.10075057  1.37364801  0.32050617 -0.31137894\n",
      " -0.59221676  0.81197236 -0.45179785  0.81197236  0.67155345  1.65448583\n",
      "  0.67155345 -0.31137894  0.1098778  -0.59221676  1.16301964 -1.0134735\n",
      " -0.03054111  0.18008725  0.39071562  1.30343855  0.39071562 -1.15389241\n",
      "  1.16301964 -1.78577751  1.58427637 -0.87305458  1.09281018  0.81197236\n",
      "  1.23322909 -0.03054111 -0.59221676 -1.29431132  1.44385746  1.44385746\n",
      " -2.41766262 -0.03054111 -0.59221676 -0.73263567 -0.59221676 -2.69850044\n",
      " -0.10075057 -0.38158839  0.32050617 -0.59221676 -2.13682479  0.39071562\n",
      " -0.66242622  1.72469529 -1.0134735  -1.78577751 -0.73263567 -0.03054111\n",
      "  1.58427637 -1.6453586   0.03966834 -0.03054111 -0.80284513 -0.80284513\n",
      " -0.66242622 -0.52200731  0.53113453 -1.08368295 -0.03054111 -1.29431132\n",
      " -1.15389241  1.30343855 -0.10075057 -0.03054111  0.25029671 -0.31137894\n",
      " -1.36452078  0.81197236 -0.73263567  1.23322909 -0.10075057  0.60134399\n",
      "  0.18008725  0.60134399  0.1098778  -0.10075057  1.51406692 -0.73263567\n",
      " -1.6453586   0.53113453  0.60134399 -0.24116948 -1.71556806  0.53113453\n",
      " -0.94326404 -2.69850044 -0.66242622  0.32050617  0.25029671 -0.10075057\n",
      " -1.71556806  1.44385746 -0.03054111 -2.06661534 -0.45179785 -0.59221676\n",
      " -0.80284513  1.51406692  0.03966834 -2.34745316  0.39071562  1.02260073\n",
      " -0.17096003  1.02260073  0.67155345  0.88218181  1.72469529 -0.03054111\n",
      " -1.15389241  0.53113453  0.53113453  0.39071562  0.25029671  0.1098778\n",
      "  1.02260073  0.18008725  0.03966834  1.30343855 -1.15389241  1.30343855\n",
      " -0.80284513  0.46092508  0.39071562 -0.17096003  0.95239127  0.88218181\n",
      " -0.45179785  1.51406692  0.25029671  1.16301964 -1.50493969  1.30343855\n",
      " -1.85598697  1.65448583 -0.17096003 -0.17096003  0.25029671  0.03966834\n",
      "  1.30343855  0.25029671  0.46092508  1.51406692 -1.08368295  0.03966834\n",
      " -0.10075057  0.81197236 -1.29431132 -0.10075057 -0.31137894  0.25029671\n",
      " -0.10075057 -0.31137894  0.1098778   0.03966834 -0.59221676  1.37364801\n",
      "  0.25029671 -1.43473023 -0.66242622 -0.31137894 -0.94326404 -0.45179785\n",
      "  0.67155345 -0.52200731  0.67155345 -0.52200731  0.95239127 -0.10075057\n",
      "  0.88218181 -0.73263567 -1.78577751  0.25029671  0.18008725 -1.36452078\n",
      " -1.85598697  1.65448583 -0.10075057  0.39071562  1.37364801  0.46092508\n",
      "  0.1098778  -1.6453586   1.51406692 -1.78577751  0.95239127  0.1098778\n",
      " -1.92619642  1.51406692 -1.29431132  1.37364801 -1.36452078  1.09281018\n",
      " -1.6453586   0.39071562  0.32050617 -1.0134735  -1.08368295  1.44385746\n",
      " -0.38158839 -0.73263567  0.25029671  1.09281018]\n"
     ]
    }
   ],
   "source": [
    "print(X_train)\n",
    "\n",
    "y_train = np.ravel(y_train) # ravel hace que la matrix multidimensional pase a unidimensional\n",
    "\n",
    "print(y_train)"
   ]
  },
  {
   "cell_type": "code",
   "execution_count": 61,
   "id": "55dbe384",
   "metadata": {},
   "outputs": [
    {
     "data": {
      "text/plain": [
       "SVR()"
      ]
     },
     "execution_count": 61,
     "metadata": {},
     "output_type": "execute_result"
    }
   ],
   "source": [
    "#Aplicar el modelo en el set de datos\n",
    "regr.fit(X_train, y_train)"
   ]
  },
  {
   "cell_type": "markdown",
   "id": "713ed50f",
   "metadata": {},
   "source": [
    "### Evaluación del modelo"
   ]
  },
  {
   "cell_type": "code",
   "execution_count": 62,
   "id": "f632aa4b",
   "metadata": {},
   "outputs": [
    {
     "name": "stdout",
     "output_type": "stream",
     "text": [
      "[0.76026617 0.76204429 0.66518188 0.79397077 0.80767432]\n"
     ]
    },
    {
     "data": {
      "text/plain": [
       "0.7434371986133166"
      ]
     },
     "execution_count": 62,
     "metadata": {},
     "output_type": "execute_result"
    }
   ],
   "source": [
    "print(cross_val_score(regr, X_train, y_train))\n",
    "\n",
    "regr.score(X_test, y_test)"
   ]
  },
  {
   "cell_type": "markdown",
   "id": "04cc4f4a",
   "metadata": {},
   "source": [
    "*El desempreño del modelo no es malo se presenta con un resultado de* **0.74**"
   ]
  },
  {
   "cell_type": "markdown",
   "id": "3bafb0cb",
   "metadata": {},
   "source": [
    "### Predicción"
   ]
  },
  {
   "cell_type": "code",
   "execution_count": 63,
   "id": "658065bf",
   "metadata": {},
   "outputs": [
    {
     "data": {
      "text/plain": [
       "array([ 0.24949172, -1.04555164,  0.36289653,  1.54176915,  0.13846051,\n",
       "       -0.02728334,  1.10290956,  0.29610833,  0.89078109,  1.32909973,\n",
       "        1.62436641, -0.28728883,  0.17305822,  1.38518763,  0.35129809,\n",
       "        1.53477696, -0.22342066,  0.22206214, -0.35892402,  0.94200014,\n",
       "        1.46674268, -1.54475104,  0.41491863, -0.06028073, -0.77784585,\n",
       "       -0.55473135,  0.73088694,  0.67342344, -1.32876107,  0.13216234,\n",
       "        0.20866819, -0.40879316, -0.09553037, -0.47152549, -0.5308688 ,\n",
       "        1.54939898,  1.36510092, -0.47073935,  0.75692385, -0.00851045,\n",
       "       -0.097072  , -0.12850953,  0.2045453 , -0.04888831, -0.20169709,\n",
       "        1.35412198, -0.38416702,  0.83903078, -0.91109854, -0.49479108,\n",
       "        0.33307296,  0.12975155, -0.52101647,  1.01829298,  0.93533792,\n",
       "        0.21626208, -0.5022171 , -0.00554341, -0.13664752,  1.48383356,\n",
       "       -0.00656072, -0.61009983, -0.27354318,  1.03909372,  0.85181897,\n",
       "        0.44259422, -0.16343816,  1.37729324, -0.75515462, -1.0864337 ,\n",
       "       -1.08199697,  1.05242347,  1.35104967, -1.4641006 ,  0.32782155,\n",
       "       -0.46551328, -1.36532565,  0.69087128, -0.33730733,  0.18903572,\n",
       "        0.28316934, -1.07850826, -1.75750175, -0.14909428,  0.03700673,\n",
       "        0.66811393,  0.95855068,  0.03003571,  0.70182561, -1.31032698,\n",
       "       -0.97745426,  0.13908286, -1.23275363,  1.22228407, -0.13068671,\n",
       "        0.50339157, -0.18418176, -0.54798005,  1.20858974,  0.13221447,\n",
       "       -0.21511969,  0.13900564,  0.31434278,  0.95362181,  0.47960965,\n",
       "       -0.37690196,  0.45843198,  0.00600751,  0.27280056,  1.64271946,\n",
       "        0.64415826, -0.50482246, -0.11033087, -0.38616074, -0.34911267,\n",
       "        1.27614412,  0.54606197, -1.05125439, -0.09073497, -0.19540308])"
      ]
     },
     "execution_count": 63,
     "metadata": {},
     "output_type": "execute_result"
    }
   ],
   "source": [
    "y_pred = regr.predict(X_test)\n",
    "\n",
    "#revisar los resultados de las predicciones\n",
    "y_pred"
   ]
  },
  {
   "cell_type": "code",
   "execution_count": 64,
   "id": "ac821b26",
   "metadata": {},
   "outputs": [
    {
     "data": {
      "text/plain": [
       "(120,)"
      ]
     },
     "execution_count": 64,
     "metadata": {},
     "output_type": "execute_result"
    }
   ],
   "source": [
    "y_pred.shape"
   ]
  },
  {
   "cell_type": "code",
   "execution_count": 65,
   "id": "434d50f6",
   "metadata": {},
   "outputs": [],
   "source": [
    "y_pred = y_pred.reshape(-1, 1)"
   ]
  },
  {
   "cell_type": "code",
   "execution_count": 66,
   "id": "0266bacf",
   "metadata": {},
   "outputs": [],
   "source": [
    "y_pred = scaler_y.inverse_transform(y_pred)"
   ]
  },
  {
   "cell_type": "code",
   "execution_count": 67,
   "id": "d7906089",
   "metadata": {},
   "outputs": [
    {
     "data": {
      "text/plain": [
       "array([[0.75988534],\n",
       "       [0.57543108],\n",
       "       [0.7760377 ],\n",
       "       [0.94394566],\n",
       "       [0.74407106],\n",
       "       [0.72046401],\n",
       "       [0.88143846],\n",
       "       [0.76652499],\n",
       "       [0.8512248 ],\n",
       "       [0.91365495],\n",
       "       [0.95571006],\n",
       "       [0.68343118],\n",
       "       [0.74899885],\n",
       "       [0.9216436 ],\n",
       "       [0.77438572],\n",
       "       [0.94294975],\n",
       "       [0.69252798],\n",
       "       [0.75597852],\n",
       "       [0.67322811],\n",
       "       [0.85851998],\n",
       "       [0.93325956],\n",
       "       [0.50432963],\n",
       "       [0.78344726],\n",
       "       [0.71576416],\n",
       "       [0.61356067],\n",
       "       [0.64533908],\n",
       "       [0.82845093],\n",
       "       [0.82026634],\n",
       "       [0.53509329],\n",
       "       [0.74317401],\n",
       "       [0.75407081],\n",
       "       [0.6661252 ],\n",
       "       [0.71074352],\n",
       "       [0.65719017],\n",
       "       [0.64873785],\n",
       "       [0.94503238],\n",
       "       [0.91878263],\n",
       "       [0.65730214],\n",
       "       [0.83215939],\n",
       "       [0.72313785],\n",
       "       [0.71052394],\n",
       "       [0.70604626],\n",
       "       [0.75348358],\n",
       "       [0.71738679],\n",
       "       [0.69562209],\n",
       "       [0.91721889],\n",
       "       [0.66963272],\n",
       "       [0.84385396],\n",
       "       [0.59458136],\n",
       "       [0.65387643],\n",
       "       [0.7717899 ],\n",
       "       [0.74283064],\n",
       "       [0.65014112],\n",
       "       [0.86938644],\n",
       "       [0.85757108],\n",
       "       [0.75515242],\n",
       "       [0.65281874],\n",
       "       [0.72356045],\n",
       "       [0.70488716],\n",
       "       [0.93569383],\n",
       "       [0.72341555],\n",
       "       [0.6374529 ],\n",
       "       [0.68538898],\n",
       "       [0.87234911],\n",
       "       [0.84567539],\n",
       "       [0.78738912],\n",
       "       [0.70107135],\n",
       "       [0.92051919],\n",
       "       [0.6167926 ],\n",
       "       [0.56960821],\n",
       "       [0.57024014],\n",
       "       [0.87424768],\n",
       "       [0.9167813 ],\n",
       "       [0.51581675],\n",
       "       [0.77104194],\n",
       "       [0.6580465 ],\n",
       "       [0.52988536],\n",
       "       [0.82275146],\n",
       "       [0.67630699],\n",
       "       [0.75127454],\n",
       "       [0.76468208],\n",
       "       [0.57073704],\n",
       "       [0.47402734],\n",
       "       [0.70311436],\n",
       "       [0.7296209 ],\n",
       "       [0.81951011],\n",
       "       [0.86087729],\n",
       "       [0.72862801],\n",
       "       [0.82431169],\n",
       "       [0.53771887],\n",
       "       [0.58513025],\n",
       "       [0.7441597 ],\n",
       "       [0.54876772],\n",
       "       [0.89844109],\n",
       "       [0.70573617],\n",
       "       [0.79604854],\n",
       "       [0.69811682],\n",
       "       [0.64630068],\n",
       "       [0.89649059],\n",
       "       [0.74318143],\n",
       "       [0.6937103 ],\n",
       "       [0.74414871],\n",
       "       [0.76912214],\n",
       "       [0.86017527],\n",
       "       [0.79266126],\n",
       "       [0.67066749],\n",
       "       [0.78964491],\n",
       "       [0.72520566],\n",
       "       [0.76320525],\n",
       "       [0.9583241 ],\n",
       "       [0.81609808],\n",
       "       [0.65244765],\n",
       "       [0.70863547],\n",
       "       [0.66934876],\n",
       "       [0.67462555],\n",
       "       [0.90611243],\n",
       "       [0.80212613],\n",
       "       [0.57461883],\n",
       "       [0.71142653],\n",
       "       [0.69651855]])"
      ]
     },
     "execution_count": 67,
     "metadata": {},
     "output_type": "execute_result"
    }
   ],
   "source": [
    "y_pred"
   ]
  },
  {
   "cell_type": "markdown",
   "id": "d7f5f141",
   "metadata": {},
   "source": [
    "### Desempeño de la predicción"
   ]
  },
  {
   "cell_type": "code",
   "execution_count": 68,
   "id": "4b7e294f",
   "metadata": {},
   "outputs": [
    {
     "data": {
      "text/plain": [
       "-0.3179484816677529"
      ]
     },
     "execution_count": 68,
     "metadata": {},
     "output_type": "execute_result"
    }
   ],
   "source": [
    "# puntuacion de R2\n",
    "r2_score(y_test, y_pred)"
   ]
  },
  {
   "cell_type": "code",
   "execution_count": 69,
   "id": "8b4ee5bc",
   "metadata": {},
   "outputs": [
    {
     "data": {
      "text/plain": [
       "1.3720641728720484"
      ]
     },
     "execution_count": 69,
     "metadata": {},
     "output_type": "execute_result"
    }
   ],
   "source": [
    "# Error promedio al cuadrado \n",
    "mean_squared_error(y_test, y_pred)"
   ]
  },
  {
   "cell_type": "code",
   "execution_count": 70,
   "id": "bfaad90b",
   "metadata": {},
   "outputs": [
    {
     "data": {
      "text/plain": [
       "0.1801000051938043"
      ]
     },
     "execution_count": 70,
     "metadata": {},
     "output_type": "execute_result"
    }
   ],
   "source": [
    "# Puntuacion d evarianza explicada\n",
    "\n",
    "explained_variance_score(y_test, y_pred)"
   ]
  },
  {
   "cell_type": "code",
   "execution_count": 71,
   "id": "9c3feae8",
   "metadata": {},
   "outputs": [
    {
     "data": {
      "text/plain": [
       "0.9077347400845902"
      ]
     },
     "execution_count": 71,
     "metadata": {},
     "output_type": "execute_result"
    }
   ],
   "source": [
    "#error promedio absoluto \n",
    "mean_absolute_error(y_test, y_pred)"
   ]
  },
  {
   "cell_type": "code",
   "execution_count": 72,
   "id": "682bbdfc",
   "metadata": {},
   "outputs": [
    {
     "name": "stdout",
     "output_type": "stream",
     "text": [
      "Puntuacion R2:                              -0.3179484816677529\n",
      "Error promedio al cuadrado:                 1.3720641728720484\n",
      "Puntuacion d evarianza explicada            0.1801000051938043\n",
      "error promedio absoluto                     0.9077347400845902\n"
     ]
    }
   ],
   "source": [
    "#Comparación de las diferentes métricas de evaluación.\n",
    "\n",
    "print('Puntuacion R2:                              {}'.format(r2_score(y_test, y_pred)))\n",
    "print('Error promedio al cuadrado:                 {}'.format(mean_squared_error(y_test, y_pred)))\n",
    "print('Puntuacion d evarianza explicada            {}'.format(explained_variance_score(y_test, y_pred)))\n",
    "print('error promedio absoluto                     {}'.format(mean_absolute_error(y_test, y_pred)))"
   ]
  },
  {
   "cell_type": "markdown",
   "id": "788f3161",
   "metadata": {},
   "source": [
    "## Modelo  2- RIDGE & LASSO\n"
   ]
  },
  {
   "cell_type": "code",
   "execution_count": 74,
   "id": "4d8ad2b0",
   "metadata": {},
   "outputs": [],
   "source": [
    "X=df.drop('Chance_of_Admit',axis=1)\n",
    "y=df['Chance_of_Admit']"
   ]
  },
  {
   "cell_type": "code",
   "execution_count": 75,
   "id": "c080c395",
   "metadata": {},
   "outputs": [
    {
     "data": {
      "text/plain": [
       "(400, 7)"
      ]
     },
     "execution_count": 75,
     "metadata": {},
     "output_type": "execute_result"
    }
   ],
   "source": [
    "X.shape"
   ]
  },
  {
   "cell_type": "code",
   "execution_count": 80,
   "id": "ad9fd095",
   "metadata": {},
   "outputs": [
    {
     "data": {
      "text/plain": [
       "0.7904131744443779"
      ]
     },
     "execution_count": 80,
     "metadata": {},
     "output_type": "execute_result"
    }
   ],
   "source": [
    "#Importamos las librerías necesarias\n",
    "from sklearn.linear_model import LinearRegression\n",
    "from sklearn.metrics import mean_squared_error\n",
    "import matplotlib.pyplot as plt\n",
    "\n",
    "from sklearn.linear_model import Ridge \n",
    "\n",
    "#Creamos el conjunto de datos de entreanimiento y pruebas\n",
    "X_train, X_test, y_train, y_test = train_test_split(X, y, test_size=0.3, random_state = 42)\n",
    "\n",
    "#Instanciamos el modelo Ridge con los parámetros de alpha y normalización\n",
    "\n",
    "ridge =Ridge(alpha=0.1, normalize=True)\n",
    "\n",
    "#Entrenamos el modelo\n",
    "\n",
    "ridge.fit(X_train, y_train)\n",
    "\n",
    "#Realizamos las predicciones\n",
    "\n",
    "ridge_pred= ridge.predict(X_test)\n",
    "\n",
    "#Consultamos el rendimiento del modelo\n",
    "ridge.score(X_test, y_test)"
   ]
  },
  {
   "cell_type": "markdown",
   "id": "781bc5b5",
   "metadata": {},
   "source": [
    "**El resultado del modelo mejora en relación al anterior, dandonos un resultado de 0.79**"
   ]
  },
  {
   "cell_type": "code",
   "execution_count": 81,
   "id": "25788216",
   "metadata": {},
   "outputs": [
    {
     "name": "stdout",
     "output_type": "stream",
     "text": [
      "El R cuadrado del modelo es 0.7980824745980806\n",
      "El valor de B es: -1.0219254636326416\n",
      "Los coeficientes de la función son: [0.00094551 0.00297756 0.00675827 0.00303436 0.02100842 0.11785519\n",
      " 0.02433303]\n",
      "Root Mean Squared Error: 0.20274458822992364\n"
     ]
    }
   ],
   "source": [
    "#Imprimimos los resultados de la regresión lineal realizada\n",
    "\n",
    "print('El R cuadrado del modelo es '+str(reg.score(X_train, y_train)))\n",
    "\n",
    "print('El valor de B es: '+str(reg.intercept_))\n",
    "\n",
    "print('Los coeficientes de la función son: '+str(reg.coef_))\n",
    "\n",
    "rmse= np.sqrt(mean_squared_error(y_test, y_pred))\n",
    "print('Root Mean Squared Error: {}'.format(rmse))"
   ]
  },
  {
   "cell_type": "code",
   "execution_count": 82,
   "id": "55aae38e",
   "metadata": {},
   "outputs": [
    {
     "data": {
      "text/plain": [
       "-0.017614068163618102"
      ]
     },
     "execution_count": 82,
     "metadata": {},
     "output_type": "execute_result"
    }
   ],
   "source": [
    "from sklearn.linear_model import Lasso\n",
    "\n",
    "#Creamos el conjunto de datos de entreanimiento y pruebas\n",
    "X_train, X_test, y_train, y_test = train_test_split(X, y, test_size=0.3, random_state = 42)\n",
    "\n",
    "#Instanciamos el modelo Ridge con los parámetros de alpha y normalización\n",
    "lasso =Lasso(alpha=0.1, normalize=True)\n",
    "\n",
    "#Entrenamos el modelo\n",
    "lasso.fit(X_train, y_train)\n",
    "\n",
    "#Realizamos las predicciones\n",
    "lasso_pred= ridge.predict(X_test)\n",
    "\n",
    "#Consultamos el rendimiento del model\n",
    "\n",
    "lasso.score(X_test, y_test)"
   ]
  },
  {
   "cell_type": "markdown",
   "id": "9088db7d",
   "metadata": {},
   "source": [
    "### Aplicacion de Modelos XGBoost\n",
    "\n",
    "Importacion de las librerias"
   ]
  },
  {
   "cell_type": "code",
   "execution_count": 83,
   "id": "34c332af",
   "metadata": {},
   "outputs": [],
   "source": [
    "#Importamos las librerias necesarias\n",
    "import xgboost as xgb\n",
    "from sklearn.metrics import mean_squared_error\n",
    "from sklearn.metrics import mean_absolute_error\n",
    "import warnings\n",
    "warnings.filterwarnings(\"ignore\")"
   ]
  },
  {
   "cell_type": "markdown",
   "id": "d43df58f",
   "metadata": {},
   "source": [
    "**Seleccionamos las variables features y target**"
   ]
  },
  {
   "cell_type": "code",
   "execution_count": 84,
   "id": "ffb68799",
   "metadata": {},
   "outputs": [],
   "source": [
    "X=df.drop('Chance_of_Admit',axis=1)\n",
    "y=df['Chance_of_Admit']"
   ]
  },
  {
   "cell_type": "markdown",
   "id": "77a5975e",
   "metadata": {},
   "source": [
    "### Partición de datos\n",
    "\n",
    "Las muestras se dividen en un 70% de datos para entrenar y un 30% para la prueba."
   ]
  },
  {
   "cell_type": "code",
   "execution_count": 85,
   "id": "62771f1c",
   "metadata": {},
   "outputs": [],
   "source": [
    "from sklearn.model_selection import train_test_split\n",
    "\n",
    "X_train, X_test, y_train, y_test = train_test_split(X, y, test_size= 0.3, random_state = 123)"
   ]
  },
  {
   "cell_type": "code",
   "execution_count": 86,
   "id": "519045d6",
   "metadata": {},
   "outputs": [
    {
     "name": "stdout",
     "output_type": "stream",
     "text": [
      "Error cuadratico medio: 0.074246\n",
      "Error Absoluto medio: 0.052271\n"
     ]
    }
   ],
   "source": [
    "#Creamos el modelo de regresión XGB\n",
    "\n",
    "xg_reg = xgb.XGBRegressor(objective='reg:squarederror', n_estimators=10, seed=123)\n",
    "\n",
    "#Entrenamos el modelo con los datos de training\n",
    "xg_reg.fit(X_train, y_train)\n",
    "\n",
    "#Creamos una predicción usando\n",
    "preds = xg_reg.predict(X_test)\n",
    "\n",
    "#Calculamos los indicadores de rendimiento\n",
    "rmse = np.sqrt(mean_squared_error(y_test, preds))\n",
    "mae= mean_absolute_error(y_test, preds)\n",
    "\n",
    "#Imprimimos el puntaje RMSE y MAE obtenido\n",
    "print('Error cuadratico medio: %f' %(rmse))\n",
    "print('Error Absoluto medio: %f' %(mae))"
   ]
  },
  {
   "cell_type": "code",
   "execution_count": 87,
   "id": "0f5add36",
   "metadata": {},
   "outputs": [
    {
     "data": {
      "text/plain": [
       "array([0.890761  , 0.6605553 , 0.74988383, 0.71732557, 0.69523656,\n",
       "       0.7129136 , 0.5537492 , 0.846122  , 0.4165152 , 0.50852495,\n",
       "       0.87363005, 0.8454088 , 0.87814087, 0.9281963 , 0.67765194,\n",
       "       0.4433238 , 0.8366053 , 0.6811787 , 0.63717276, 0.7276284 ,\n",
       "       0.74860984, 0.86542076, 0.45438433, 0.83998215, 0.6962695 ,\n",
       "       0.7602096 , 0.80064297, 0.57432926, 0.62961465, 0.5210502 ,\n",
       "       0.86363375, 0.66637117, 0.7660698 , 0.8138179 , 0.61770177,\n",
       "       0.5939268 , 0.9165317 , 0.6830542 , 0.7305323 , 0.71732557,\n",
       "       0.840358  , 0.67471886, 0.695993  , 0.6841845 , 0.7280527 ,\n",
       "       0.6203374 , 0.50708234, 0.5786648 , 0.67013633, 0.77127445,\n",
       "       0.7496747 , 0.6540624 , 0.7786372 , 0.6956731 , 0.7277309 ,\n",
       "       0.92973214, 0.48034474, 0.7198761 , 0.7045242 , 0.79698735,\n",
       "       0.62172616, 0.59984416, 0.6665252 , 0.69847363, 0.77528995,\n",
       "       0.6772198 , 0.9309201 , 0.8366053 , 0.91202086, 0.91380787,\n",
       "       0.8963332 , 0.75511175, 0.70085585, 0.556793  , 0.7920615 ,\n",
       "       0.6680067 , 0.93399346, 0.6248621 , 0.7184195 , 0.7789941 ,\n",
       "       0.6638558 , 0.6997725 , 0.67611104, 0.5728925 , 0.66884124,\n",
       "       0.7228085 , 0.7407617 , 0.44686517, 0.53275305, 0.80677855,\n",
       "       0.9309201 , 0.68595284, 0.44275033, 0.75807315, 0.9309201 ,\n",
       "       0.58501655, 0.84071136, 0.7125267 , 0.8055025 , 0.442919  ,\n",
       "       0.63569695, 0.82979256, 0.92973214, 0.7775566 , 0.8416112 ,\n",
       "       0.6797678 , 0.77429086, 0.65153193, 0.571509  , 0.66870326,\n",
       "       0.65350235, 0.9309201 , 0.5548328 , 0.90954655, 0.666613  ,\n",
       "       0.5486779 , 0.8366053 , 0.90954655, 0.9309201 , 0.846122  ],\n",
       "      dtype=float32)"
      ]
     },
     "execution_count": 87,
     "metadata": {},
     "output_type": "execute_result"
    }
   ],
   "source": [
    "preds"
   ]
  },
  {
   "cell_type": "code",
   "execution_count": 89,
   "id": "6bbd327a",
   "metadata": {},
   "outputs": [
    {
     "data": {
      "text/plain": [
       "0.9498861364047342"
      ]
     },
     "execution_count": 89,
     "metadata": {},
     "output_type": "execute_result"
    }
   ],
   "source": [
    "xg_reg.score(X_train, y_train)"
   ]
  },
  {
   "cell_type": "markdown",
   "id": "064265e1",
   "metadata": {},
   "source": [
    "## Seleccione el algrotimo e indicar porqué fue seleccionado.\n",
    "\n",
    "**XGBoost**"
   ]
  },
  {
   "cell_type": "markdown",
   "id": "faebbff2",
   "metadata": {},
   "source": [
    "Finalmente para este caso desarrollado se procede a elegir la aplicación del **XGBoost**  en vista que está dando un resultado de predicción del 0.94, ademas que el nivel de los errores **Error cuadratico medio: 0.074246** y **Error Absoluto medio: 0.052271**, son bastante bajos. por lo que para la predicción del data set de Admisiones en el que se debe predecir el valor de Y =  Chance_of_Admit. se prefiere el resultado obtenido con el modelo de **XGBoost** "
   ]
  }
 ],
 "metadata": {
  "kernelspec": {
   "display_name": "Python 3 (ipykernel)",
   "language": "python",
   "name": "python3"
  },
  "language_info": {
   "codemirror_mode": {
    "name": "ipython",
    "version": 3
   },
   "file_extension": ".py",
   "mimetype": "text/x-python",
   "name": "python",
   "nbconvert_exporter": "python",
   "pygments_lexer": "ipython3",
   "version": "3.9.12"
  }
 },
 "nbformat": 4,
 "nbformat_minor": 5
}
