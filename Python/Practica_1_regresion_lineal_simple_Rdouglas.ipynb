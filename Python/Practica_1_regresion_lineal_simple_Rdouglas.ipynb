{
 "cells": [
  {
   "cell_type": "markdown",
   "id": "2f0e07aa",
   "metadata": {},
   "source": [
    "### Práctica #1 Regresión Simple con Python\n",
    "\n",
    "**Estudiante** Richard Douglas Grijalba\n",
    "\n",
    "**Practica #1 Modelos Regresion Lineal con Python**\n",
    "\n",
    "**Modalidad Virtual - Grow Up Analytics**\n",
    "\n",
    "En esta práctia se realizará una predicción sobre los ingreso por ventas, para lo cual se recibe la información de ventas por medio de comunicación, por lo tanto se deb elegir una variable y realizar una regresión Simple Lienal.\n",
    "\n",
    "* Realice la carga de los paquetes necesarios para realizar el análisis\n",
    "* Cargue el conjunto de datos y realice la exploración de la información\n",
    "* Ejecute el análisi exploratorio (visualizar la distribución del conjunto de datos, explorar relación de Sales contra las otras variables)\n",
    "* Matriz de Correlación\n",
    "* Elija ua variable X según la correlación obtenida \n",
    "* Separar el conunto de atos e train y test\n",
    "* Crear el modelo de regresion lineal\n",
    "* Evaluar el resultado del modelo al menos con 3 diferentes métodos para validar la precisión algoritmica, explicar los resultados\n",
    "\n",
    "\n",
    "**El dataset se compone :**\n",
    " Tres medios de comunicación, TV , Radio , Periodico, y se desea determinar cual es la insidencia de estos sobre las Ventas.\n",
    " \n",
    " Por lo tanto se procede a realizar un modelo de regresión lineal para dicho motivo."
   ]
  },
  {
   "cell_type": "code",
   "execution_count": 1,
   "id": "9a664e08",
   "metadata": {},
   "outputs": [],
   "source": [
    "# importar algunas librerias \n",
    "import numpy as np\n",
    "import pandas as pd\n",
    "import matplotlib.pyplot as plt\n",
    "import seaborn as sns\n",
    "import warnings\n",
    "warnings.filterwarnings(\"ignore\")"
   ]
  },
  {
   "cell_type": "code",
   "execution_count": 2,
   "id": "939ea3cd",
   "metadata": {},
   "outputs": [
    {
     "data": {
      "text/html": [
       "<div>\n",
       "<style scoped>\n",
       "    .dataframe tbody tr th:only-of-type {\n",
       "        vertical-align: middle;\n",
       "    }\n",
       "\n",
       "    .dataframe tbody tr th {\n",
       "        vertical-align: top;\n",
       "    }\n",
       "\n",
       "    .dataframe thead th {\n",
       "        text-align: right;\n",
       "    }\n",
       "</style>\n",
       "<table border=\"1\" class=\"dataframe\">\n",
       "  <thead>\n",
       "    <tr style=\"text-align: right;\">\n",
       "      <th></th>\n",
       "      <th>Unnamed: 0</th>\n",
       "      <th>TV</th>\n",
       "      <th>Radio</th>\n",
       "      <th>Periodico</th>\n",
       "      <th>Ventas</th>\n",
       "    </tr>\n",
       "  </thead>\n",
       "  <tbody>\n",
       "    <tr>\n",
       "      <th>0</th>\n",
       "      <td>1</td>\n",
       "      <td>230.1</td>\n",
       "      <td>37.8</td>\n",
       "      <td>69.2</td>\n",
       "      <td>22.1</td>\n",
       "    </tr>\n",
       "    <tr>\n",
       "      <th>1</th>\n",
       "      <td>2</td>\n",
       "      <td>44.5</td>\n",
       "      <td>39.3</td>\n",
       "      <td>45.1</td>\n",
       "      <td>10.4</td>\n",
       "    </tr>\n",
       "    <tr>\n",
       "      <th>2</th>\n",
       "      <td>3</td>\n",
       "      <td>17.2</td>\n",
       "      <td>45.9</td>\n",
       "      <td>69.3</td>\n",
       "      <td>9.3</td>\n",
       "    </tr>\n",
       "  </tbody>\n",
       "</table>\n",
       "</div>"
      ],
      "text/plain": [
       "   Unnamed: 0     TV  Radio  Periodico  Ventas\n",
       "0           1  230.1   37.8       69.2    22.1\n",
       "1           2   44.5   39.3       45.1    10.4\n",
       "2           3   17.2   45.9       69.3     9.3"
      ]
     },
     "execution_count": 2,
     "metadata": {},
     "output_type": "execute_result"
    }
   ],
   "source": [
    "import csv\n",
    "df = pd.read_csv('C:\\\\Users\\\\Rdouglas\\\\Documents\\\\Python Scripts\\\\curso Grow Up\\\\ML Modelos Regresion\\\\practicas\\\\Publicidad.csv')\n",
    "\n",
    "df.head(3)"
   ]
  },
  {
   "cell_type": "code",
   "execution_count": 3,
   "id": "9280f98b",
   "metadata": {},
   "outputs": [
    {
     "data": {
      "text/plain": [
       "Index(['Unnamed: 0', 'TV', 'Radio', 'Periodico', 'Ventas'], dtype='object')"
      ]
     },
     "execution_count": 3,
     "metadata": {},
     "output_type": "execute_result"
    }
   ],
   "source": [
    "# revisar las columnas \n",
    "df.columns"
   ]
  },
  {
   "cell_type": "code",
   "execution_count": 4,
   "id": "3267cb4c",
   "metadata": {},
   "outputs": [],
   "source": [
    "#quitar la columnas no necesaria\n",
    "\n",
    "df = df.drop(['Unnamed: 0'],1)"
   ]
  },
  {
   "cell_type": "code",
   "execution_count": 5,
   "id": "928dfdb5",
   "metadata": {},
   "outputs": [
    {
     "data": {
      "text/html": [
       "<div>\n",
       "<style scoped>\n",
       "    .dataframe tbody tr th:only-of-type {\n",
       "        vertical-align: middle;\n",
       "    }\n",
       "\n",
       "    .dataframe tbody tr th {\n",
       "        vertical-align: top;\n",
       "    }\n",
       "\n",
       "    .dataframe thead th {\n",
       "        text-align: right;\n",
       "    }\n",
       "</style>\n",
       "<table border=\"1\" class=\"dataframe\">\n",
       "  <thead>\n",
       "    <tr style=\"text-align: right;\">\n",
       "      <th></th>\n",
       "      <th>TV</th>\n",
       "      <th>Radio</th>\n",
       "      <th>Periodico</th>\n",
       "      <th>Ventas</th>\n",
       "    </tr>\n",
       "  </thead>\n",
       "  <tbody>\n",
       "    <tr>\n",
       "      <th>0</th>\n",
       "      <td>230.1</td>\n",
       "      <td>37.8</td>\n",
       "      <td>69.2</td>\n",
       "      <td>22.1</td>\n",
       "    </tr>\n",
       "    <tr>\n",
       "      <th>1</th>\n",
       "      <td>44.5</td>\n",
       "      <td>39.3</td>\n",
       "      <td>45.1</td>\n",
       "      <td>10.4</td>\n",
       "    </tr>\n",
       "    <tr>\n",
       "      <th>2</th>\n",
       "      <td>17.2</td>\n",
       "      <td>45.9</td>\n",
       "      <td>69.3</td>\n",
       "      <td>9.3</td>\n",
       "    </tr>\n",
       "  </tbody>\n",
       "</table>\n",
       "</div>"
      ],
      "text/plain": [
       "      TV  Radio  Periodico  Ventas\n",
       "0  230.1   37.8       69.2    22.1\n",
       "1   44.5   39.3       45.1    10.4\n",
       "2   17.2   45.9       69.3     9.3"
      ]
     },
     "execution_count": 5,
     "metadata": {},
     "output_type": "execute_result"
    }
   ],
   "source": [
    "df.head(3)"
   ]
  },
  {
   "cell_type": "markdown",
   "id": "7cb050f9",
   "metadata": {},
   "source": [
    "**Revisión de los Datos**"
   ]
  },
  {
   "cell_type": "code",
   "execution_count": 6,
   "id": "46894228",
   "metadata": {},
   "outputs": [
    {
     "name": "stdout",
     "output_type": "stream",
     "text": [
      "<class 'pandas.core.frame.DataFrame'>\n",
      "RangeIndex: 200 entries, 0 to 199\n",
      "Data columns (total 4 columns):\n",
      " #   Column     Non-Null Count  Dtype  \n",
      "---  ------     --------------  -----  \n",
      " 0   TV         200 non-null    float64\n",
      " 1   Radio      200 non-null    float64\n",
      " 2   Periodico  200 non-null    float64\n",
      " 3   Ventas     200 non-null    float64\n",
      "dtypes: float64(4)\n",
      "memory usage: 6.4 KB\n"
     ]
    }
   ],
   "source": [
    "df.info()"
   ]
  },
  {
   "cell_type": "markdown",
   "id": "57f56284",
   "metadata": {},
   "source": [
    "**Dimensiones del dataset**"
   ]
  },
  {
   "cell_type": "code",
   "execution_count": 7,
   "id": "6c761777",
   "metadata": {},
   "outputs": [
    {
     "name": "stdout",
     "output_type": "stream",
     "text": [
      "Numero de Filas:200\n",
      "Numero de Columnas:4\n"
     ]
    }
   ],
   "source": [
    "print(\"Numero de Filas:\" +str(df.shape[0]))\n",
    "print(\"Numero de Columnas:\" +str(df.shape[1]))"
   ]
  },
  {
   "cell_type": "markdown",
   "id": "dde4f746",
   "metadata": {},
   "source": [
    "**Valores Nulos**"
   ]
  },
  {
   "cell_type": "code",
   "execution_count": 8,
   "id": "2a9ffaab",
   "metadata": {},
   "outputs": [
    {
     "data": {
      "text/plain": [
       "TV           0\n",
       "Radio        0\n",
       "Periodico    0\n",
       "Ventas       0\n",
       "dtype: int64"
      ]
     },
     "execution_count": 8,
     "metadata": {},
     "output_type": "execute_result"
    }
   ],
   "source": [
    "df.isnull().sum()"
   ]
  },
  {
   "cell_type": "code",
   "execution_count": 9,
   "id": "c8a108b9",
   "metadata": {},
   "outputs": [
    {
     "data": {
      "text/plain": [
       "TV           0\n",
       "Radio        0\n",
       "Periodico    0\n",
       "Ventas       0\n",
       "dtype: int64"
      ]
     },
     "execution_count": 9,
     "metadata": {},
     "output_type": "execute_result"
    }
   ],
   "source": [
    "df.isna().sum()"
   ]
  },
  {
   "cell_type": "markdown",
   "id": "49ee2528",
   "metadata": {},
   "source": [
    "**Exploración rápida de las Caracteristicas**"
   ]
  },
  {
   "cell_type": "code",
   "execution_count": 10,
   "id": "9fee62b4",
   "metadata": {},
   "outputs": [
    {
     "data": {
      "text/html": [
       "<div>\n",
       "<style scoped>\n",
       "    .dataframe tbody tr th:only-of-type {\n",
       "        vertical-align: middle;\n",
       "    }\n",
       "\n",
       "    .dataframe tbody tr th {\n",
       "        vertical-align: top;\n",
       "    }\n",
       "\n",
       "    .dataframe thead th {\n",
       "        text-align: right;\n",
       "    }\n",
       "</style>\n",
       "<table border=\"1\" class=\"dataframe\">\n",
       "  <thead>\n",
       "    <tr style=\"text-align: right;\">\n",
       "      <th></th>\n",
       "      <th>TV</th>\n",
       "      <th>Radio</th>\n",
       "      <th>Periodico</th>\n",
       "      <th>Ventas</th>\n",
       "    </tr>\n",
       "  </thead>\n",
       "  <tbody>\n",
       "    <tr>\n",
       "      <th>count</th>\n",
       "      <td>200.000000</td>\n",
       "      <td>200.000000</td>\n",
       "      <td>200.000000</td>\n",
       "      <td>200.000000</td>\n",
       "    </tr>\n",
       "    <tr>\n",
       "      <th>mean</th>\n",
       "      <td>147.042500</td>\n",
       "      <td>23.264000</td>\n",
       "      <td>30.554000</td>\n",
       "      <td>14.022500</td>\n",
       "    </tr>\n",
       "    <tr>\n",
       "      <th>std</th>\n",
       "      <td>85.854236</td>\n",
       "      <td>14.846809</td>\n",
       "      <td>21.778621</td>\n",
       "      <td>5.217457</td>\n",
       "    </tr>\n",
       "    <tr>\n",
       "      <th>min</th>\n",
       "      <td>0.700000</td>\n",
       "      <td>0.000000</td>\n",
       "      <td>0.300000</td>\n",
       "      <td>1.600000</td>\n",
       "    </tr>\n",
       "    <tr>\n",
       "      <th>25%</th>\n",
       "      <td>74.375000</td>\n",
       "      <td>9.975000</td>\n",
       "      <td>12.750000</td>\n",
       "      <td>10.375000</td>\n",
       "    </tr>\n",
       "    <tr>\n",
       "      <th>50%</th>\n",
       "      <td>149.750000</td>\n",
       "      <td>22.900000</td>\n",
       "      <td>25.750000</td>\n",
       "      <td>12.900000</td>\n",
       "    </tr>\n",
       "    <tr>\n",
       "      <th>75%</th>\n",
       "      <td>218.825000</td>\n",
       "      <td>36.525000</td>\n",
       "      <td>45.100000</td>\n",
       "      <td>17.400000</td>\n",
       "    </tr>\n",
       "    <tr>\n",
       "      <th>max</th>\n",
       "      <td>296.400000</td>\n",
       "      <td>49.600000</td>\n",
       "      <td>114.000000</td>\n",
       "      <td>27.000000</td>\n",
       "    </tr>\n",
       "  </tbody>\n",
       "</table>\n",
       "</div>"
      ],
      "text/plain": [
       "               TV       Radio   Periodico      Ventas\n",
       "count  200.000000  200.000000  200.000000  200.000000\n",
       "mean   147.042500   23.264000   30.554000   14.022500\n",
       "std     85.854236   14.846809   21.778621    5.217457\n",
       "min      0.700000    0.000000    0.300000    1.600000\n",
       "25%     74.375000    9.975000   12.750000   10.375000\n",
       "50%    149.750000   22.900000   25.750000   12.900000\n",
       "75%    218.825000   36.525000   45.100000   17.400000\n",
       "max    296.400000   49.600000  114.000000   27.000000"
      ]
     },
     "execution_count": 10,
     "metadata": {},
     "output_type": "execute_result"
    }
   ],
   "source": [
    "df.describe()"
   ]
  },
  {
   "cell_type": "markdown",
   "id": "acef4b30",
   "metadata": {},
   "source": [
    "### EDA - Análisis Exploratorio de Datos\n",
    "\n",
    "**1. TV**\n",
    "\n",
    "*Medidas de Tendencia Central*"
   ]
  },
  {
   "cell_type": "code",
   "execution_count": 11,
   "id": "8fd64059",
   "metadata": {},
   "outputs": [
    {
     "data": {
      "text/plain": [
       "count    200.000000\n",
       "mean     147.042500\n",
       "std       85.854236\n",
       "min        0.700000\n",
       "25%       74.375000\n",
       "50%      149.750000\n",
       "75%      218.825000\n",
       "max      296.400000\n",
       "Name: TV, dtype: float64"
      ]
     },
     "execution_count": 11,
     "metadata": {},
     "output_type": "execute_result"
    }
   ],
   "source": [
    "df['TV'].describe()  # se pueden observar las medidas de la caracteristica TV"
   ]
  },
  {
   "cell_type": "code",
   "execution_count": 12,
   "id": "655ce689",
   "metadata": {},
   "outputs": [
    {
     "data": {
      "text/plain": [
       "0     17.2\n",
       "1     76.4\n",
       "2    109.8\n",
       "3    177.0\n",
       "4    184.9\n",
       "5    197.6\n",
       "6    199.8\n",
       "7    222.4\n",
       "8    237.4\n",
       "9    240.1\n",
       "Name: TV, dtype: float64"
      ]
     },
     "execution_count": 12,
     "metadata": {},
     "output_type": "execute_result"
    }
   ],
   "source": [
    "df['TV'].mode()  # la caracteristica TV corresponde a tipo multi modal"
   ]
  },
  {
   "cell_type": "code",
   "execution_count": 13,
   "id": "cd5d2246",
   "metadata": {},
   "outputs": [
    {
     "data": {
      "image/png": "[encoded data removed]",
      "text/plain": [
       "<Figure size 432x288 with 1 Axes>"
      ]
     },
     "metadata": {
      "needs_background": "light"
     },
     "output_type": "display_data"
    }
   ],
   "source": [
    "ax = df.TV.plot.hist(density=True)\n",
    "df.TV.plot.density(ax=ax);"
   ]
  },
  {
   "cell_type": "code",
   "execution_count": 14,
   "id": "3a26a37d",
   "metadata": {},
   "outputs": [
    {
     "data": {
      "image/png": "[encoded data removed]",
      "text/plain": [
       "<Figure size 432x288 with 1 Axes>"
      ]
     },
     "metadata": {
      "needs_background": "light"
     },
     "output_type": "display_data"
    }
   ],
   "source": [
    "ax = sns.boxplot(x=df[\"TV\"])  # no se observan valores outliers"
   ]
  },
  {
   "cell_type": "markdown",
   "id": "6334d881",
   "metadata": {},
   "source": [
    "**2.Radio**\n",
    "\n",
    "*Medidas de Tendencia Central*"
   ]
  },
  {
   "cell_type": "code",
   "execution_count": 15,
   "id": "4786c6aa",
   "metadata": {},
   "outputs": [
    {
     "data": {
      "text/plain": [
       "count    200.000000\n",
       "mean      23.264000\n",
       "std       14.846809\n",
       "min        0.000000\n",
       "25%        9.975000\n",
       "50%       22.900000\n",
       "75%       36.525000\n",
       "max       49.600000\n",
       "Name: Radio, dtype: float64"
      ]
     },
     "execution_count": 15,
     "metadata": {},
     "output_type": "execute_result"
    }
   ],
   "source": [
    "df['Radio'].describe()  #se muestr aque el valor promedio es de 23.26 , el valor maximo es de 49.6"
   ]
  },
  {
   "cell_type": "code",
   "execution_count": 16,
   "id": "5e553c45",
   "metadata": {},
   "outputs": [
    {
     "data": {
      "image/png": "[encoded data removed]",
      "text/plain": [
       "<Figure size 432x288 with 1 Axes>"
      ]
     },
     "metadata": {
      "needs_background": "light"
     },
     "output_type": "display_data"
    }
   ],
   "source": [
    "ax = df.Radio.plot.hist(density=True)   # se observa el comportamiento de los datos de la caracteristica\n",
    "df.Radio.plot.density(ax=ax);"
   ]
  },
  {
   "cell_type": "code",
   "execution_count": 17,
   "id": "668c4418",
   "metadata": {},
   "outputs": [
    {
     "data": {
      "image/png": "[encoded data removed]",
      "text/plain": [
       "<Figure size 432x288 with 1 Axes>"
      ]
     },
     "metadata": {
      "needs_background": "light"
     },
     "output_type": "display_data"
    }
   ],
   "source": [
    "ax = sns.boxplot(x=df[\"Radio\"])   # no se observan valores outliers"
   ]
  },
  {
   "cell_type": "markdown",
   "id": "2b41919b",
   "metadata": {},
   "source": [
    "**3.Periodico**\n",
    "\n",
    "*Medidas de Tendencia Central*"
   ]
  },
  {
   "cell_type": "code",
   "execution_count": 18,
   "id": "4e611842",
   "metadata": {},
   "outputs": [
    {
     "data": {
      "text/plain": [
       "count    200.000000\n",
       "mean      30.554000\n",
       "std       21.778621\n",
       "min        0.300000\n",
       "25%       12.750000\n",
       "50%       25.750000\n",
       "75%       45.100000\n",
       "max      114.000000\n",
       "Name: Periodico, dtype: float64"
      ]
     },
     "execution_count": 18,
     "metadata": {},
     "output_type": "execute_result"
    }
   ],
   "source": [
    "df['Periodico'].describe()  "
   ]
  },
  {
   "cell_type": "markdown",
   "id": "c70d60d2",
   "metadata": {},
   "source": [
    " el valor maximo es 14, el promedio es 30,  Q5 = indica que indica que el 50% de los datos presenta una valor menor o igual a 25.75"
   ]
  },
  {
   "cell_type": "code",
   "execution_count": 19,
   "id": "525419ff",
   "metadata": {},
   "outputs": [
    {
     "data": {
      "image/png": "[encoded data removed]",
      "text/plain": [
       "<Figure size 432x288 with 1 Axes>"
      ]
     },
     "metadata": {
      "needs_background": "light"
     },
     "output_type": "display_data"
    }
   ],
   "source": [
    "ax = df.Periodico.plot.hist(density=True)        # la distribucion de los datos d ela caracteristica periodico\n",
    "df.Periodico.plot.density(ax=ax);"
   ]
  },
  {
   "cell_type": "code",
   "execution_count": 20,
   "id": "9f255749",
   "metadata": {},
   "outputs": [
    {
     "data": {
      "image/png": "[encoded data removed]",
      "text/plain": [
       "<Figure size 432x288 with 1 Axes>"
      ]
     },
     "metadata": {
      "needs_background": "light"
     },
     "output_type": "display_data"
    }
   ],
   "source": [
    "ax = sns.boxplot(x=df[\"Periodico\"])  # se aprecian algunos valores atipicos en esta caracteristica"
   ]
  },
  {
   "cell_type": "markdown",
   "id": "b2962a34",
   "metadata": {},
   "source": [
    "**4. Ventas**\n",
    "\n",
    "*Medidas de Tendencia Central*"
   ]
  },
  {
   "cell_type": "code",
   "execution_count": 21,
   "id": "624f6b99",
   "metadata": {},
   "outputs": [
    {
     "data": {
      "text/plain": [
       "count    200.000000\n",
       "mean      14.022500\n",
       "std        5.217457\n",
       "min        1.600000\n",
       "25%       10.375000\n",
       "50%       12.900000\n",
       "75%       17.400000\n",
       "max       27.000000\n",
       "Name: Ventas, dtype: float64"
      ]
     },
     "execution_count": 21,
     "metadata": {},
     "output_type": "execute_result"
    }
   ],
   "source": [
    "df['Ventas'].describe()"
   ]
  },
  {
   "cell_type": "code",
   "execution_count": 22,
   "id": "932f9429",
   "metadata": {},
   "outputs": [
    {
     "data": {
      "image/png": "[encoded data removed]",
      "text/plain": [
       "<Figure size 432x288 with 1 Axes>"
      ]
     },
     "metadata": {
      "needs_background": "light"
     },
     "output_type": "display_data"
    }
   ],
   "source": [
    "ax = df.Ventas.plot.hist(density=True)\n",
    "df.Ventas.plot.density(ax=ax);"
   ]
  },
  {
   "cell_type": "code",
   "execution_count": 23,
   "id": "f2e25fce",
   "metadata": {},
   "outputs": [
    {
     "data": {
      "image/png": "[encoded data removed]",
      "text/plain": [
       "<Figure size 432x288 with 1 Axes>"
      ]
     },
     "metadata": {
      "needs_background": "light"
     },
     "output_type": "display_data"
    }
   ],
   "source": [
    "ax = sns.boxplot(x=df[\"Ventas\"])"
   ]
  },
  {
   "cell_type": "markdown",
   "id": "76f4afd7",
   "metadata": {},
   "source": [
    "**Explorar la Relación de la variable sales con las demás variables**"
   ]
  },
  {
   "cell_type": "code",
   "execution_count": 24,
   "id": "44d53f42",
   "metadata": {},
   "outputs": [
    {
     "data": {
      "text/plain": [
       "Index(['TV', 'Radio', 'Periodico', 'Ventas'], dtype='object')"
      ]
     },
     "execution_count": 24,
     "metadata": {},
     "output_type": "execute_result"
    }
   ],
   "source": [
    "df.columns"
   ]
  },
  {
   "cell_type": "code",
   "execution_count": 25,
   "id": "7c299f76",
   "metadata": {},
   "outputs": [
    {
     "data": {
      "image/png": "[encoded data removed]",
      "text/plain": [
       "<Figure size 432x288 with 1 Axes>"
      ]
     },
     "metadata": {
      "needs_background": "light"
     },
     "output_type": "display_data"
    }
   ],
   "source": [
    "df.plot.scatter(x= 'TV', y='Ventas');"
   ]
  },
  {
   "cell_type": "markdown",
   "id": "c2e23a40",
   "metadata": {},
   "source": [
    "se muestra la relación entre la caracteristica TV y las ventas, según se muestra a un mayor gasto de pauta publicitaria en el medio de comunicación TV, refleja un mayor monto de Ventas.\n",
    "\n",
    "**Por lo tanto se muestra una relación positiva, a mayor aumento de pauta en TV, aumentan las ventas**"
   ]
  },
  {
   "cell_type": "code",
   "execution_count": 26,
   "id": "635fc336",
   "metadata": {},
   "outputs": [
    {
     "data": {
      "image/png": "[encoded data removed]",
      "text/plain": [
       "<Figure size 432x288 with 1 Axes>"
      ]
     },
     "metadata": {
      "needs_background": "light"
     },
     "output_type": "display_data"
    }
   ],
   "source": [
    "df.plot.scatter(x= 'Radio', y='Ventas');"
   ]
  },
  {
   "cell_type": "code",
   "execution_count": 27,
   "id": "11876c8a",
   "metadata": {},
   "outputs": [
    {
     "data": {
      "image/png": "[encoded data removed]",
      "text/plain": [
       "<Figure size 432x288 with 1 Axes>"
      ]
     },
     "metadata": {
      "needs_background": "light"
     },
     "output_type": "display_data"
    }
   ],
   "source": [
    "df.plot.scatter(x= 'Periodico', y='Ventas');"
   ]
  },
  {
   "cell_type": "markdown",
   "id": "298c856b",
   "metadata": {},
   "source": [
    "Este gráfico muestra que la relación entre ambos es bajo, por lo tanto un aumento en el gasto de pauta publicitaria en el periodico *-genera un posible aumento en las ventas-*"
   ]
  },
  {
   "cell_type": "markdown",
   "id": "91f9eb2c",
   "metadata": {},
   "source": [
    "**Matriz de Correlación**"
   ]
  },
  {
   "cell_type": "code",
   "execution_count": 28,
   "id": "3639c46a",
   "metadata": {},
   "outputs": [
    {
     "data": {
      "image/png": "[encoded data removed]",
      "text/plain": [
       "<Figure size 720x432 with 2 Axes>"
      ]
     },
     "metadata": {
      "needs_background": "light"
     },
     "output_type": "display_data"
    }
   ],
   "source": [
    "#creacion de la matriz de correlación\n",
    "\n",
    "correlation_mat = df.corr()\n",
    "plt.figure(figsize=(10,6))\n",
    "plt.title(\"Matriz de Correlación\")\n",
    "sns.heatmap(correlation_mat, annot=True)\n",
    "plt.show()\n"
   ]
  },
  {
   "cell_type": "markdown",
   "id": "25479157",
   "metadata": {},
   "source": [
    "De la anterior matriz de correlación se muestra que **Ventas y TV** presentan la mayor correlación positiva de 0.78 fuerte-alta. mientras que la segunda correlación es **Radio y Ventas** es una correlación de 0.58 -alta- , mientras que la relación entre **Periodico y Ventas** presenta una correlación de 0.23 -baja-"
   ]
  },
  {
   "cell_type": "markdown",
   "id": "ac7e8ee5",
   "metadata": {},
   "source": [
    "### Elija ua variable X según la correlación obtenida \n",
    "\n",
    "en este caso se elije la variable TV.\n",
    "\n",
    "    -Tv = variable X\n",
    "    -Vetas= variable Y"
   ]
  },
  {
   "cell_type": "markdown",
   "id": "12c1c9b3",
   "metadata": {},
   "source": [
    "Se procedió a elegir la caracteristica **TV** para predecir el monto de **ventas**, esto por la relación que muestran ambas caracteristicas, tal y como se muestra en el siguiente gráfico."
   ]
  },
  {
   "cell_type": "code",
   "execution_count": 29,
   "id": "f61e3b89",
   "metadata": {},
   "outputs": [
    {
     "data": {
      "image/png": "[encoded data removed]",
      "text/plain": [
       "<Figure size 432x288 with 1 Axes>"
      ]
     },
     "metadata": {
      "needs_background": "light"
     },
     "output_type": "display_data"
    }
   ],
   "source": [
    "sns.regplot(df['TV'], df['Ventas']);"
   ]
  },
  {
   "cell_type": "markdown",
   "id": "6e4b1337",
   "metadata": {},
   "source": [
    "### **Modelo de Regresión Lineal**"
   ]
  },
  {
   "cell_type": "code",
   "execution_count": 30,
   "id": "88f50ab7",
   "metadata": {},
   "outputs": [],
   "source": [
    "#Importamos las librerías necesarias\n",
    "from sklearn.linear_model import LinearRegression\n",
    "from sklearn.metrics import mean_squared_error\n",
    "import matplotlib.pyplot as plt"
   ]
  },
  {
   "cell_type": "code",
   "execution_count": 31,
   "id": "782c741b",
   "metadata": {},
   "outputs": [
    {
     "name": "stdout",
     "output_type": "stream",
     "text": [
      "Tipo de valor para Y:<class 'numpy.ndarray'>Dimensiones (200,)\n",
      "Tipo de valos para X: <class 'numpy.ndarray'>Dimensiones (200,)\n",
      "Tipo de valor para V_feature: <class 'numpy.ndarray'> Dimensiones (200, 1)\n",
      "[22.1 10.4  9.3 18.5 12.9  7.2 11.8 13.2  4.8 10.6  8.6 17.4  9.2  9.7\n",
      " 19.  22.4 12.5 24.4 11.3 14.6 18.  12.5  5.6 15.5  9.7 12.  15.  15.9\n",
      " 18.9 10.5 21.4 11.9  9.6 17.4  9.5 12.8 25.4 14.7 10.1 21.5 16.6 17.1\n",
      " 20.7 12.9  8.5 14.9 10.6 23.2 14.8  9.7 11.4 10.7 22.6 21.2 20.2 23.7\n",
      "  5.5 13.2 23.8 18.4  8.1 24.2 15.7 14.  18.   9.3  9.5 13.4 18.9 22.3\n",
      " 18.3 12.4  8.8 11.  17.   8.7  6.9 14.2  5.3 11.  11.8 12.3 11.3 13.6\n",
      " 21.7 15.2 12.  16.  12.9 16.7 11.2  7.3 19.4 22.2 11.5 16.9 11.7 15.5\n",
      " 25.4 17.2 11.7 23.8 14.8 14.7 20.7 19.2  7.2  8.7  5.3 19.8 13.4 21.8\n",
      " 14.1 15.9 14.6 12.6 12.2  9.4 15.9  6.6 15.5  7.  11.6 15.2 19.7 10.6\n",
      "  6.6  8.8 24.7  9.7  1.6 12.7  5.7 19.6 10.8 11.6  9.5 20.8  9.6 20.7\n",
      " 10.9 19.2 20.1 10.4 11.4 10.3 13.2 25.4 10.9 10.1 16.1 11.6 16.6 19.\n",
      " 15.6  3.2 15.3 10.1  7.3 12.9 14.4 13.3 14.9 18.  11.9 11.9  8.  12.2\n",
      " 17.1 15.   8.4 14.5  7.6 11.7 11.5 27.  20.2 11.7 11.8 12.6 10.5 12.2\n",
      "  8.7 26.2 17.6 22.6 10.3 17.3 15.9  6.7 10.8  9.9  5.9 19.6 17.3  7.6\n",
      "  9.7 12.8 25.5 13.4]\n"
     ]
    }
   ],
   "source": [
    "#Definimos la variable a predecir\n",
    "\n",
    "y = df['Ventas'].values\n",
    "\n",
    "v_predecir = y\n",
    "\n",
    "print('Tipo de valor para Y:'+str(type(y))+'Dimensiones '+str(y.shape))\n",
    "\n",
    "#Definimos las variables feature que seran utilziadas para predecir la presion\n",
    "X=df['TV'].values\n",
    "\n",
    "v_feature =X.reshape(-1,1)\n",
    "#Consultamos las dimensiones de la variable feature, \n",
    "\n",
    "print('Tipo de valos para X: '+str(type(X))+'Dimensiones '+str(X.shape))\n",
    "\n",
    "print('Tipo de valor para V_feature: '+str(type(v_feature))+' Dimensiones '+str(v_feature.shape))\n",
    "\n",
    "print(v_predecir)\n"
   ]
  },
  {
   "cell_type": "code",
   "execution_count": 32,
   "id": "5ce9e3a8",
   "metadata": {},
   "outputs": [
    {
     "data": {
      "text/plain": [
       "array([20.37629334, 18.25729761, 20.78888625, 18.93985874, 20.23876236,\n",
       "       12.07859134,  7.27519478, 16.71389448, 17.89054835, 19.50017011,\n",
       "       15.76645889, 18.79214028,  8.21244289, 19.07738971,  8.0596307 ,\n",
       "       13.52521342, 13.78499414, 10.2142826 , 13.94290007, 15.22652248,\n",
       "        7.44328819, 21.32882266, 17.93639201, 13.95308755, 21.11997934,\n",
       "       12.75605872, 16.05680206,  9.77622098, 11.34509282, 21.18110421,\n",
       "       13.99383747, 17.0246126 , 21.76688428, 17.5237991 , 21.41541624,\n",
       "        8.85934784, 10.9324999 , 10.68290665,  7.21916365, 19.52054506,\n",
       "       10.73384405,  7.72344388, 13.68821309, 19.6275136 , 11.45206135,\n",
       "       15.86323995, 17.38626812, 10.02072049,  9.03762873, 17.97714193,\n",
       "       12.8171836 ,  8.12075558, 21.60388461,  9.11403482, 21.80254046,\n",
       "       13.93780633, 18.17579778, 15.57289678, 16.14848937, 13.55577586])"
      ]
     },
     "execution_count": 32,
     "metadata": {},
     "output_type": "execute_result"
    }
   ],
   "source": [
    "#Instanciamos la regresión \n",
    "reg = LinearRegression()\n",
    "\n",
    "#  Se debe crear los conjuntos de datos trainning y testing\n",
    "#Importar librerias necesarias\n",
    "from sklearn.model_selection import train_test_split\n",
    "\n",
    "#Separo los datos de \"train\" en entrenamiento y prueba para probar los algoritmo. \n",
    "# test equivale a un 30% y el de trainning un 70%\n",
    "X_train, X_test, y_train, y_test = train_test_split(v_feature, v_predecir, test_size=0.3)\n",
    "\n",
    "#Entrenamos el modelo, con la variable X y Y. Posteriormente se verá como hacerlo con conjuntos de Trainning y Testing\n",
    "\n",
    "reg.fit(X_train, y_train)\n",
    "\n",
    "#Creamos una predicción basado en los datos de X destinados para testing\n",
    "y_pred= reg.predict(X_test)\n",
    "\n",
    "#Consultamos los valores generados por el modelo \n",
    "y_pred"
   ]
  },
  {
   "cell_type": "markdown",
   "id": "df62faa4",
   "metadata": {},
   "source": [
    "Una vez que el modelo se realiza el training, se procede a realizar un testeo.  y finalmente se obtienen las métricas de -calidad- de los valores de salida del modelo (accuracy)"
   ]
  },
  {
   "cell_type": "code",
   "execution_count": 33,
   "id": "94fb585f",
   "metadata": {},
   "outputs": [
    {
     "name": "stdout",
     "output_type": "stream",
     "text": [
      "El R cuadrado del Modelo es: 0.6330939660667192\n",
      "Los coeficientes de la función son: [0.0509374]\n"
     ]
    }
   ],
   "source": [
    "#Imprimimos los resultados de la regresión lineal realizada\n",
    "print('El R cuadrado del Modelo es: '+str(reg.score(X_train, y_train)))\n",
    "\n",
    "#print(\"El Error  Cuadrático medio es: \"+str(mean_squared_error(y, y_pred)))\n",
    "print('Los coeficientes de la función son: '+str(reg.coef_))"
   ]
  },
  {
   "cell_type": "code",
   "execution_count": 34,
   "id": "b01003f8",
   "metadata": {},
   "outputs": [
    {
     "name": "stdout",
     "output_type": "stream",
     "text": [
      "El R cuadrado del modelo es 0.6330939660667192\n",
      "El valor de B es: 6.847320647147966\n",
      "Los coeficientes de la función son: [0.0509374]\n",
      "Root Mean Squared Error: 3.316357223660496\n"
     ]
    }
   ],
   "source": [
    "#Imprimimos los resultados de la regresión lineal realizada\n",
    "\n",
    "print('El R cuadrado del modelo es '+str(reg.score(X_train, y_train)))\n",
    "\n",
    "print('El valor de B es: '+str(reg.intercept_))\n",
    "\n",
    "print('Los coeficientes de la función son: '+str(reg.coef_))\n",
    "\n",
    "rmse= np.sqrt(mean_squared_error(y_test, y_pred))\n",
    "print('Root Mean Squared Error: {}'.format(rmse))"
   ]
  },
  {
   "cell_type": "markdown",
   "id": "3ff8dbfa",
   "metadata": {},
   "source": [
    "**R cuadrado** El coeficiente de determinación, refleja la bondad del ajuste de un modelo a la variable que pretender explicar. en este caso tiene un valor de **0.633**\n",
    "\n",
    "**(RMSE)** mide la cantidad de error que hay entre dos conjuntos de datos, en este caso es de **3.316**, este valor entre más bajo / pequeño, má cercano serán los valores observados (mejor será el modelo)\n",
    "\n",
    "**EL valor de B** es de 6.84"
   ]
  },
  {
   "cell_type": "code",
   "execution_count": 35,
   "id": "fbf9a683",
   "metadata": {},
   "outputs": [
    {
     "data": {
      "image/png": "[encoded data removed]",
      "text/plain": [
       "<Figure size 432x288 with 1 Axes>"
      ]
     },
     "metadata": {
      "needs_background": "light"
     },
     "output_type": "display_data"
    }
   ],
   "source": [
    "# se procede a plotear tambien lo valores de y_test y de Y_pred\n",
    "sns.regplot(x=y_test,y=y_pred);"
   ]
  },
  {
   "cell_type": "markdown",
   "id": "ba48349d",
   "metadata": {},
   "source": [
    "##### Modelo Utilizando Cross Validation"
   ]
  },
  {
   "cell_type": "code",
   "execution_count": 36,
   "id": "e42981d6",
   "metadata": {},
   "outputs": [
    {
     "name": "stdout",
     "output_type": "stream",
     "text": [
      "Resultados: [0.59389377 0.68760015 0.56879602 0.64179881 0.47091168]\n",
      "Puntaje promedio 5-fold CV: 0.5926000843648256\n"
     ]
    }
   ],
   "source": [
    "#Importamos las librerías necesarias\n",
    "from sklearn.model_selection import cross_val_score\n",
    "\n",
    "#Instanciamos la variable de la regresión\n",
    "\n",
    "reg_cv= LinearRegression()\n",
    "\n",
    "#Definimos las parametros para realizar la validacion cruzada\n",
    "\n",
    "cv_scores= cross_val_score(reg_cv, v_feature, v_predecir, cv=5)\n",
    "\n",
    "#Imprimimos los resultados de R2 obtenidos en cada una de las iteraciones\n",
    "print('Resultados: {}'.format(cv_scores))\n",
    "\n",
    "#Imprimimos la media de los resultados de R2\n",
    "print('Puntaje promedio 5-fold CV: {}'.format(np.mean(cv_scores)))"
   ]
  },
  {
   "cell_type": "markdown",
   "id": "bc8cb23a",
   "metadata": {},
   "source": [
    "**Por lo tanto** El modelo nos revela que se tienen resultados satisfactorios y que puede ser utilizado para predecir valores futuros con un nuevo ingreso de datos.  \n",
    "\n",
    "Que la TV muestra alta relación con Ventas, y es una variable elegida para las predicciones del modelo presentado, además que el valor R cuadrado se mantuvo cercano al 0.63.   "
   ]
  }
 ],
 "metadata": {
  "kernelspec": {
   "display_name": "Python 3 (ipykernel)",
   "language": "python",
   "name": "python3"
  },
  "language_info": {
   "codemirror_mode": {
    "name": "ipython",
    "version": 3
   },
   "file_extension": ".py",
   "mimetype": "text/x-python",
   "name": "python",
   "nbconvert_exporter": "python",
   "pygments_lexer": "ipython3",
   "version": "3.9.12"
  }
 },
 "nbformat": 4,
 "nbformat_minor": 5
}
