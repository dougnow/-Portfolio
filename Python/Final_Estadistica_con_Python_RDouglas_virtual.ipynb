{
 "cells": [
  {
   "cell_type": "markdown",
   "id": "16fb0d78",
   "metadata": {},
   "source": [
    "#### Proyecto Final de Estadistica con Python\n",
    "\n",
    "**Estudiante Richard Douglas Grijalba**\n",
    "\n",
    "**Curso : Fudamentos de Probabilidad con Python**\n",
    "\n",
    "**Especialidad Ciencia Datos Python.  Grow Up - Modalidad virtual**"
   ]
  },
  {
   "cell_type": "markdown",
   "id": "108d536b",
   "metadata": {},
   "source": [
    "*Tomar un problema actual real o usar un dataset que permita aplicar un análisis estadístico que se aprendió en el curso.*\n",
    "*Se debe aplicar los tres grandes temas que se vieron en los cursos, cada proyecto debe tener su interpretación de los resultados, se debe seleccionar como mínimo 2 por tema principical y aplicarlo al caso en estudio*\n",
    "\n",
    "Los temas principales son:\n",
    "\n",
    "**Estadistica Descriptiva**\n",
    "\n",
    "**Probabilidad**\n",
    "\n",
    "**Estadistica Inferencial**\n"
   ]
  },
  {
   "cell_type": "markdown",
   "id": "7d014c85",
   "metadata": {},
   "source": [
    "## I - Estadistica Descriptiva\n",
    "\n",
    "La estadística descriptiva es una disciplina que se encarga de recoger, almacenar, ordenar, realizar tablas o gráficos y calcular parámetros básicos sobre el conjunto de datos.\n",
    "\n",
    "Por lo tanto a continuación se procederá a cargar un dataset (df) y se generara una descripción general del mismo y sus respectivas variables (columnas) y observaciones (filas), por  medio de la aplicación de medidas de tendencia central y gráficas."
   ]
  },
  {
   "cell_type": "code",
   "execution_count": 96,
   "id": "a1232e8c",
   "metadata": {},
   "outputs": [],
   "source": [
    "# importar las diferente librerias que pueden ser necesarias para el desarrollo del análisis\n",
    "\n",
    "import re\n",
    "import pandas as pd\n",
    "import numpy as np\n",
    "#from mlutils import dataset, connector\n",
    "import scipy.stats as ss\n",
    "from scipy.stats import *\n",
    "from sklearn.preprocessing import StandardScaler\n",
    "import math\n",
    "import matplotlib.pyplot as plt\n",
    "import statsmodels.api as sm\n",
    "import seaborn as sns\n",
    "import pylab as py\n",
    "import warnings\n",
    "warnings.filterwarnings(\"ignore\")\n",
    "%matplotlib inline"
   ]
  },
  {
   "cell_type": "code",
   "execution_count": 2,
   "id": "6b734c56",
   "metadata": {},
   "outputs": [],
   "source": [
    "import os"
   ]
  },
  {
   "cell_type": "code",
   "execution_count": 3,
   "id": "cdbe456e",
   "metadata": {},
   "outputs": [
    {
     "data": {
      "text/plain": [
       "'C:\\\\Users\\\\Rdouglas\\\\Fundamentos Probabilidad Python'"
      ]
     },
     "execution_count": 3,
     "metadata": {},
     "output_type": "execute_result"
    }
   ],
   "source": [
    "os.getcwd()"
   ]
  },
  {
   "cell_type": "code",
   "execution_count": 12,
   "id": "29130ce3",
   "metadata": {},
   "outputs": [
    {
     "data": {
      "text/html": [
       "<div>\n",
       "<style scoped>\n",
       "    .dataframe tbody tr th:only-of-type {\n",
       "        vertical-align: middle;\n",
       "    }\n",
       "\n",
       "    .dataframe tbody tr th {\n",
       "        vertical-align: top;\n",
       "    }\n",
       "\n",
       "    .dataframe thead th {\n",
       "        text-align: right;\n",
       "    }\n",
       "</style>\n",
       "<table border=\"1\" class=\"dataframe\">\n",
       "  <thead>\n",
       "    <tr style=\"text-align: right;\">\n",
       "      <th></th>\n",
       "      <th>RowNumber</th>\n",
       "      <th>CustomerId</th>\n",
       "      <th>Surname</th>\n",
       "      <th>CreditScore</th>\n",
       "      <th>Geography</th>\n",
       "      <th>Gender</th>\n",
       "      <th>Age</th>\n",
       "      <th>Tenure</th>\n",
       "      <th>Balance</th>\n",
       "      <th>NumOfProducts</th>\n",
       "      <th>HasCrCard</th>\n",
       "      <th>IsActiveMember</th>\n",
       "      <th>EstimatedSalary</th>\n",
       "      <th>Exited</th>\n",
       "    </tr>\n",
       "  </thead>\n",
       "  <tbody>\n",
       "    <tr>\n",
       "      <th>0</th>\n",
       "      <td>1</td>\n",
       "      <td>15634602</td>\n",
       "      <td>Hargrave</td>\n",
       "      <td>619</td>\n",
       "      <td>France</td>\n",
       "      <td>Female</td>\n",
       "      <td>42</td>\n",
       "      <td>2</td>\n",
       "      <td>0.00</td>\n",
       "      <td>1</td>\n",
       "      <td>1</td>\n",
       "      <td>1</td>\n",
       "      <td>101348.88</td>\n",
       "      <td>1</td>\n",
       "    </tr>\n",
       "    <tr>\n",
       "      <th>1</th>\n",
       "      <td>2</td>\n",
       "      <td>15647311</td>\n",
       "      <td>Hill</td>\n",
       "      <td>608</td>\n",
       "      <td>Spain</td>\n",
       "      <td>Female</td>\n",
       "      <td>41</td>\n",
       "      <td>1</td>\n",
       "      <td>83807.86</td>\n",
       "      <td>1</td>\n",
       "      <td>0</td>\n",
       "      <td>1</td>\n",
       "      <td>112542.58</td>\n",
       "      <td>0</td>\n",
       "    </tr>\n",
       "    <tr>\n",
       "      <th>2</th>\n",
       "      <td>3</td>\n",
       "      <td>15619304</td>\n",
       "      <td>Onio</td>\n",
       "      <td>502</td>\n",
       "      <td>France</td>\n",
       "      <td>Female</td>\n",
       "      <td>42</td>\n",
       "      <td>8</td>\n",
       "      <td>159660.80</td>\n",
       "      <td>3</td>\n",
       "      <td>1</td>\n",
       "      <td>0</td>\n",
       "      <td>113931.57</td>\n",
       "      <td>1</td>\n",
       "    </tr>\n",
       "  </tbody>\n",
       "</table>\n",
       "</div>"
      ],
      "text/plain": [
       "   RowNumber  CustomerId   Surname  CreditScore Geography  Gender  Age  \\\n",
       "0          1    15634602  Hargrave          619    France  Female   42   \n",
       "1          2    15647311      Hill          608     Spain  Female   41   \n",
       "2          3    15619304      Onio          502    France  Female   42   \n",
       "\n",
       "   Tenure    Balance  NumOfProducts  HasCrCard  IsActiveMember  \\\n",
       "0       2       0.00              1          1               1   \n",
       "1       1   83807.86              1          0               1   \n",
       "2       8  159660.80              3          1               0   \n",
       "\n",
       "   EstimatedSalary  Exited  \n",
       "0        101348.88       1  \n",
       "1        112542.58       0  \n",
       "2        113931.57       1  "
      ]
     },
     "execution_count": 12,
     "metadata": {},
     "output_type": "execute_result"
    }
   ],
   "source": [
    "# cargar el datset \n",
    "df = pd.read_csv('C:\\\\Users\\\\Rdouglas\\\\Documents\\\\Python Scripts\\\\M_data_final_Probabilidad\\\\Churn_Modelling.csv')\n",
    "df.head(3)"
   ]
  },
  {
   "cell_type": "code",
   "execution_count": 14,
   "id": "99225900",
   "metadata": {},
   "outputs": [],
   "source": [
    "df = df.drop(['RowNumber'], axis=1) # se elimina la columna de Rownumber "
   ]
  },
  {
   "cell_type": "code",
   "execution_count": 15,
   "id": "810c52b4",
   "metadata": {},
   "outputs": [
    {
     "data": {
      "text/html": [
       "<div>\n",
       "<style scoped>\n",
       "    .dataframe tbody tr th:only-of-type {\n",
       "        vertical-align: middle;\n",
       "    }\n",
       "\n",
       "    .dataframe tbody tr th {\n",
       "        vertical-align: top;\n",
       "    }\n",
       "\n",
       "    .dataframe thead th {\n",
       "        text-align: right;\n",
       "    }\n",
       "</style>\n",
       "<table border=\"1\" class=\"dataframe\">\n",
       "  <thead>\n",
       "    <tr style=\"text-align: right;\">\n",
       "      <th></th>\n",
       "      <th>CustomerId</th>\n",
       "      <th>Surname</th>\n",
       "      <th>CreditScore</th>\n",
       "      <th>Geography</th>\n",
       "      <th>Gender</th>\n",
       "      <th>Age</th>\n",
       "      <th>Tenure</th>\n",
       "      <th>Balance</th>\n",
       "      <th>NumOfProducts</th>\n",
       "      <th>HasCrCard</th>\n",
       "      <th>IsActiveMember</th>\n",
       "      <th>EstimatedSalary</th>\n",
       "      <th>Exited</th>\n",
       "    </tr>\n",
       "  </thead>\n",
       "  <tbody>\n",
       "    <tr>\n",
       "      <th>0</th>\n",
       "      <td>15634602</td>\n",
       "      <td>Hargrave</td>\n",
       "      <td>619</td>\n",
       "      <td>France</td>\n",
       "      <td>Female</td>\n",
       "      <td>42</td>\n",
       "      <td>2</td>\n",
       "      <td>0.00</td>\n",
       "      <td>1</td>\n",
       "      <td>1</td>\n",
       "      <td>1</td>\n",
       "      <td>101348.88</td>\n",
       "      <td>1</td>\n",
       "    </tr>\n",
       "    <tr>\n",
       "      <th>1</th>\n",
       "      <td>15647311</td>\n",
       "      <td>Hill</td>\n",
       "      <td>608</td>\n",
       "      <td>Spain</td>\n",
       "      <td>Female</td>\n",
       "      <td>41</td>\n",
       "      <td>1</td>\n",
       "      <td>83807.86</td>\n",
       "      <td>1</td>\n",
       "      <td>0</td>\n",
       "      <td>1</td>\n",
       "      <td>112542.58</td>\n",
       "      <td>0</td>\n",
       "    </tr>\n",
       "    <tr>\n",
       "      <th>2</th>\n",
       "      <td>15619304</td>\n",
       "      <td>Onio</td>\n",
       "      <td>502</td>\n",
       "      <td>France</td>\n",
       "      <td>Female</td>\n",
       "      <td>42</td>\n",
       "      <td>8</td>\n",
       "      <td>159660.80</td>\n",
       "      <td>3</td>\n",
       "      <td>1</td>\n",
       "      <td>0</td>\n",
       "      <td>113931.57</td>\n",
       "      <td>1</td>\n",
       "    </tr>\n",
       "  </tbody>\n",
       "</table>\n",
       "</div>"
      ],
      "text/plain": [
       "   CustomerId   Surname  CreditScore Geography  Gender  Age  Tenure  \\\n",
       "0    15634602  Hargrave          619    France  Female   42       2   \n",
       "1    15647311      Hill          608     Spain  Female   41       1   \n",
       "2    15619304      Onio          502    France  Female   42       8   \n",
       "\n",
       "     Balance  NumOfProducts  HasCrCard  IsActiveMember  EstimatedSalary  \\\n",
       "0       0.00              1          1               1        101348.88   \n",
       "1   83807.86              1          0               1        112542.58   \n",
       "2  159660.80              3          1               0        113931.57   \n",
       "\n",
       "   Exited  \n",
       "0       1  \n",
       "1       0  \n",
       "2       1  "
      ]
     },
     "execution_count": 15,
     "metadata": {},
     "output_type": "execute_result"
    }
   ],
   "source": [
    "df.head(3) # nuevo df sin la columna de RowNumber"
   ]
  },
  {
   "cell_type": "markdown",
   "id": "c276560e",
   "metadata": {},
   "source": [
    "#### Describir el dataset\n",
    "\n",
    "el dataset se tomó de kaggle.com el mismo corresponde a **Bank Customer Churn Prediction** reune una serie de información de clientes bancarios tales como : género,edad, pais (geography), informacion crediticia, salario estimado. Se espera que este datset permita desarrollar lo necesario para la finalidad de esta trabajo final.\n",
    "\n",
    "\n",
    "https://www.kaggle.com/datasets/shantanudhakadd/bank-customer-churn-prediction"
   ]
  },
  {
   "cell_type": "code",
   "execution_count": 16,
   "id": "a7948ba7",
   "metadata": {},
   "outputs": [
    {
     "name": "stdout",
     "output_type": "stream",
     "text": [
      "<class 'pandas.core.frame.DataFrame'>\n",
      "RangeIndex: 10000 entries, 0 to 9999\n",
      "Data columns (total 13 columns):\n",
      " #   Column           Non-Null Count  Dtype  \n",
      "---  ------           --------------  -----  \n",
      " 0   CustomerId       10000 non-null  int64  \n",
      " 1   Surname          10000 non-null  object \n",
      " 2   CreditScore      10000 non-null  int64  \n",
      " 3   Geography        10000 non-null  object \n",
      " 4   Gender           10000 non-null  object \n",
      " 5   Age              10000 non-null  int64  \n",
      " 6   Tenure           10000 non-null  int64  \n",
      " 7   Balance          10000 non-null  float64\n",
      " 8   NumOfProducts    10000 non-null  int64  \n",
      " 9   HasCrCard        10000 non-null  int64  \n",
      " 10  IsActiveMember   10000 non-null  int64  \n",
      " 11  EstimatedSalary  10000 non-null  float64\n",
      " 12  Exited           10000 non-null  int64  \n",
      "dtypes: float64(2), int64(8), object(3)\n",
      "memory usage: 1015.8+ KB\n"
     ]
    }
   ],
   "source": [
    "df.info() # se genera una exploracion de los datos para observar cuales con tipo numerio y cuales no"
   ]
  },
  {
   "cell_type": "code",
   "execution_count": 17,
   "id": "61fd80b9",
   "metadata": {},
   "outputs": [
    {
     "data": {
      "text/plain": [
       "(10000, 13)"
      ]
     },
     "execution_count": 17,
     "metadata": {},
     "output_type": "execute_result"
    }
   ],
   "source": [
    "df.shape  # el dataset se conforma de 10000 observaciones y un total de 13 variables (columnas)"
   ]
  },
  {
   "cell_type": "code",
   "execution_count": 18,
   "id": "995652a9",
   "metadata": {},
   "outputs": [
    {
     "data": {
      "text/plain": [
       "Index(['CustomerId', 'Surname', 'CreditScore', 'Geography', 'Gender', 'Age',\n",
       "       'Tenure', 'Balance', 'NumOfProducts', 'HasCrCard', 'IsActiveMember',\n",
       "       'EstimatedSalary', 'Exited'],\n",
       "      dtype='object')"
      ]
     },
     "execution_count": 18,
     "metadata": {},
     "output_type": "execute_result"
    }
   ],
   "source": [
    "df.columns  # el nombre de las columnas son los siguientes"
   ]
  },
  {
   "cell_type": "code",
   "execution_count": 19,
   "id": "5fc475f6",
   "metadata": {},
   "outputs": [
    {
     "data": {
      "text/html": [
       "<div>\n",
       "<style scoped>\n",
       "    .dataframe tbody tr th:only-of-type {\n",
       "        vertical-align: middle;\n",
       "    }\n",
       "\n",
       "    .dataframe tbody tr th {\n",
       "        vertical-align: top;\n",
       "    }\n",
       "\n",
       "    .dataframe thead th {\n",
       "        text-align: right;\n",
       "    }\n",
       "</style>\n",
       "<table border=\"1\" class=\"dataframe\">\n",
       "  <thead>\n",
       "    <tr style=\"text-align: right;\">\n",
       "      <th></th>\n",
       "      <th>count</th>\n",
       "      <th>mean</th>\n",
       "      <th>std</th>\n",
       "      <th>min</th>\n",
       "      <th>25%</th>\n",
       "      <th>50%</th>\n",
       "      <th>75%</th>\n",
       "      <th>max</th>\n",
       "    </tr>\n",
       "  </thead>\n",
       "  <tbody>\n",
       "    <tr>\n",
       "      <th>CustomerId</th>\n",
       "      <td>10000.0</td>\n",
       "      <td>1.569094e+07</td>\n",
       "      <td>71936.186123</td>\n",
       "      <td>15565701.00</td>\n",
       "      <td>15628528.25</td>\n",
       "      <td>1.569074e+07</td>\n",
       "      <td>1.575323e+07</td>\n",
       "      <td>15815690.00</td>\n",
       "    </tr>\n",
       "    <tr>\n",
       "      <th>CreditScore</th>\n",
       "      <td>10000.0</td>\n",
       "      <td>6.505288e+02</td>\n",
       "      <td>96.653299</td>\n",
       "      <td>350.00</td>\n",
       "      <td>584.00</td>\n",
       "      <td>6.520000e+02</td>\n",
       "      <td>7.180000e+02</td>\n",
       "      <td>850.00</td>\n",
       "    </tr>\n",
       "    <tr>\n",
       "      <th>Age</th>\n",
       "      <td>10000.0</td>\n",
       "      <td>3.892180e+01</td>\n",
       "      <td>10.487806</td>\n",
       "      <td>18.00</td>\n",
       "      <td>32.00</td>\n",
       "      <td>3.700000e+01</td>\n",
       "      <td>4.400000e+01</td>\n",
       "      <td>92.00</td>\n",
       "    </tr>\n",
       "    <tr>\n",
       "      <th>Tenure</th>\n",
       "      <td>10000.0</td>\n",
       "      <td>5.012800e+00</td>\n",
       "      <td>2.892174</td>\n",
       "      <td>0.00</td>\n",
       "      <td>3.00</td>\n",
       "      <td>5.000000e+00</td>\n",
       "      <td>7.000000e+00</td>\n",
       "      <td>10.00</td>\n",
       "    </tr>\n",
       "    <tr>\n",
       "      <th>Balance</th>\n",
       "      <td>10000.0</td>\n",
       "      <td>7.648589e+04</td>\n",
       "      <td>62397.405202</td>\n",
       "      <td>0.00</td>\n",
       "      <td>0.00</td>\n",
       "      <td>9.719854e+04</td>\n",
       "      <td>1.276442e+05</td>\n",
       "      <td>250898.09</td>\n",
       "    </tr>\n",
       "    <tr>\n",
       "      <th>NumOfProducts</th>\n",
       "      <td>10000.0</td>\n",
       "      <td>1.530200e+00</td>\n",
       "      <td>0.581654</td>\n",
       "      <td>1.00</td>\n",
       "      <td>1.00</td>\n",
       "      <td>1.000000e+00</td>\n",
       "      <td>2.000000e+00</td>\n",
       "      <td>4.00</td>\n",
       "    </tr>\n",
       "    <tr>\n",
       "      <th>HasCrCard</th>\n",
       "      <td>10000.0</td>\n",
       "      <td>7.055000e-01</td>\n",
       "      <td>0.455840</td>\n",
       "      <td>0.00</td>\n",
       "      <td>0.00</td>\n",
       "      <td>1.000000e+00</td>\n",
       "      <td>1.000000e+00</td>\n",
       "      <td>1.00</td>\n",
       "    </tr>\n",
       "    <tr>\n",
       "      <th>IsActiveMember</th>\n",
       "      <td>10000.0</td>\n",
       "      <td>5.151000e-01</td>\n",
       "      <td>0.499797</td>\n",
       "      <td>0.00</td>\n",
       "      <td>0.00</td>\n",
       "      <td>1.000000e+00</td>\n",
       "      <td>1.000000e+00</td>\n",
       "      <td>1.00</td>\n",
       "    </tr>\n",
       "    <tr>\n",
       "      <th>EstimatedSalary</th>\n",
       "      <td>10000.0</td>\n",
       "      <td>1.000902e+05</td>\n",
       "      <td>57510.492818</td>\n",
       "      <td>11.58</td>\n",
       "      <td>51002.11</td>\n",
       "      <td>1.001939e+05</td>\n",
       "      <td>1.493882e+05</td>\n",
       "      <td>199992.48</td>\n",
       "    </tr>\n",
       "    <tr>\n",
       "      <th>Exited</th>\n",
       "      <td>10000.0</td>\n",
       "      <td>2.037000e-01</td>\n",
       "      <td>0.402769</td>\n",
       "      <td>0.00</td>\n",
       "      <td>0.00</td>\n",
       "      <td>0.000000e+00</td>\n",
       "      <td>0.000000e+00</td>\n",
       "      <td>1.00</td>\n",
       "    </tr>\n",
       "  </tbody>\n",
       "</table>\n",
       "</div>"
      ],
      "text/plain": [
       "                   count          mean           std          min  \\\n",
       "CustomerId       10000.0  1.569094e+07  71936.186123  15565701.00   \n",
       "CreditScore      10000.0  6.505288e+02     96.653299       350.00   \n",
       "Age              10000.0  3.892180e+01     10.487806        18.00   \n",
       "Tenure           10000.0  5.012800e+00      2.892174         0.00   \n",
       "Balance          10000.0  7.648589e+04  62397.405202         0.00   \n",
       "NumOfProducts    10000.0  1.530200e+00      0.581654         1.00   \n",
       "HasCrCard        10000.0  7.055000e-01      0.455840         0.00   \n",
       "IsActiveMember   10000.0  5.151000e-01      0.499797         0.00   \n",
       "EstimatedSalary  10000.0  1.000902e+05  57510.492818        11.58   \n",
       "Exited           10000.0  2.037000e-01      0.402769         0.00   \n",
       "\n",
       "                         25%           50%           75%          max  \n",
       "CustomerId       15628528.25  1.569074e+07  1.575323e+07  15815690.00  \n",
       "CreditScore           584.00  6.520000e+02  7.180000e+02       850.00  \n",
       "Age                    32.00  3.700000e+01  4.400000e+01        92.00  \n",
       "Tenure                  3.00  5.000000e+00  7.000000e+00        10.00  \n",
       "Balance                 0.00  9.719854e+04  1.276442e+05    250898.09  \n",
       "NumOfProducts           1.00  1.000000e+00  2.000000e+00         4.00  \n",
       "HasCrCard               0.00  1.000000e+00  1.000000e+00         1.00  \n",
       "IsActiveMember          0.00  1.000000e+00  1.000000e+00         1.00  \n",
       "EstimatedSalary     51002.11  1.001939e+05  1.493882e+05    199992.48  \n",
       "Exited                  0.00  0.000000e+00  0.000000e+00         1.00  "
      ]
     },
     "execution_count": 19,
     "metadata": {},
     "output_type": "execute_result"
    }
   ],
   "source": [
    "df.describe().T  # se procede a generar una descripción rápida del dataset\n",
    "                 # en el cual se puede observar los valores de promedio, desviacion estandar, minimos, maximos y percentiles"
   ]
  },
  {
   "cell_type": "markdown",
   "id": "0b8faa05",
   "metadata": {},
   "source": [
    "**Age** el valor mean es de 3.892, con una desviacion estandar de 10.48"
   ]
  },
  {
   "cell_type": "code",
   "execution_count": 20,
   "id": "57fc2380",
   "metadata": {},
   "outputs": [
    {
     "data": {
      "text/plain": [
       "CustomerId         0\n",
       "Surname            0\n",
       "CreditScore        0\n",
       "Geography          0\n",
       "Gender             0\n",
       "Age                0\n",
       "Tenure             0\n",
       "Balance            0\n",
       "NumOfProducts      0\n",
       "HasCrCard          0\n",
       "IsActiveMember     0\n",
       "EstimatedSalary    0\n",
       "Exited             0\n",
       "dtype: int64"
      ]
     },
     "execution_count": 20,
     "metadata": {},
     "output_type": "execute_result"
    }
   ],
   "source": [
    "# revisar si existen valores nulos\n",
    "df.isna().sum()    # según lo visto no tenemos valores nulos "
   ]
  },
  {
   "cell_type": "code",
   "execution_count": 21,
   "id": "cd893352",
   "metadata": {},
   "outputs": [
    {
     "data": {
      "text/plain": [
       "Surname\n",
       "Abazu       2\n",
       "Abbie       1\n",
       "Abbott      4\n",
       "Abdullah    1\n",
       "Abdulov     2\n",
       "           ..\n",
       "Zubarev     3\n",
       "Zubareva    1\n",
       "Zuev        1\n",
       "Zuyev       2\n",
       "Zuyeva      2\n",
       "Length: 2932, dtype: int64"
      ]
     },
     "execution_count": 21,
     "metadata": {},
     "output_type": "execute_result"
    }
   ],
   "source": [
    "df.groupby('Surname').size()"
   ]
  },
  {
   "cell_type": "markdown",
   "id": "8b5841eb",
   "metadata": {},
   "source": [
    "**Caracteristica Geography** Cómo está distribuida la caracteristica?"
   ]
  },
  {
   "cell_type": "code",
   "execution_count": 22,
   "id": "ff95868d",
   "metadata": {},
   "outputs": [
    {
     "data": {
      "text/plain": [
       "Geography\n",
       "France     5014\n",
       "Germany    2509\n",
       "Spain      2477\n",
       "dtype: int64"
      ]
     },
     "execution_count": 22,
     "metadata": {},
     "output_type": "execute_result"
    }
   ],
   "source": [
    "df.groupby('Geography').size()"
   ]
  },
  {
   "cell_type": "code",
   "execution_count": 41,
   "id": "31e1faa2",
   "metadata": {},
   "outputs": [
    {
     "data": {
      "image/png": "[encoded data removed]",
      "text/plain": [
       "<Figure size 360x360 with 1 Axes>"
      ]
     },
     "metadata": {},
     "output_type": "display_data"
    }
   ],
   "source": [
    "df.groupby('Geography').size().plot(kind = 'pie')\n",
    "sns.set(rc={'figure.figsize':(5,5)})\n",
    "plt.show()"
   ]
  },
  {
   "cell_type": "markdown",
   "id": "c548dd96",
   "metadata": {},
   "source": [
    "*del grafico anterior se observa que el lugar geography que más aparece corresponde a Francia, y los demás Alemania y España*"
   ]
  },
  {
   "cell_type": "markdown",
   "id": "172d6d11",
   "metadata": {},
   "source": [
    "**Caracteristica Age** Cómo está distribuida la caracteristica?"
   ]
  },
  {
   "cell_type": "code",
   "execution_count": 23,
   "id": "90a50f9b",
   "metadata": {},
   "outputs": [
    {
     "data": {
      "text/plain": [
       "Gender\n",
       "Female    4543\n",
       "Male      5457\n",
       "dtype: int64"
      ]
     },
     "execution_count": 23,
     "metadata": {},
     "output_type": "execute_result"
    }
   ],
   "source": [
    "df.groupby('Gender').size()"
   ]
  },
  {
   "cell_type": "code",
   "execution_count": 40,
   "id": "5c73a7d7",
   "metadata": {},
   "outputs": [
    {
     "data": {
      "image/png": "[encoded data removed]",
      "text/plain": [
       "<Figure size 360x360 with 1 Axes>"
      ]
     },
     "metadata": {},
     "output_type": "display_data"
    }
   ],
   "source": [
    "df.groupby('Gender').size().plot(kind = 'pie')\n",
    "sns.set(rc={'figure.figsize':(5,5)})\n",
    "plt.show()"
   ]
  },
  {
   "cell_type": "markdown",
   "id": "a1938e76",
   "metadata": {},
   "source": [
    "*del grafico anterior se observa que la mayoria de los clientes corresponde a hombres*"
   ]
  },
  {
   "cell_type": "code",
   "execution_count": 59,
   "id": "c496f334",
   "metadata": {},
   "outputs": [
    {
     "data": {
      "text/html": [
       "<div>\n",
       "<style scoped>\n",
       "    .dataframe tbody tr th:only-of-type {\n",
       "        vertical-align: middle;\n",
       "    }\n",
       "\n",
       "    .dataframe tbody tr th {\n",
       "        vertical-align: top;\n",
       "    }\n",
       "\n",
       "    .dataframe thead th {\n",
       "        text-align: right;\n",
       "    }\n",
       "</style>\n",
       "<table border=\"1\" class=\"dataframe\">\n",
       "  <thead>\n",
       "    <tr style=\"text-align: right;\">\n",
       "      <th>Gender</th>\n",
       "      <th>Female</th>\n",
       "      <th>Male</th>\n",
       "      <th>Total</th>\n",
       "    </tr>\n",
       "    <tr>\n",
       "      <th>Age</th>\n",
       "      <th></th>\n",
       "      <th></th>\n",
       "      <th></th>\n",
       "    </tr>\n",
       "  </thead>\n",
       "  <tbody>\n",
       "    <tr>\n",
       "      <th>18</th>\n",
       "      <td>4</td>\n",
       "      <td>18</td>\n",
       "      <td>22</td>\n",
       "    </tr>\n",
       "    <tr>\n",
       "      <th>19</th>\n",
       "      <td>9</td>\n",
       "      <td>18</td>\n",
       "      <td>27</td>\n",
       "    </tr>\n",
       "    <tr>\n",
       "      <th>20</th>\n",
       "      <td>13</td>\n",
       "      <td>27</td>\n",
       "      <td>40</td>\n",
       "    </tr>\n",
       "    <tr>\n",
       "      <th>21</th>\n",
       "      <td>33</td>\n",
       "      <td>20</td>\n",
       "      <td>53</td>\n",
       "    </tr>\n",
       "    <tr>\n",
       "      <th>22</th>\n",
       "      <td>42</td>\n",
       "      <td>42</td>\n",
       "      <td>84</td>\n",
       "    </tr>\n",
       "    <tr>\n",
       "      <th>...</th>\n",
       "      <td>...</td>\n",
       "      <td>...</td>\n",
       "      <td>...</td>\n",
       "    </tr>\n",
       "    <tr>\n",
       "      <th>84</th>\n",
       "      <td>1</td>\n",
       "      <td>1</td>\n",
       "      <td>2</td>\n",
       "    </tr>\n",
       "    <tr>\n",
       "      <th>85</th>\n",
       "      <td>1</td>\n",
       "      <td>0</td>\n",
       "      <td>1</td>\n",
       "    </tr>\n",
       "    <tr>\n",
       "      <th>88</th>\n",
       "      <td>0</td>\n",
       "      <td>1</td>\n",
       "      <td>1</td>\n",
       "    </tr>\n",
       "    <tr>\n",
       "      <th>92</th>\n",
       "      <td>0</td>\n",
       "      <td>2</td>\n",
       "      <td>2</td>\n",
       "    </tr>\n",
       "    <tr>\n",
       "      <th>Total</th>\n",
       "      <td>4543</td>\n",
       "      <td>5457</td>\n",
       "      <td>10000</td>\n",
       "    </tr>\n",
       "  </tbody>\n",
       "</table>\n",
       "<p>71 rows × 3 columns</p>\n",
       "</div>"
      ],
      "text/plain": [
       "Gender  Female  Male  Total\n",
       "Age                        \n",
       "18           4    18     22\n",
       "19           9    18     27\n",
       "20          13    27     40\n",
       "21          33    20     53\n",
       "22          42    42     84\n",
       "...        ...   ...    ...\n",
       "84           1     1      2\n",
       "85           1     0      1\n",
       "88           0     1      1\n",
       "92           0     2      2\n",
       "Total     4543  5457  10000\n",
       "\n",
       "[71 rows x 3 columns]"
      ]
     },
     "execution_count": 59,
     "metadata": {},
     "output_type": "execute_result"
    }
   ],
   "source": [
    "pd.crosstab(df.Age,df.Gender,    # contando con los nulos\n",
    "           margins=True,\n",
    "           margins_name='Total', dropna=False)"
   ]
  },
  {
   "cell_type": "markdown",
   "id": "55a75aad",
   "metadata": {},
   "source": [
    "**Ahora una comparativa de los Clientes según el Género, Edad y el Salario estimado**"
   ]
  },
  {
   "cell_type": "code",
   "execution_count": 70,
   "id": "acc75d83",
   "metadata": {},
   "outputs": [],
   "source": [
    "df1 = df.copy()"
   ]
  },
  {
   "cell_type": "code",
   "execution_count": 71,
   "id": "bdb05ffd",
   "metadata": {},
   "outputs": [],
   "source": [
    "df1['age_range'] = (df['Age']//5)*5"
   ]
  },
  {
   "cell_type": "code",
   "execution_count": 73,
   "id": "aa0f7d70",
   "metadata": {},
   "outputs": [
    {
     "data": {
      "text/html": [
       "<div>\n",
       "<style scoped>\n",
       "    .dataframe tbody tr th:only-of-type {\n",
       "        vertical-align: middle;\n",
       "    }\n",
       "\n",
       "    .dataframe tbody tr th {\n",
       "        vertical-align: top;\n",
       "    }\n",
       "\n",
       "    .dataframe thead th {\n",
       "        text-align: right;\n",
       "    }\n",
       "</style>\n",
       "<table border=\"1\" class=\"dataframe\">\n",
       "  <thead>\n",
       "    <tr style=\"text-align: right;\">\n",
       "      <th>Gender</th>\n",
       "      <th>Female</th>\n",
       "      <th>Male</th>\n",
       "    </tr>\n",
       "    <tr>\n",
       "      <th>age_range</th>\n",
       "      <th></th>\n",
       "      <th></th>\n",
       "    </tr>\n",
       "  </thead>\n",
       "  <tbody>\n",
       "    <tr>\n",
       "      <th>15</th>\n",
       "      <td>98418.84</td>\n",
       "      <td>89767.45</td>\n",
       "    </tr>\n",
       "    <tr>\n",
       "      <th>20</th>\n",
       "      <td>102513.51</td>\n",
       "      <td>106314.39</td>\n",
       "    </tr>\n",
       "    <tr>\n",
       "      <th>25</th>\n",
       "      <td>99588.79</td>\n",
       "      <td>100256.22</td>\n",
       "    </tr>\n",
       "    <tr>\n",
       "      <th>30</th>\n",
       "      <td>103812.05</td>\n",
       "      <td>97429.05</td>\n",
       "    </tr>\n",
       "    <tr>\n",
       "      <th>35</th>\n",
       "      <td>95267.99</td>\n",
       "      <td>98795.54</td>\n",
       "    </tr>\n",
       "    <tr>\n",
       "      <th>40</th>\n",
       "      <td>103559.30</td>\n",
       "      <td>101747.38</td>\n",
       "    </tr>\n",
       "    <tr>\n",
       "      <th>45</th>\n",
       "      <td>106429.81</td>\n",
       "      <td>104026.29</td>\n",
       "    </tr>\n",
       "    <tr>\n",
       "      <th>50</th>\n",
       "      <td>97942.11</td>\n",
       "      <td>102124.56</td>\n",
       "    </tr>\n",
       "    <tr>\n",
       "      <th>55</th>\n",
       "      <td>94195.41</td>\n",
       "      <td>91169.31</td>\n",
       "    </tr>\n",
       "    <tr>\n",
       "      <th>60</th>\n",
       "      <td>94113.73</td>\n",
       "      <td>94492.64</td>\n",
       "    </tr>\n",
       "    <tr>\n",
       "      <th>65</th>\n",
       "      <td>112833.94</td>\n",
       "      <td>98944.05</td>\n",
       "    </tr>\n",
       "    <tr>\n",
       "      <th>70</th>\n",
       "      <td>90120.27</td>\n",
       "      <td>101119.88</td>\n",
       "    </tr>\n",
       "    <tr>\n",
       "      <th>75</th>\n",
       "      <td>98211.25</td>\n",
       "      <td>96434.52</td>\n",
       "    </tr>\n",
       "    <tr>\n",
       "      <th>80</th>\n",
       "      <td>138197.49</td>\n",
       "      <td>79124.54</td>\n",
       "    </tr>\n",
       "    <tr>\n",
       "      <th>85</th>\n",
       "      <td>116537.96</td>\n",
       "      <td>52952.24</td>\n",
       "    </tr>\n",
       "    <tr>\n",
       "      <th>90</th>\n",
       "      <td>0.00</td>\n",
       "      <td>115000.41</td>\n",
       "    </tr>\n",
       "  </tbody>\n",
       "</table>\n",
       "</div>"
      ],
      "text/plain": [
       "Gender        Female       Male\n",
       "age_range                      \n",
       "15          98418.84   89767.45\n",
       "20         102513.51  106314.39\n",
       "25          99588.79  100256.22\n",
       "30         103812.05   97429.05\n",
       "35          95267.99   98795.54\n",
       "40         103559.30  101747.38\n",
       "45         106429.81  104026.29\n",
       "50          97942.11  102124.56\n",
       "55          94195.41   91169.31\n",
       "60          94113.73   94492.64\n",
       "65         112833.94   98944.05\n",
       "70          90120.27  101119.88\n",
       "75          98211.25   96434.52\n",
       "80         138197.49   79124.54\n",
       "85         116537.96   52952.24\n",
       "90              0.00  115000.41"
      ]
     },
     "execution_count": 73,
     "metadata": {},
     "output_type": "execute_result"
    }
   ],
   "source": [
    "round(df1.pivot_table( 'EstimatedSalary' ,index= 'age_range', columns= 'Gender', aggfunc= 'mean',fill_value=0),2)"
   ]
  },
  {
   "cell_type": "code",
   "execution_count": 79,
   "id": "1161c6f5",
   "metadata": {},
   "outputs": [
    {
     "data": {
      "image/png": "[encoded data removed]",
      "text/plain": [
       "<Figure size 720x720 with 1 Axes>"
      ]
     },
     "metadata": {},
     "output_type": "display_data"
    }
   ],
   "source": [
    "round(df1.pivot_table( 'EstimatedSalary' ,index= 'age_range', columns= 'Gender', aggfunc= 'mean',fill_value=0),2).plot(kind = 'bar' ) \n",
    "sns.set(rc={'figure.figsize':(14,14)})\n",
    "plt.title(\"Salario Estimado por Genero del Cliente\")\n",
    "plt.ylabel(\"Salario Estimado Promedio\")\n",
    "plt.xlabel(\"Edades\")\n",
    "plt.show()"
   ]
  },
  {
   "cell_type": "markdown",
   "id": "dd7e28aa",
   "metadata": {},
   "source": [
    "*Se observa en ciertos rangos de edad un salario estimado promedio mayor en el grupo de las mujeres que en el de los hombres, entre 40 a 45 años.  "
   ]
  },
  {
   "cell_type": "code",
   "execution_count": 80,
   "id": "01683f3c",
   "metadata": {},
   "outputs": [
    {
     "data": {
      "text/html": [
       "<div>\n",
       "<style scoped>\n",
       "    .dataframe tbody tr th:only-of-type {\n",
       "        vertical-align: middle;\n",
       "    }\n",
       "\n",
       "    .dataframe tbody tr th {\n",
       "        vertical-align: top;\n",
       "    }\n",
       "\n",
       "    .dataframe thead th {\n",
       "        text-align: right;\n",
       "    }\n",
       "</style>\n",
       "<table border=\"1\" class=\"dataframe\">\n",
       "  <thead>\n",
       "    <tr style=\"text-align: right;\">\n",
       "      <th>Gender</th>\n",
       "      <th>Female</th>\n",
       "      <th>Male</th>\n",
       "    </tr>\n",
       "    <tr>\n",
       "      <th>age_range</th>\n",
       "      <th></th>\n",
       "      <th></th>\n",
       "    </tr>\n",
       "  </thead>\n",
       "  <tbody>\n",
       "    <tr>\n",
       "      <th>15</th>\n",
       "      <td>72802.85</td>\n",
       "      <td>74968.39</td>\n",
       "    </tr>\n",
       "    <tr>\n",
       "      <th>20</th>\n",
       "      <td>75707.07</td>\n",
       "      <td>72469.84</td>\n",
       "    </tr>\n",
       "    <tr>\n",
       "      <th>25</th>\n",
       "      <td>72838.30</td>\n",
       "      <td>74205.62</td>\n",
       "    </tr>\n",
       "    <tr>\n",
       "      <th>30</th>\n",
       "      <td>71396.56</td>\n",
       "      <td>75951.00</td>\n",
       "    </tr>\n",
       "    <tr>\n",
       "      <th>35</th>\n",
       "      <td>76158.02</td>\n",
       "      <td>75909.15</td>\n",
       "    </tr>\n",
       "    <tr>\n",
       "      <th>40</th>\n",
       "      <td>75962.02</td>\n",
       "      <td>79155.20</td>\n",
       "    </tr>\n",
       "    <tr>\n",
       "      <th>45</th>\n",
       "      <td>78493.89</td>\n",
       "      <td>81293.20</td>\n",
       "    </tr>\n",
       "    <tr>\n",
       "      <th>50</th>\n",
       "      <td>83629.59</td>\n",
       "      <td>84114.19</td>\n",
       "    </tr>\n",
       "    <tr>\n",
       "      <th>55</th>\n",
       "      <td>82038.82</td>\n",
       "      <td>84582.63</td>\n",
       "    </tr>\n",
       "    <tr>\n",
       "      <th>60</th>\n",
       "      <td>89000.27</td>\n",
       "      <td>70596.08</td>\n",
       "    </tr>\n",
       "    <tr>\n",
       "      <th>65</th>\n",
       "      <td>68506.65</td>\n",
       "      <td>81068.36</td>\n",
       "    </tr>\n",
       "    <tr>\n",
       "      <th>70</th>\n",
       "      <td>68289.00</td>\n",
       "      <td>72419.51</td>\n",
       "    </tr>\n",
       "    <tr>\n",
       "      <th>75</th>\n",
       "      <td>61455.00</td>\n",
       "      <td>80492.94</td>\n",
       "    </tr>\n",
       "    <tr>\n",
       "      <th>80</th>\n",
       "      <td>17574.68</td>\n",
       "      <td>56271.35</td>\n",
       "    </tr>\n",
       "    <tr>\n",
       "      <th>85</th>\n",
       "      <td>0.00</td>\n",
       "      <td>0.00</td>\n",
       "    </tr>\n",
       "    <tr>\n",
       "      <th>90</th>\n",
       "      <td>0.00</td>\n",
       "      <td>123794.78</td>\n",
       "    </tr>\n",
       "  </tbody>\n",
       "</table>\n",
       "</div>"
      ],
      "text/plain": [
       "Gender       Female       Male\n",
       "age_range                     \n",
       "15         72802.85   74968.39\n",
       "20         75707.07   72469.84\n",
       "25         72838.30   74205.62\n",
       "30         71396.56   75951.00\n",
       "35         76158.02   75909.15\n",
       "40         75962.02   79155.20\n",
       "45         78493.89   81293.20\n",
       "50         83629.59   84114.19\n",
       "55         82038.82   84582.63\n",
       "60         89000.27   70596.08\n",
       "65         68506.65   81068.36\n",
       "70         68289.00   72419.51\n",
       "75         61455.00   80492.94\n",
       "80         17574.68   56271.35\n",
       "85             0.00       0.00\n",
       "90             0.00  123794.78"
      ]
     },
     "execution_count": 80,
     "metadata": {},
     "output_type": "execute_result"
    }
   ],
   "source": [
    "round(df1.pivot_table( 'Balance' ,index= 'age_range', columns= 'Gender', aggfunc= 'mean',fill_value=0),2)"
   ]
  },
  {
   "cell_type": "code",
   "execution_count": 86,
   "id": "027afd40",
   "metadata": {},
   "outputs": [
    {
     "data": {
      "image/png": "[encoded data removed]",
      "text/plain": [
       "<Figure size 720x720 with 1 Axes>"
      ]
     },
     "metadata": {},
     "output_type": "display_data"
    }
   ],
   "source": [
    "round(df1.pivot_table( 'Balance' ,index= 'age_range', columns= 'Gender', aggfunc= 'mean',fill_value=0),2).plot(kind = 'bar' ) \n",
    "sns.set(rc={'figure.figsize':(10,10)})\n",
    "plt.title(\"Balance por Genero del Cliente\")\n",
    "plt.ylabel(\"Balance Promedio\")\n",
    "plt.xlabel(\"Edades\")\n",
    "plt.show()"
   ]
  },
  {
   "cell_type": "markdown",
   "id": "7e340108",
   "metadata": {},
   "source": [
    "### Queremos saber en relación a la caracteristica de **Exited** si el cliente deja o no deja el banco\n",
    "\n",
    "0 = No\n",
    "1= sí"
   ]
  },
  {
   "cell_type": "code",
   "execution_count": 90,
   "id": "73dfbbf2",
   "metadata": {},
   "outputs": [
    {
     "data": {
      "text/plain": [
       "Exited\n",
       "0    7963\n",
       "1    2037\n",
       "dtype: int64"
      ]
     },
     "execution_count": 90,
     "metadata": {},
     "output_type": "execute_result"
    }
   ],
   "source": [
    "df.groupby('Exited').size()"
   ]
  },
  {
   "cell_type": "code",
   "execution_count": 92,
   "id": "7b9095ae",
   "metadata": {},
   "outputs": [
    {
     "data": {
      "image/png": "[encoded data removed]",
      "text/plain": [
       "<Figure size 360x360 with 1 Axes>"
      ]
     },
     "metadata": {},
     "output_type": "display_data"
    }
   ],
   "source": [
    "df.groupby('Exited').size().plot(kind = 'pie')\n",
    "sns.set(rc={'figure.figsize':(5,5)})\n",
    "plt.show()"
   ]
  },
  {
   "cell_type": "code",
   "execution_count": 89,
   "id": "bebfa8cf",
   "metadata": {},
   "outputs": [
    {
     "data": {
      "text/html": [
       "<div>\n",
       "<style scoped>\n",
       "    .dataframe tbody tr th:only-of-type {\n",
       "        vertical-align: middle;\n",
       "    }\n",
       "\n",
       "    .dataframe tbody tr th {\n",
       "        vertical-align: top;\n",
       "    }\n",
       "\n",
       "    .dataframe thead th {\n",
       "        text-align: right;\n",
       "    }\n",
       "</style>\n",
       "<table border=\"1\" class=\"dataframe\">\n",
       "  <thead>\n",
       "    <tr style=\"text-align: right;\">\n",
       "      <th>Exited</th>\n",
       "      <th>0</th>\n",
       "      <th>1</th>\n",
       "    </tr>\n",
       "    <tr>\n",
       "      <th>age_range</th>\n",
       "      <th></th>\n",
       "      <th></th>\n",
       "    </tr>\n",
       "  </thead>\n",
       "  <tbody>\n",
       "    <tr>\n",
       "      <th>15</th>\n",
       "      <td>77430.52</td>\n",
       "      <td>27831.70</td>\n",
       "    </tr>\n",
       "    <tr>\n",
       "      <th>20</th>\n",
       "      <td>72209.78</td>\n",
       "      <td>91701.09</td>\n",
       "    </tr>\n",
       "    <tr>\n",
       "      <th>25</th>\n",
       "      <td>71035.90</td>\n",
       "      <td>106809.97</td>\n",
       "    </tr>\n",
       "    <tr>\n",
       "      <th>30</th>\n",
       "      <td>72579.60</td>\n",
       "      <td>90018.70</td>\n",
       "    </tr>\n",
       "    <tr>\n",
       "      <th>35</th>\n",
       "      <td>73556.95</td>\n",
       "      <td>92060.14</td>\n",
       "    </tr>\n",
       "    <tr>\n",
       "      <th>40</th>\n",
       "      <td>73460.94</td>\n",
       "      <td>91389.45</td>\n",
       "    </tr>\n",
       "    <tr>\n",
       "      <th>45</th>\n",
       "      <td>72460.16</td>\n",
       "      <td>89494.22</td>\n",
       "    </tr>\n",
       "    <tr>\n",
       "      <th>50</th>\n",
       "      <td>75343.96</td>\n",
       "      <td>90360.27</td>\n",
       "    </tr>\n",
       "    <tr>\n",
       "      <th>55</th>\n",
       "      <td>77470.31</td>\n",
       "      <td>88041.50</td>\n",
       "    </tr>\n",
       "    <tr>\n",
       "      <th>60</th>\n",
       "      <td>69892.86</td>\n",
       "      <td>91539.58</td>\n",
       "    </tr>\n",
       "    <tr>\n",
       "      <th>65</th>\n",
       "      <td>71247.79</td>\n",
       "      <td>93865.12</td>\n",
       "    </tr>\n",
       "    <tr>\n",
       "      <th>70</th>\n",
       "      <td>66945.43</td>\n",
       "      <td>90121.19</td>\n",
       "    </tr>\n",
       "    <tr>\n",
       "      <th>75</th>\n",
       "      <td>70729.89</td>\n",
       "      <td>0.00</td>\n",
       "    </tr>\n",
       "    <tr>\n",
       "      <th>80</th>\n",
       "      <td>33762.81</td>\n",
       "      <td>87873.39</td>\n",
       "    </tr>\n",
       "    <tr>\n",
       "      <th>85</th>\n",
       "      <td>0.00</td>\n",
       "      <td>0.00</td>\n",
       "    </tr>\n",
       "    <tr>\n",
       "      <th>90</th>\n",
       "      <td>123794.78</td>\n",
       "      <td>0.00</td>\n",
       "    </tr>\n",
       "  </tbody>\n",
       "</table>\n",
       "</div>"
      ],
      "text/plain": [
       "Exited             0          1\n",
       "age_range                      \n",
       "15          77430.52   27831.70\n",
       "20          72209.78   91701.09\n",
       "25          71035.90  106809.97\n",
       "30          72579.60   90018.70\n",
       "35          73556.95   92060.14\n",
       "40          73460.94   91389.45\n",
       "45          72460.16   89494.22\n",
       "50          75343.96   90360.27\n",
       "55          77470.31   88041.50\n",
       "60          69892.86   91539.58\n",
       "65          71247.79   93865.12\n",
       "70          66945.43   90121.19\n",
       "75          70729.89       0.00\n",
       "80          33762.81   87873.39\n",
       "85              0.00       0.00\n",
       "90         123794.78       0.00"
      ]
     },
     "execution_count": 89,
     "metadata": {},
     "output_type": "execute_result"
    }
   ],
   "source": [
    "round(df1.pivot_table( 'Balance' ,index= 'age_range', columns= 'Exited', aggfunc= 'mean',fill_value=0),2)"
   ]
  },
  {
   "cell_type": "code",
   "execution_count": 94,
   "id": "0fe9698f",
   "metadata": {},
   "outputs": [
    {
     "data": {
      "image/png": "[encoded data removed]",
      "text/plain": [
       "<Figure size 720x720 with 1 Axes>"
      ]
     },
     "metadata": {},
     "output_type": "display_data"
    }
   ],
   "source": [
    "round(df1.pivot_table( 'Balance' ,index= 'age_range', columns= 'Exited', aggfunc= 'mean',fill_value=0),2).plot(kind = 'bar' ) \n",
    "sns.set(rc={'figure.figsize':(10,10)})\n",
    "plt.title(\"Permanencia del Cliente por rnago Edad\")\n",
    "plt.ylabel(\"Balance Promedio\")\n",
    "plt.xlabel(\"Edades\")\n",
    "plt.show()"
   ]
  },
  {
   "cell_type": "markdown",
   "id": "dbcadcee",
   "metadata": {},
   "source": [
    "*según el grafico anterior se obseva que aquellos que cean en la categoria de Exited - abanonan o salen- mantienen*\n",
    "*un monto menor en Balance que aquellos que sí permanecen, en los clientes con edades entre 20 a 75 años*"
   ]
  },
  {
   "cell_type": "markdown",
   "id": "54a4d1c9",
   "metadata": {},
   "source": [
    "### Histogramas"
   ]
  },
  {
   "cell_type": "markdown",
   "id": "477497a6",
   "metadata": {},
   "source": [
    "**Credit Score**\n",
    "\n",
    "En esta caracteristica se obserba que la mayoria de los clientes se acumulan entre 600 y 700"
   ]
  },
  {
   "cell_type": "code",
   "execution_count": 34,
   "id": "77e959ec",
   "metadata": {},
   "outputs": [
    {
     "data": {
      "image/png": "[encoded data removed]",
      "text/plain": [
       "<Figure size 360x360 with 1 Axes>"
      ]
     },
     "metadata": {},
     "output_type": "display_data"
    }
   ],
   "source": [
    "df['CreditScore'].hist();\n",
    "sns.set(rc={'figure.figsize':(5,5)})"
   ]
  },
  {
   "cell_type": "markdown",
   "id": "a9a6edf6",
   "metadata": {},
   "source": [
    "**Age**"
   ]
  },
  {
   "cell_type": "code",
   "execution_count": 36,
   "id": "540b281f",
   "metadata": {},
   "outputs": [
    {
     "data": {
      "image/png": "[encoded data removed]",
      "text/plain": [
       "<Figure size 360x360 with 1 Axes>"
      ]
     },
     "metadata": {},
     "output_type": "display_data"
    }
   ],
   "source": [
    "ax = df.Age.plot.hist(density=True)\n",
    "df.Age.plot.density(ax=ax); "
   ]
  },
  {
   "cell_type": "markdown",
   "id": "1f6a33f6",
   "metadata": {},
   "source": [
    "se observa una gran cantidad de clientes entre las edades de 25 a 35 años"
   ]
  },
  {
   "cell_type": "markdown",
   "id": "547c1f4e",
   "metadata": {},
   "source": [
    "### Boxplots\n",
    "\n",
    "Se procede a realizar los respectivos boxplots para observar los datos "
   ]
  },
  {
   "cell_type": "code",
   "execution_count": 26,
   "id": "cd803006",
   "metadata": {},
   "outputs": [
    {
     "data": {
      "image/png": "[encoded data removed]",
      "text/plain": [
       "<Figure size 1296x1296 with 36 Axes>"
      ]
     },
     "metadata": {},
     "output_type": "display_data"
    }
   ],
   "source": [
    "df.plot(kind='box',subplots=True, layout=(6,6), sharex=False, sharey=False)\n",
    "sns.set(rc={'figure.figsize':(18,18)})\n",
    "plt.show() # Representación de las caracteristicas como vienen en el daset"
   ]
  },
  {
   "cell_type": "code",
   "execution_count": 27,
   "id": "a5590a7b",
   "metadata": {},
   "outputs": [],
   "source": [
    "# se observa valores extremos \"outliers\" en la Edd de los clientes así como en el Credit Score, y unos cuantos en\n",
    "# numero de productos"
   ]
  },
  {
   "cell_type": "markdown",
   "id": "b6c33a18",
   "metadata": {},
   "source": [
    "### Mapas de Calor de Correlación\n",
    "\n",
    "\n",
    "Se procede a generar la tabla de correlaciones así como la gráfica correspondiente"
   ]
  },
  {
   "cell_type": "code",
   "execution_count": 43,
   "id": "e00979f5",
   "metadata": {},
   "outputs": [
    {
     "data": {
      "text/html": [
       "<style type=\"text/css\">\n",
       "#T_743af_row0_col0, #T_743af_row1_col1, #T_743af_row2_col2, #T_743af_row3_col3, #T_743af_row4_col4, #T_743af_row5_col5, #T_743af_row6_col6, #T_743af_row7_col7, #T_743af_row8_col8, #T_743af_row9_col9 {\n",
       "  background-color: #ff0000;\n",
       "  color: #f1f1f1;\n",
       "}\n",
       "#T_743af_row0_col1, #T_743af_row0_col2, #T_743af_row0_col4, #T_743af_row2_col8, #T_743af_row3_col2, #T_743af_row3_col4, #T_743af_row3_col8, #T_743af_row3_col9, #T_743af_row4_col1, #T_743af_row6_col1, #T_743af_row6_col2, #T_743af_row7_col5, #T_743af_row8_col3, #T_743af_row8_col4, #T_743af_row8_col6, #T_743af_row8_col9, #T_743af_row9_col0, #T_743af_row9_col6 {\n",
       "  background-color: #f3efef;\n",
       "  color: #000000;\n",
       "}\n",
       "#T_743af_row0_col3, #T_743af_row0_col5, #T_743af_row0_col8, #T_743af_row3_col0, #T_743af_row5_col0, #T_743af_row5_col3, #T_743af_row5_col8, #T_743af_row6_col0, #T_743af_row8_col0, #T_743af_row9_col3 {\n",
       "  background-color: #f3eded;\n",
       "  color: #000000;\n",
       "}\n",
       "#T_743af_row0_col6, #T_743af_row1_col5, #T_743af_row2_col0, #T_743af_row2_col3, #T_743af_row2_col6, #T_743af_row3_col5, #T_743af_row4_col0, #T_743af_row4_col3, #T_743af_row4_col6, #T_743af_row4_col7, #T_743af_row4_col8, #T_743af_row5_col1, #T_743af_row5_col7, #T_743af_row6_col4, #T_743af_row6_col7, #T_743af_row6_col8, #T_743af_row7_col6, #T_743af_row7_col8, #T_743af_row8_col5, #T_743af_row8_col7, #T_743af_row9_col8 {\n",
       "  background-color: #f3eeee;\n",
       "  color: #000000;\n",
       "}\n",
       "#T_743af_row0_col7, #T_743af_row0_col9, #T_743af_row1_col0, #T_743af_row1_col2, #T_743af_row1_col3, #T_743af_row1_col4, #T_743af_row1_col6, #T_743af_row1_col8, #T_743af_row2_col1, #T_743af_row3_col1, #T_743af_row5_col6, #T_743af_row6_col5, #T_743af_row6_col9, #T_743af_row7_col0, #T_743af_row7_col4, #T_743af_row8_col1, #T_743af_row8_col2 {\n",
       "  background-color: #f3f0f0;\n",
       "  color: #000000;\n",
       "}\n",
       "#T_743af_row1_col7, #T_743af_row3_col7, #T_743af_row4_col2, #T_743af_row5_col2, #T_743af_row7_col1, #T_743af_row9_col1 {\n",
       "  background-color: #f3eaea;\n",
       "  color: #000000;\n",
       "}\n",
       "#T_743af_row1_col9, #T_743af_row2_col4, #T_743af_row6_col3 {\n",
       "  background-color: #f3ebeb;\n",
       "  color: #000000;\n",
       "}\n",
       "#T_743af_row2_col5, #T_743af_row7_col3 {\n",
       "  background-color: #f3e9e9;\n",
       "  color: #000000;\n",
       "}\n",
       "#T_743af_row2_col7 {\n",
       "  background-color: #f4dcdc;\n",
       "  color: #000000;\n",
       "}\n",
       "#T_743af_row2_col9 {\n",
       "  background-color: #f6adad;\n",
       "  color: #000000;\n",
       "}\n",
       "#T_743af_row3_col6 {\n",
       "  background-color: #f3ecec;\n",
       "  color: #000000;\n",
       "}\n",
       "#T_743af_row4_col5 {\n",
       "  background-color: #f7a8a7;\n",
       "  color: #000000;\n",
       "}\n",
       "#T_743af_row4_col9, #T_743af_row9_col4 {\n",
       "  background-color: #f4d6d6;\n",
       "  color: #000000;\n",
       "}\n",
       "#T_743af_row5_col4 {\n",
       "  background-color: #f6a8a8;\n",
       "  color: #000000;\n",
       "}\n",
       "#T_743af_row5_col9 {\n",
       "  background-color: #f3e7e7;\n",
       "  color: #000000;\n",
       "}\n",
       "#T_743af_row7_col2 {\n",
       "  background-color: #f4dddd;\n",
       "  color: #000000;\n",
       "}\n",
       "#T_743af_row7_col9 {\n",
       "  background-color: #f5cccc;\n",
       "  color: #000000;\n",
       "}\n",
       "#T_743af_row9_col2 {\n",
       "  background-color: #f6acac;\n",
       "  color: #000000;\n",
       "}\n",
       "#T_743af_row9_col5 {\n",
       "  background-color: #f3e6e6;\n",
       "  color: #000000;\n",
       "}\n",
       "#T_743af_row9_col7 {\n",
       "  background-color: #f5cbcb;\n",
       "  color: #000000;\n",
       "}\n",
       "</style>\n",
       "<table id=\"T_743af\">\n",
       "  <thead>\n",
       "    <tr>\n",
       "      <th class=\"blank level0\" >&nbsp;</th>\n",
       "      <th id=\"T_743af_level0_col0\" class=\"col_heading level0 col0\" >CustomerId</th>\n",
       "      <th id=\"T_743af_level0_col1\" class=\"col_heading level0 col1\" >CreditScore</th>\n",
       "      <th id=\"T_743af_level0_col2\" class=\"col_heading level0 col2\" >Age</th>\n",
       "      <th id=\"T_743af_level0_col3\" class=\"col_heading level0 col3\" >Tenure</th>\n",
       "      <th id=\"T_743af_level0_col4\" class=\"col_heading level0 col4\" >Balance</th>\n",
       "      <th id=\"T_743af_level0_col5\" class=\"col_heading level0 col5\" >NumOfProducts</th>\n",
       "      <th id=\"T_743af_level0_col6\" class=\"col_heading level0 col6\" >HasCrCard</th>\n",
       "      <th id=\"T_743af_level0_col7\" class=\"col_heading level0 col7\" >IsActiveMember</th>\n",
       "      <th id=\"T_743af_level0_col8\" class=\"col_heading level0 col8\" >EstimatedSalary</th>\n",
       "      <th id=\"T_743af_level0_col9\" class=\"col_heading level0 col9\" >Exited</th>\n",
       "    </tr>\n",
       "  </thead>\n",
       "  <tbody>\n",
       "    <tr>\n",
       "      <th id=\"T_743af_level0_row0\" class=\"row_heading level0 row0\" >CustomerId</th>\n",
       "      <td id=\"T_743af_row0_col0\" class=\"data row0 col0\" >1.000000</td>\n",
       "      <td id=\"T_743af_row0_col1\" class=\"data row0 col1\" >0.005308</td>\n",
       "      <td id=\"T_743af_row0_col2\" class=\"data row0 col2\" >0.009497</td>\n",
       "      <td id=\"T_743af_row0_col3\" class=\"data row0 col3\" >0.014883</td>\n",
       "      <td id=\"T_743af_row0_col4\" class=\"data row0 col4\" >0.012419</td>\n",
       "      <td id=\"T_743af_row0_col5\" class=\"data row0 col5\" >0.016972</td>\n",
       "      <td id=\"T_743af_row0_col6\" class=\"data row0 col6\" >0.014025</td>\n",
       "      <td id=\"T_743af_row0_col7\" class=\"data row0 col7\" >0.001665</td>\n",
       "      <td id=\"T_743af_row0_col8\" class=\"data row0 col8\" >0.015271</td>\n",
       "      <td id=\"T_743af_row0_col9\" class=\"data row0 col9\" >0.006248</td>\n",
       "    </tr>\n",
       "    <tr>\n",
       "      <th id=\"T_743af_level0_row1\" class=\"row_heading level0 row1\" >CreditScore</th>\n",
       "      <td id=\"T_743af_row1_col0\" class=\"data row1 col0\" >0.005308</td>\n",
       "      <td id=\"T_743af_row1_col1\" class=\"data row1 col1\" >1.000000</td>\n",
       "      <td id=\"T_743af_row1_col2\" class=\"data row1 col2\" >0.003965</td>\n",
       "      <td id=\"T_743af_row1_col3\" class=\"data row1 col3\" >0.000842</td>\n",
       "      <td id=\"T_743af_row1_col4\" class=\"data row1 col4\" >0.006268</td>\n",
       "      <td id=\"T_743af_row1_col5\" class=\"data row1 col5\" >0.012238</td>\n",
       "      <td id=\"T_743af_row1_col6\" class=\"data row1 col6\" >0.005458</td>\n",
       "      <td id=\"T_743af_row1_col7\" class=\"data row1 col7\" >0.025651</td>\n",
       "      <td id=\"T_743af_row1_col8\" class=\"data row1 col8\" >0.001384</td>\n",
       "      <td id=\"T_743af_row1_col9\" class=\"data row1 col9\" >0.027094</td>\n",
       "    </tr>\n",
       "    <tr>\n",
       "      <th id=\"T_743af_level0_row2\" class=\"row_heading level0 row2\" >Age</th>\n",
       "      <td id=\"T_743af_row2_col0\" class=\"data row2 col0\" >0.009497</td>\n",
       "      <td id=\"T_743af_row2_col1\" class=\"data row2 col1\" >0.003965</td>\n",
       "      <td id=\"T_743af_row2_col2\" class=\"data row2 col2\" >1.000000</td>\n",
       "      <td id=\"T_743af_row2_col3\" class=\"data row2 col3\" >0.009997</td>\n",
       "      <td id=\"T_743af_row2_col4\" class=\"data row2 col4\" >0.028308</td>\n",
       "      <td id=\"T_743af_row2_col5\" class=\"data row2 col5\" >0.030680</td>\n",
       "      <td id=\"T_743af_row2_col6\" class=\"data row2 col6\" >0.011721</td>\n",
       "      <td id=\"T_743af_row2_col7\" class=\"data row2 col7\" >0.085472</td>\n",
       "      <td id=\"T_743af_row2_col8\" class=\"data row2 col8\" >0.007201</td>\n",
       "      <td id=\"T_743af_row2_col9\" class=\"data row2 col9\" >0.285323</td>\n",
       "    </tr>\n",
       "    <tr>\n",
       "      <th id=\"T_743af_level0_row3\" class=\"row_heading level0 row3\" >Tenure</th>\n",
       "      <td id=\"T_743af_row3_col0\" class=\"data row3 col0\" >0.014883</td>\n",
       "      <td id=\"T_743af_row3_col1\" class=\"data row3 col1\" >0.000842</td>\n",
       "      <td id=\"T_743af_row3_col2\" class=\"data row3 col2\" >0.009997</td>\n",
       "      <td id=\"T_743af_row3_col3\" class=\"data row3 col3\" >1.000000</td>\n",
       "      <td id=\"T_743af_row3_col4\" class=\"data row3 col4\" >0.012254</td>\n",
       "      <td id=\"T_743af_row3_col5\" class=\"data row3 col5\" >0.013444</td>\n",
       "      <td id=\"T_743af_row3_col6\" class=\"data row3 col6\" >0.022583</td>\n",
       "      <td id=\"T_743af_row3_col7\" class=\"data row3 col7\" >0.028362</td>\n",
       "      <td id=\"T_743af_row3_col8\" class=\"data row3 col8\" >0.007784</td>\n",
       "      <td id=\"T_743af_row3_col9\" class=\"data row3 col9\" >0.014001</td>\n",
       "    </tr>\n",
       "    <tr>\n",
       "      <th id=\"T_743af_level0_row4\" class=\"row_heading level0 row4\" >Balance</th>\n",
       "      <td id=\"T_743af_row4_col0\" class=\"data row4 col0\" >0.012419</td>\n",
       "      <td id=\"T_743af_row4_col1\" class=\"data row4 col1\" >0.006268</td>\n",
       "      <td id=\"T_743af_row4_col2\" class=\"data row4 col2\" >0.028308</td>\n",
       "      <td id=\"T_743af_row4_col3\" class=\"data row4 col3\" >0.012254</td>\n",
       "      <td id=\"T_743af_row4_col4\" class=\"data row4 col4\" >1.000000</td>\n",
       "      <td id=\"T_743af_row4_col5\" class=\"data row4 col5\" >0.304180</td>\n",
       "      <td id=\"T_743af_row4_col6\" class=\"data row4 col6\" >0.014858</td>\n",
       "      <td id=\"T_743af_row4_col7\" class=\"data row4 col7\" >0.010084</td>\n",
       "      <td id=\"T_743af_row4_col8\" class=\"data row4 col8\" >0.012797</td>\n",
       "      <td id=\"T_743af_row4_col9\" class=\"data row4 col9\" >0.118533</td>\n",
       "    </tr>\n",
       "    <tr>\n",
       "      <th id=\"T_743af_level0_row5\" class=\"row_heading level0 row5\" >NumOfProducts</th>\n",
       "      <td id=\"T_743af_row5_col0\" class=\"data row5 col0\" >0.016972</td>\n",
       "      <td id=\"T_743af_row5_col1\" class=\"data row5 col1\" >0.012238</td>\n",
       "      <td id=\"T_743af_row5_col2\" class=\"data row5 col2\" >0.030680</td>\n",
       "      <td id=\"T_743af_row5_col3\" class=\"data row5 col3\" >0.013444</td>\n",
       "      <td id=\"T_743af_row5_col4\" class=\"data row5 col4\" >0.304180</td>\n",
       "      <td id=\"T_743af_row5_col5\" class=\"data row5 col5\" >1.000000</td>\n",
       "      <td id=\"T_743af_row5_col6\" class=\"data row5 col6\" >0.003183</td>\n",
       "      <td id=\"T_743af_row5_col7\" class=\"data row5 col7\" >0.009612</td>\n",
       "      <td id=\"T_743af_row5_col8\" class=\"data row5 col8\" >0.014204</td>\n",
       "      <td id=\"T_743af_row5_col9\" class=\"data row5 col9\" >0.047820</td>\n",
       "    </tr>\n",
       "    <tr>\n",
       "      <th id=\"T_743af_level0_row6\" class=\"row_heading level0 row6\" >HasCrCard</th>\n",
       "      <td id=\"T_743af_row6_col0\" class=\"data row6 col0\" >0.014025</td>\n",
       "      <td id=\"T_743af_row6_col1\" class=\"data row6 col1\" >0.005458</td>\n",
       "      <td id=\"T_743af_row6_col2\" class=\"data row6 col2\" >0.011721</td>\n",
       "      <td id=\"T_743af_row6_col3\" class=\"data row6 col3\" >0.022583</td>\n",
       "      <td id=\"T_743af_row6_col4\" class=\"data row6 col4\" >0.014858</td>\n",
       "      <td id=\"T_743af_row6_col5\" class=\"data row6 col5\" >0.003183</td>\n",
       "      <td id=\"T_743af_row6_col6\" class=\"data row6 col6\" >1.000000</td>\n",
       "      <td id=\"T_743af_row6_col7\" class=\"data row6 col7\" >0.011866</td>\n",
       "      <td id=\"T_743af_row6_col8\" class=\"data row6 col8\" >0.009933</td>\n",
       "      <td id=\"T_743af_row6_col9\" class=\"data row6 col9\" >0.007138</td>\n",
       "    </tr>\n",
       "    <tr>\n",
       "      <th id=\"T_743af_level0_row7\" class=\"row_heading level0 row7\" >IsActiveMember</th>\n",
       "      <td id=\"T_743af_row7_col0\" class=\"data row7 col0\" >0.001665</td>\n",
       "      <td id=\"T_743af_row7_col1\" class=\"data row7 col1\" >0.025651</td>\n",
       "      <td id=\"T_743af_row7_col2\" class=\"data row7 col2\" >0.085472</td>\n",
       "      <td id=\"T_743af_row7_col3\" class=\"data row7 col3\" >0.028362</td>\n",
       "      <td id=\"T_743af_row7_col4\" class=\"data row7 col4\" >0.010084</td>\n",
       "      <td id=\"T_743af_row7_col5\" class=\"data row7 col5\" >0.009612</td>\n",
       "      <td id=\"T_743af_row7_col6\" class=\"data row7 col6\" >0.011866</td>\n",
       "      <td id=\"T_743af_row7_col7\" class=\"data row7 col7\" >1.000000</td>\n",
       "      <td id=\"T_743af_row7_col8\" class=\"data row7 col8\" >0.011421</td>\n",
       "      <td id=\"T_743af_row7_col9\" class=\"data row7 col9\" >0.156128</td>\n",
       "    </tr>\n",
       "    <tr>\n",
       "      <th id=\"T_743af_level0_row8\" class=\"row_heading level0 row8\" >EstimatedSalary</th>\n",
       "      <td id=\"T_743af_row8_col0\" class=\"data row8 col0\" >0.015271</td>\n",
       "      <td id=\"T_743af_row8_col1\" class=\"data row8 col1\" >0.001384</td>\n",
       "      <td id=\"T_743af_row8_col2\" class=\"data row8 col2\" >0.007201</td>\n",
       "      <td id=\"T_743af_row8_col3\" class=\"data row8 col3\" >0.007784</td>\n",
       "      <td id=\"T_743af_row8_col4\" class=\"data row8 col4\" >0.012797</td>\n",
       "      <td id=\"T_743af_row8_col5\" class=\"data row8 col5\" >0.014204</td>\n",
       "      <td id=\"T_743af_row8_col6\" class=\"data row8 col6\" >0.009933</td>\n",
       "      <td id=\"T_743af_row8_col7\" class=\"data row8 col7\" >0.011421</td>\n",
       "      <td id=\"T_743af_row8_col8\" class=\"data row8 col8\" >1.000000</td>\n",
       "      <td id=\"T_743af_row8_col9\" class=\"data row8 col9\" >0.012097</td>\n",
       "    </tr>\n",
       "    <tr>\n",
       "      <th id=\"T_743af_level0_row9\" class=\"row_heading level0 row9\" >Exited</th>\n",
       "      <td id=\"T_743af_row9_col0\" class=\"data row9 col0\" >0.006248</td>\n",
       "      <td id=\"T_743af_row9_col1\" class=\"data row9 col1\" >0.027094</td>\n",
       "      <td id=\"T_743af_row9_col2\" class=\"data row9 col2\" >0.285323</td>\n",
       "      <td id=\"T_743af_row9_col3\" class=\"data row9 col3\" >0.014001</td>\n",
       "      <td id=\"T_743af_row9_col4\" class=\"data row9 col4\" >0.118533</td>\n",
       "      <td id=\"T_743af_row9_col5\" class=\"data row9 col5\" >0.047820</td>\n",
       "      <td id=\"T_743af_row9_col6\" class=\"data row9 col6\" >0.007138</td>\n",
       "      <td id=\"T_743af_row9_col7\" class=\"data row9 col7\" >0.156128</td>\n",
       "      <td id=\"T_743af_row9_col8\" class=\"data row9 col8\" >0.012097</td>\n",
       "      <td id=\"T_743af_row9_col9\" class=\"data row9 col9\" >1.000000</td>\n",
       "    </tr>\n",
       "  </tbody>\n",
       "</table>\n"
      ],
      "text/plain": [
       "<pandas.io.formats.style.Styler at 0x264842165e0>"
      ]
     },
     "execution_count": 43,
     "metadata": {},
     "output_type": "execute_result"
    }
   ],
   "source": [
    "cor_matrix = df.corr().abs()   # esta versión permite colorear aquellas correlaciones que nos llaman la atención tanto positivas como negativas\n",
    "cor_matrix.style.background_gradient(sns.light_palette('red', as_cmap=True))"
   ]
  },
  {
   "cell_type": "code",
   "execution_count": 45,
   "id": "70e79e22",
   "metadata": {},
   "outputs": [
    {
     "data": {
      "image/png": "[encoded data removed]",
      "text/plain": [
       "<Figure size 864x864 with 2 Axes>"
      ]
     },
     "metadata": {},
     "output_type": "display_data"
    }
   ],
   "source": [
    "f,ax = plt.subplots(figsize=(12,12))\n",
    "sns.heatmap(df.corr(method='spearman'),annot=True,vmin=-1, vmax=1, center= 0)\n",
    "plt.show()"
   ]
  },
  {
   "cell_type": "markdown",
   "id": "612e1538",
   "metadata": {},
   "source": [
    "### Según lo observado anteriormente existe relacion entre Edad y Exited, ademas una relacion negativa entre Numofproduct y Balance"
   ]
  },
  {
   "cell_type": "markdown",
   "id": "5e92c8ab",
   "metadata": {},
   "source": [
    "### II- Probabilidad\n",
    "\n",
    "Según lo visto en el curso, cuando se tiene un datset y no se sabe que cual distribucion aplicar \n",
    "entonces se procede a **Determinar la distribucion de Probabilidad de mis Datos**"
   ]
  },
  {
   "cell_type": "code",
   "execution_count": 46,
   "id": "904a435c",
   "metadata": {},
   "outputs": [
    {
     "data": {
      "text/html": [
       "<div>\n",
       "<style scoped>\n",
       "    .dataframe tbody tr th:only-of-type {\n",
       "        vertical-align: middle;\n",
       "    }\n",
       "\n",
       "    .dataframe tbody tr th {\n",
       "        vertical-align: top;\n",
       "    }\n",
       "\n",
       "    .dataframe thead th {\n",
       "        text-align: right;\n",
       "    }\n",
       "</style>\n",
       "<table border=\"1\" class=\"dataframe\">\n",
       "  <thead>\n",
       "    <tr style=\"text-align: right;\">\n",
       "      <th></th>\n",
       "      <th>CustomerId</th>\n",
       "      <th>Surname</th>\n",
       "      <th>CreditScore</th>\n",
       "      <th>Geography</th>\n",
       "      <th>Gender</th>\n",
       "      <th>Age</th>\n",
       "      <th>Tenure</th>\n",
       "      <th>Balance</th>\n",
       "      <th>NumOfProducts</th>\n",
       "      <th>HasCrCard</th>\n",
       "      <th>IsActiveMember</th>\n",
       "      <th>EstimatedSalary</th>\n",
       "      <th>Exited</th>\n",
       "    </tr>\n",
       "  </thead>\n",
       "  <tbody>\n",
       "    <tr>\n",
       "      <th>0</th>\n",
       "      <td>15634602</td>\n",
       "      <td>Hargrave</td>\n",
       "      <td>619</td>\n",
       "      <td>France</td>\n",
       "      <td>Female</td>\n",
       "      <td>42</td>\n",
       "      <td>2</td>\n",
       "      <td>0.00</td>\n",
       "      <td>1</td>\n",
       "      <td>1</td>\n",
       "      <td>1</td>\n",
       "      <td>101348.88</td>\n",
       "      <td>1</td>\n",
       "    </tr>\n",
       "    <tr>\n",
       "      <th>1</th>\n",
       "      <td>15647311</td>\n",
       "      <td>Hill</td>\n",
       "      <td>608</td>\n",
       "      <td>Spain</td>\n",
       "      <td>Female</td>\n",
       "      <td>41</td>\n",
       "      <td>1</td>\n",
       "      <td>83807.86</td>\n",
       "      <td>1</td>\n",
       "      <td>0</td>\n",
       "      <td>1</td>\n",
       "      <td>112542.58</td>\n",
       "      <td>0</td>\n",
       "    </tr>\n",
       "    <tr>\n",
       "      <th>2</th>\n",
       "      <td>15619304</td>\n",
       "      <td>Onio</td>\n",
       "      <td>502</td>\n",
       "      <td>France</td>\n",
       "      <td>Female</td>\n",
       "      <td>42</td>\n",
       "      <td>8</td>\n",
       "      <td>159660.80</td>\n",
       "      <td>3</td>\n",
       "      <td>1</td>\n",
       "      <td>0</td>\n",
       "      <td>113931.57</td>\n",
       "      <td>1</td>\n",
       "    </tr>\n",
       "  </tbody>\n",
       "</table>\n",
       "</div>"
      ],
      "text/plain": [
       "   CustomerId   Surname  CreditScore Geography  Gender  Age  Tenure  \\\n",
       "0    15634602  Hargrave          619    France  Female   42       2   \n",
       "1    15647311      Hill          608     Spain  Female   41       1   \n",
       "2    15619304      Onio          502    France  Female   42       8   \n",
       "\n",
       "     Balance  NumOfProducts  HasCrCard  IsActiveMember  EstimatedSalary  \\\n",
       "0       0.00              1          1               1        101348.88   \n",
       "1   83807.86              1          0               1        112542.58   \n",
       "2  159660.80              3          1               0        113931.57   \n",
       "\n",
       "   Exited  \n",
       "0       1  \n",
       "1       0  \n",
       "2       1  "
      ]
     },
     "execution_count": 46,
     "metadata": {},
     "output_type": "execute_result"
    }
   ],
   "source": [
    "# primero ver rapidamente el dataset \n",
    "df.head(3)"
   ]
  },
  {
   "cell_type": "code",
   "execution_count": 47,
   "id": "b035da57",
   "metadata": {},
   "outputs": [
    {
     "data": {
      "text/plain": [
       "CustomerId           int64\n",
       "Surname             object\n",
       "CreditScore          int64\n",
       "Geography           object\n",
       "Gender              object\n",
       "Age                  int64\n",
       "Tenure               int64\n",
       "Balance            float64\n",
       "NumOfProducts        int64\n",
       "HasCrCard            int64\n",
       "IsActiveMember       int64\n",
       "EstimatedSalary    float64\n",
       "Exited               int64\n",
       "dtype: object"
      ]
     },
     "execution_count": 47,
     "metadata": {},
     "output_type": "execute_result"
    }
   ],
   "source": [
    "df.dtypes"
   ]
  },
  {
   "cell_type": "code",
   "execution_count": 48,
   "id": "69a42ed9",
   "metadata": {},
   "outputs": [
    {
     "data": {
      "text/plain": [
       "CustomerId         0\n",
       "Surname            0\n",
       "CreditScore        0\n",
       "Geography          0\n",
       "Gender             0\n",
       "Age                0\n",
       "Tenure             0\n",
       "Balance            0\n",
       "NumOfProducts      0\n",
       "HasCrCard          0\n",
       "IsActiveMember     0\n",
       "EstimatedSalary    0\n",
       "Exited             0\n",
       "dtype: int64"
      ]
     },
     "execution_count": 48,
     "metadata": {},
     "output_type": "execute_result"
    }
   ],
   "source": [
    "df.isna().sum() # no se presentan valores nulos"
   ]
  },
  {
   "cell_type": "code",
   "execution_count": 49,
   "id": "7095550f",
   "metadata": {},
   "outputs": [
    {
     "data": {
      "image/png": "[encoded data removed]",
      "text/plain": [
       "<Figure size 360x360 with 1 Axes>"
      ]
     },
     "metadata": {},
     "output_type": "display_data"
    }
   ],
   "source": [
    "#Revisar la distribucion del CreditScore\n",
    "df['CreditScore'].hist();"
   ]
  },
  {
   "cell_type": "code",
   "execution_count": 50,
   "id": "98f5b579",
   "metadata": {},
   "outputs": [],
   "source": [
    "# se crea una funcion para estandarizar los datos y quitar los valores nulos y extremos\n",
    "# esta funcion permite escalar los datos y definir la variable Y o variable de interes\n",
    "\n",
    "def standarise(column,pct,pct_lower):\n",
    "    sc = StandardScaler()\n",
    "    y =df[column][df[column].notnull()].to_list()\n",
    "    y.sort()\n",
    "    len_y= len(y)\n",
    "    y = y[int(pct_lower * len_y):int(len_y * pct)]\n",
    "    len_y = len(y)\n",
    "    yy =([[x] for x in y])\n",
    "    sc.fit(yy)\n",
    "    y_std = sc.transform(yy)\n",
    "    y_std = y_std.flatten()\n",
    "    return y_std,len_y,y"
   ]
  },
  {
   "cell_type": "code",
   "execution_count": 51,
   "id": "f4b372d9",
   "metadata": {},
   "outputs": [],
   "source": [
    "# se define la funcion pada probar diferentes distribuciones de probabilidad\n",
    "def fit_distribution(column,pct,pct_lower):\n",
    "    # se setean las distribuciones a usar\n",
    "    # ver docs.scipy.org/doc/scipy/reference/stats.html para mas informacion\n",
    "    y_std,size,y_org = standarise(column,pct,pct_lower)\n",
    "    dist_names= ['weibull_min','norm', 'weibull_max','beta','invgauss','uniform','gamma','expon','lognorm','pearson3','triang']\n",
    "    \n",
    "    \n",
    "    chi_square_statistics = []\n",
    "    # 11 bins\n",
    "    percentile_bins = np.linspace(0,100,11)\n",
    "    percentile_cutoffs = np.percentile(y_std, percentile_bins)\n",
    "    observed_frequency, bins = (np.histogram(y_std, bins = percentile_cutoffs))\n",
    "    cum_observed_frequency = np.cumsum(observed_frequency)\n",
    "    \n",
    "    # se itera sobre as diferentes distribuciones\n",
    "    \n",
    "    for distribution in dist_names:\n",
    "        # se setean las y se obtiene los paraetros \n",
    "        dist= getattr(scipy.stats, distribution)\n",
    "        param = dist.fit(y_std)\n",
    "        print(\"{}\\n{}\\n\".format(dist, param))\n",
    "              \n",
    "        # se obtienen los rangos por percentiles\n",
    "        # se obtienen los valores acumulados\n",
    "        cdf_fitted = dist.cdf(percentile_cutoffs, *param)\n",
    "        expected_frequency = []\n",
    "        for bin in range (len(percentile_bins)-1):\n",
    "              expected_cdf_area = cdf_fitted[bin+1] - cdf_fitted[bin]\n",
    "              expected_frequency.append(expected_cdf_area)\n",
    "              \n",
    "        # se calcula el estadistico Chi-Cuadrado\n",
    "        expected_frequency = np.array(expected_frequency) * size\n",
    "        cum_expected_frequency = np.cumsum(expected_frequency)\n",
    "        ss= np.round(sum(((cum_expected_frequency - cum_observed_frequency)**2) / cum_observed_frequency),0)\n",
    "        chi_square_statistics.append(ss)\n",
    "              \n",
    "    ## se ordenan los datos\n",
    "    results= pd.DataFrame()\n",
    "    results['Distribution'] = dist_names\n",
    "    results['chi_square'] = chi_square_statistics\n",
    "    results.sort_values(('chi_square'), inplace=True)\n",
    "        \n",
    "        \n",
    "    print ('\\nDistributions listed by Betterment of fit:')\n",
    "    print ('............................................')\n",
    "    print(results)"
   ]
  },
  {
   "cell_type": "code",
   "execution_count": 52,
   "id": "ad1f2bb9",
   "metadata": {},
   "outputs": [
    {
     "name": "stdout",
     "output_type": "stream",
     "text": [
      "<scipy.stats._continuous_distns.weibull_min_gen object at 0x00000264F8E558E0>\n",
      "(3.3285396341562863, -2.9846724935372375, 3.3291140997192032)\n",
      "\n",
      "<scipy.stats._continuous_distns.norm_gen object at 0x00000264F8DDF280>\n",
      "(-1.3920837272034615e-16, 1.0)\n",
      "\n",
      "<scipy.stats._continuous_distns.weibull_max_gen object at 0x00000264F8E3A670>\n",
      "(3.1924438278961143, 2.8770205153872594, 3.2153838826085765)\n",
      "\n",
      "<scipy.stats._continuous_distns.beta_gen object at 0x00000264F8E305B0>\n",
      "(2.74568621583935, 2.6541553500478186, -2.5919287165487788, 5.09923848766706)\n",
      "\n",
      "<scipy.stats._continuous_distns.invgauss_gen object at 0x00000264F8E5E7C0>\n",
      "(0.020976832734344808, -7.118980541754407, 339.1517900125624)\n",
      "\n",
      "<scipy.stats._continuous_distns.uniform_gen object at 0x00000264F8EF9190>\n",
      "(-2.370256733714423, 4.525249289714061)\n",
      "\n",
      "<scipy.stats._continuous_distns.gamma_gen object at 0x00000264F8E5E970>\n",
      "(17304.31861288433, -131.57868216302228, 0.0076037980097054154)\n",
      "\n",
      "<scipy.stats._continuous_distns.expon_gen object at 0x00000264F8DDF5E0>\n",
      "(-2.370256733714423, 2.370256733714423)\n",
      "\n",
      "<scipy.stats._continuous_distns.lognorm_gen object at 0x00000264F8E9B820>\n",
      "(0.011887008739443393, -84.16914030181186, 84.16540820752195)\n",
      "\n",
      "<scipy.stats._continuous_distns.pearson3_gen object at 0x00000264F8EC3B20>\n",
      "(-0.027410050056180177, -1.8873344802339995e-16, 1.0000218859877943)\n",
      "\n",
      "<scipy.stats._continuous_distns.triang_gen object at 0x00000264F8EEE460>\n",
      "(0.5177207363544292, -2.4626878834003243, 4.862549539328729)\n",
      "\n",
      "\n",
      "Distributions listed by Betterment of fit:\n",
      "............................................\n",
      "   Distribution  chi_square\n",
      "10       triang         3.0\n",
      "3          beta        17.0\n",
      "0   weibull_min        32.0\n",
      "2   weibull_max        56.0\n",
      "6         gamma        80.0\n",
      "8       lognorm        81.0\n",
      "1          norm        83.0\n",
      "9      pearson3        86.0\n",
      "4      invgauss       126.0\n",
      "5       uniform      3037.0\n",
      "7         expon     13232.0\n"
     ]
    }
   ],
   "source": [
    "fit_distribution('CreditScore',0.99,0.01) # la funcion procede a realizar la evaluacion para cada moledelo de distribucion\n",
    "                                            # de probabilidad e imprime los resultados ordenados de menor a mayor segun valor\n",
    "                                            # entre menor sea el valor indica que se acerca más a la variable elegida"
   ]
  },
  {
   "cell_type": "markdown",
   "id": "7c7756c3",
   "metadata": {},
   "source": [
    "según lo anterior el modelo a utilizar corresponde a **Triang** según la Triang corresponde a Una distribución triangular es una distribución continua que se describe por sus valores mínimos, máximos y su moda.\n",
    "\n",
    "https://docs.scipy.org/doc/scipy/reference/generated/scipy.stats.triang.html"
   ]
  },
  {
   "cell_type": "code",
   "execution_count": 53,
   "id": "12d7825f",
   "metadata": {},
   "outputs": [],
   "source": [
    "# se estandariza la variable\n",
    "y_std, len_y,y = standarise('CreditScore',0.99,0.01)"
   ]
  },
  {
   "cell_type": "code",
   "execution_count": 55,
   "id": "2d3cf68e",
   "metadata": {},
   "outputs": [
    {
     "data": {
      "image/png": "[encoded data removed]",
      "text/plain": [
       "<Figure size 360x360 with 1 Axes>"
      ]
     },
     "metadata": {},
     "output_type": "display_data"
    }
   ],
   "source": [
    "plt.hist(y)\n",
    "plt.xlabel('CreditScore')\n",
    "plt.ylabel('Frecuency');"
   ]
  },
  {
   "cell_type": "markdown",
   "id": "1cc1c163",
   "metadata": {},
   "source": [
    "*Se puede obsevar como ahora el histograma se asemeja un poco más a un triangulo* mejora la districución de datos"
   ]
  },
  {
   "cell_type": "code",
   "execution_count": 57,
   "id": "183b995f",
   "metadata": {},
   "outputs": [
    {
     "data": {
      "image/png": "[encoded data removed]",
      "text/plain": [
       "<Figure size 648x360 with 2 Axes>"
      ]
     },
     "metadata": {},
     "output_type": "display_data"
    }
   ],
   "source": [
    "fig, axes = plt.subplots(nrows=1, ncols=2, figsize=(9,5))\n",
    "axes[0].hist(y)\n",
    "axes[0].set_xlabel('CreditScore\\n\\nHistograma para Datos observados')\n",
    "axes[0].set_ylabel('Frecuencia')\n",
    "axes[1].plot(y,triang.pdf(y_std,0.517,-2.462,4.862))\n",
    "axes[1].set_xlabel('CreditScore\\n\\nDistribucion Inversa de triang')\n",
    "axes[1].set_ylabel('pdf')\n",
    "fig.tight_layout()"
   ]
  },
  {
   "cell_type": "markdown",
   "id": "5271443e",
   "metadata": {},
   "source": [
    "En lo personal este metodo me gustó mucho porque permite conocer cual metodo permite de mejor forma adaptarse a los datos.  segun se puede ver en la grafica anterior el comportamiento de los datos ya ajustado y normalizado se comporta muy similar a la Distribucion inversa de Triang."
   ]
  },
  {
   "cell_type": "markdown",
   "id": "37fb9993",
   "metadata": {},
   "source": [
    "### Aplicar el tema de Distribución Hipergeométrica"
   ]
  },
  {
   "cell_type": "code",
   "execution_count": 100,
   "id": "8ad16cc0",
   "metadata": {},
   "outputs": [
    {
     "data": {
      "text/plain": [
       "Exited\n",
       "0    7963\n",
       "1    2037\n",
       "dtype: int64"
      ]
     },
     "execution_count": 100,
     "metadata": {},
     "output_type": "execute_result"
    }
   ],
   "source": [
    "df.groupby('Exited').size()"
   ]
  },
  {
   "cell_type": "code",
   "execution_count": 101,
   "id": "8fa0d200",
   "metadata": {},
   "outputs": [
    {
     "data": {
      "text/plain": [
       "0.7963"
      ]
     },
     "execution_count": 101,
     "metadata": {},
     "output_type": "execute_result"
    }
   ],
   "source": [
    "7963/10000"
   ]
  },
  {
   "cell_type": "code",
   "execution_count": 102,
   "id": "91fc8963",
   "metadata": {},
   "outputs": [
    {
     "data": {
      "text/plain": [
       "0.2037"
      ]
     },
     "execution_count": 102,
     "metadata": {},
     "output_type": "execute_result"
    }
   ],
   "source": [
    "2037/10000"
   ]
  },
  {
   "cell_type": "code",
   "execution_count": 103,
   "id": "4cf488a5",
   "metadata": {},
   "outputs": [],
   "source": [
    "# suponga que del total de clientes, se tomó una muestra que representa la misma\n",
    "# proporcion de la poblacion (caso hipoteticoi) quiere elegir si a sido de los que dejan o no el banco\n",
    "# quiere saber si del total y elige un cliente que sea de los que sí caen en categoria exited \n",
    "\n",
    "N_clientes = 100 # poblacion total de clientes\n",
    "r_clientes = 80 # numero de clientes que no dejan el banco\n",
    "n_clientes = 20 # numero de clientes que sí dejan\n",
    "\n",
    "distr_hyper_clientes = ss.hypergeom(N_clientes, r_clientes, n_clientes)"
   ]
  },
  {
   "cell_type": "code",
   "execution_count": 104,
   "id": "072df7b3",
   "metadata": {},
   "outputs": [
    {
     "data": {
      "image/png": "[encoded data removed]",
      "text/plain": [
       "<Figure size 432x288 with 1 Axes>"
      ]
     },
     "metadata": {
      "needs_background": "light"
     },
     "output_type": "display_data"
    }
   ],
   "source": [
    "# se grafica la distribucion segun los datos anteriores\n",
    "\n",
    "data_hyper = ss.hypergeom.rvs(N_clientes, r_clientes, n_clientes,size =10000)\n",
    "\n",
    "ax = sns.distplot(data_hyper,\n",
    "                 kde = False,\n",
    "                 color= \"skyblue\",\n",
    "                 hist_kws={\"linewidth\":1,\"alpha\":1})\n",
    "ax.set(xlabel = \"Valores - N_Clientes\", ylabel = \"Frecuencia\", title= \" Distribución Frecuencia Hipergeométrica\");"
   ]
  },
  {
   "cell_type": "code",
   "execution_count": 107,
   "id": "d718caa5",
   "metadata": {},
   "outputs": [
    {
     "data": {
      "text/plain": [
       "0.24368774963840795"
      ]
     },
     "execution_count": 107,
     "metadata": {},
     "output_type": "execute_result"
    }
   ],
   "source": [
    "x_cliente =16 \n",
    "prob_cliente =distr_hyper_clientes.pmf(x_cliente)\n",
    "prob_cliente"
   ]
  },
  {
   "cell_type": "markdown",
   "id": "06d32b0e",
   "metadata": {},
   "source": [
    "## III- Estadistica Inferencial"
   ]
  },
  {
   "cell_type": "code",
   "execution_count": 108,
   "id": "9dca4ffe",
   "metadata": {},
   "outputs": [
    {
     "data": {
      "text/plain": [
       "Index(['CustomerId', 'Surname', 'CreditScore', 'Geography', 'Gender', 'Age',\n",
       "       'Tenure', 'Balance', 'NumOfProducts', 'HasCrCard', 'IsActiveMember',\n",
       "       'EstimatedSalary', 'Exited'],\n",
       "      dtype='object')"
      ]
     },
     "execution_count": 108,
     "metadata": {},
     "output_type": "execute_result"
    }
   ],
   "source": [
    "df.columns"
   ]
  },
  {
   "cell_type": "code",
   "execution_count": 110,
   "id": "f3aa706a",
   "metadata": {},
   "outputs": [
    {
     "name": "stdout",
     "output_type": "stream",
     "text": [
      "<class 'pandas.core.frame.DataFrame'>\n",
      "RangeIndex: 10000 entries, 0 to 9999\n",
      "Data columns (total 13 columns):\n",
      " #   Column           Non-Null Count  Dtype  \n",
      "---  ------           --------------  -----  \n",
      " 0   CustomerId       10000 non-null  int64  \n",
      " 1   Surname          10000 non-null  object \n",
      " 2   CreditScore      10000 non-null  int64  \n",
      " 3   Geography        10000 non-null  object \n",
      " 4   Gender           10000 non-null  object \n",
      " 5   Age              10000 non-null  int64  \n",
      " 6   Tenure           10000 non-null  int64  \n",
      " 7   Balance          10000 non-null  float64\n",
      " 8   NumOfProducts    10000 non-null  int64  \n",
      " 9   HasCrCard        10000 non-null  int64  \n",
      " 10  IsActiveMember   10000 non-null  int64  \n",
      " 11  EstimatedSalary  10000 non-null  float64\n",
      " 12  Exited           10000 non-null  int64  \n",
      "dtypes: float64(2), int64(8), object(3)\n",
      "memory usage: 1015.8+ KB\n"
     ]
    }
   ],
   "source": [
    "df.info()"
   ]
  },
  {
   "cell_type": "code",
   "execution_count": 116,
   "id": "5802ada7",
   "metadata": {},
   "outputs": [
    {
     "data": {
      "text/plain": [
       "Gender\n",
       "Female    4543\n",
       "Male      5457\n",
       "dtype: int64"
      ]
     },
     "execution_count": 116,
     "metadata": {},
     "output_type": "execute_result"
    }
   ],
   "source": [
    "df.groupby('Gender').size()"
   ]
  },
  {
   "cell_type": "code",
   "execution_count": 117,
   "id": "fc00565f",
   "metadata": {},
   "outputs": [
    {
     "data": {
      "text/plain": [
       "Exited\n",
       "0    7963\n",
       "1    2037\n",
       "dtype: int64"
      ]
     },
     "execution_count": 117,
     "metadata": {},
     "output_type": "execute_result"
    }
   ],
   "source": [
    "df.groupby('Exited').size()"
   ]
  },
  {
   "cell_type": "code",
   "execution_count": 111,
   "id": "795863d2",
   "metadata": {},
   "outputs": [
    {
     "data": {
      "image/png": "[encoded data removed]",
      "text/plain": [
       "<Figure size 432x288 with 1 Axes>"
      ]
     },
     "metadata": {
      "needs_background": "light"
     },
     "output_type": "display_data"
    }
   ],
   "source": [
    "#crear un grafico barras de 100%\n",
    "grafico= pd.crosstab(df.Gender,df.Exited)\n",
    "grafico_porcentuales= grafico.apply(lambda x: (x*100)/sum(x),axis=1)\n",
    "grafico_porcentuales.plot.barh(stacked=True);\n",
    "\n",
    "analisis = df.loc[df['Exited'].isin([0,1]),['Gender','Exited']]\n",
    "analisis.head()"
   ]
  },
  {
   "cell_type": "code",
   "execution_count": 115,
   "id": "2ba8497d",
   "metadata": {},
   "outputs": [],
   "source": [
    "#definir una funcion para permutaciones \n",
    "\n",
    "def permutation_sample(data1,data2):\n",
    "    \"\"\"Genera una muestra permutada a partir de dos conjuntos de datos\"\"\"\n",
    "    \n",
    "    #concatenar los conjuntos de datos: data\n",
    "    data = np.concatenate((data1,data2))\n",
    "    \n",
    "    \n",
    "    #permutar el arreflo concatenado: datos permutados\n",
    "    permuted_data = np.random.permutation(data)\n",
    "    \n",
    "    #dividir el arreglo permutado en dos\n",
    "    perm_sample_1 = permuted_data[:len(data1)]\n",
    "    perm_sample_2 = permuted_data[len(data1):]\n",
    "    \n",
    "    return perm_sample_1,perm_sample_2"
   ]
  },
  {
   "cell_type": "code",
   "execution_count": 118,
   "id": "9e4f3777",
   "metadata": {},
   "outputs": [],
   "source": [
    "# Generate Permutation samples\n",
    "\n",
    "perm_sample_1,perm_sample_2 = permutation_sample(\n",
    "                                df.loc[df['Gender']=='Male',['Exited']],\n",
    "                                df.loc[df['Gender']=='Female',['Exited']])"
   ]
  },
  {
   "cell_type": "code",
   "execution_count": 119,
   "id": "491085f3",
   "metadata": {},
   "outputs": [
    {
     "name": "stdout",
     "output_type": "stream",
     "text": [
      "[[0]\n",
      " [0]\n",
      " [0]\n",
      " ...\n",
      " [0]\n",
      " [1]\n",
      " [1]]\n"
     ]
    }
   ],
   "source": [
    "print(perm_sample_1)"
   ]
  },
  {
   "cell_type": "code",
   "execution_count": 120,
   "id": "fb022709",
   "metadata": {},
   "outputs": [
    {
     "name": "stdout",
     "output_type": "stream",
     "text": [
      "[[0]\n",
      " [0]\n",
      " [0]\n",
      " ...\n",
      " [0]\n",
      " [0]\n",
      " [0]]\n"
     ]
    }
   ],
   "source": [
    "print(perm_sample_2)"
   ]
  },
  {
   "cell_type": "code",
   "execution_count": 129,
   "id": "1a4a34bf",
   "metadata": {},
   "outputs": [],
   "source": [
    "### Se crea la funcion para la diferencia de proporciones\n",
    "\n",
    "def diff_of_props(data_1,data_2,value):\n",
    "    \"\"\"Diferencia entre los promedios de dos arreglos\"\"\"\n",
    "    \n",
    "    \n",
    "    # Se calcula la diferencia entre las proporciones de datos 1 y datos 2: diff\n",
    "    \n",
    "    diff = np.mean(data_1[:,0]==value) - np.mean(data_2[:,0]==value)\n",
    "    \n",
    "    return diff"
   ]
  },
  {
   "cell_type": "code",
   "execution_count": 130,
   "id": "db5d0a2b",
   "metadata": {},
   "outputs": [],
   "source": [
    "# Generar la diferencia empírica (son los resultados segun la muestra que se obtiene)\n",
    "\n",
    "diff_empiricas_prop = diff_of_props(perm_sample_1,perm_sample_2,1)"
   ]
  },
  {
   "cell_type": "code",
   "execution_count": 131,
   "id": "b08a6e9c",
   "metadata": {},
   "outputs": [
    {
     "data": {
      "text/plain": [
       "0.0041987159047193745"
      ]
     },
     "execution_count": 131,
     "metadata": {},
     "output_type": "execute_result"
    }
   ],
   "source": [
    "diff_empiricas_prop "
   ]
  },
  {
   "cell_type": "code",
   "execution_count": 132,
   "id": "881d1048",
   "metadata": {},
   "outputs": [],
   "source": [
    "### Se generan las replicas de las permutaciones\n",
    "\n",
    "#esta funcion recibe otra funcion (una funcion dentro de ota funcion)\n",
    "def draw_perm_reps(data_1,data_2,func,value,size=1,prop=0): \n",
    "    \"\"\"Multiles repeticiones permutadas\"\"\"\n",
    "    \n",
    "    #Inicializar un arreglo (un tipo de matriz) de repeticines : perm_replicates\n",
    "    perm_replicates = np.empty(size)\n",
    "    \n",
    "    for i in range(size):\n",
    "        # Se genera la muestra permutada \n",
    "        perm_sample_1,perm_sample_2 = permutation_sample(data_1,data_2)\n",
    "        \n",
    "        #computar el estadistico de prueba\n",
    "        if prop == 0:\n",
    "            perm_replicates[i]= func(perm_sample_1,perm_sample_2)\n",
    "        elif prop ==1:\n",
    "            perm_replicates[i]= func(perm_sample_1,perm_sample_2,value)\n",
    "    \n",
    "    return perm_replicates"
   ]
  },
  {
   "cell_type": "code",
   "execution_count": 133,
   "id": "f7bc6631",
   "metadata": {},
   "outputs": [],
   "source": [
    "# se generan 10 000 permutaciones o replicas : perm_replicates\n",
    "perm_replicates = draw_perm_reps(df.loc[df['Gender'] == 'Male',['Exited']],\n",
    "                                df.loc[df['Gender'] == 'Female',['Exited']],\n",
    "                                diff_of_props, value= 1, size = 10000, prop =1)"
   ]
  },
  {
   "cell_type": "markdown",
   "id": "054fc9ff",
   "metadata": {},
   "source": [
    "Hipotesis nula dice : indica que la proporcion de hombres y mujeres es la misma que permanecen o no en el banco"
   ]
  },
  {
   "cell_type": "code",
   "execution_count": 134,
   "id": "0e52d5e6",
   "metadata": {},
   "outputs": [],
   "source": [
    "# Se procede a calcular el valor P\n",
    "\n",
    "p = np.sum(abs(perm_replicates) >= abs(diff_empiricas_prop)) / len(perm_replicates)"
   ]
  },
  {
   "attachments": {
    "image.png": {
     "image/png": "[encoded data removed]"
    }
   },
   "cell_type": "markdown",
   "id": "93da31e5",
   "metadata": {},
   "source": [
    "![image.png](attachment:image.png)"
   ]
  },
  {
   "cell_type": "code",
   "execution_count": 135,
   "id": "f57050e3",
   "metadata": {},
   "outputs": [
    {
     "name": "stdout",
     "output_type": "stream",
     "text": [
      "p-value = 0.618\n"
     ]
    }
   ],
   "source": [
    "print('p-value =', p) "
   ]
  },
  {
   "cell_type": "markdown",
   "id": "ac661b90",
   "metadata": {},
   "source": [
    "**como el valor de P  dio mayor a 0.05 existe evidencia estadistica para no**\n",
    "    **rechazar la hipotesis nula**"
   ]
  },
  {
   "cell_type": "markdown",
   "id": "4bcef591",
   "metadata": {},
   "source": [
    "## Grafica de la Region Critica"
   ]
  },
  {
   "cell_type": "code",
   "execution_count": 136,
   "id": "5465a79f",
   "metadata": {},
   "outputs": [],
   "source": [
    "# se inicia creando unos objetos \n",
    "\n",
    "# Probar diferentes niveles de confianza\n",
    "\n",
    "nvl_95 = np.percentile(perm_replicates,95)\n",
    "nvl_975 = np.percentile(perm_replicates,97.5)\n",
    "nvl_995 = np.percentile(perm_replicates,99.5)\n",
    "\n",
    "\n",
    "nvl_5 = np.percentile(perm_replicates,5)\n",
    "nvl_275 = np.percentile(perm_replicates,2.5)\n",
    "nvl_005 = np.percentile(perm_replicates,0.5)"
   ]
  },
  {
   "cell_type": "code",
   "execution_count": 137,
   "id": "7553c241",
   "metadata": {},
   "outputs": [
    {
     "data": {
      "image/png": "[encoded data removed]",
      "text/plain": [
       "<Figure size 432x288 with 1 Axes>"
      ]
     },
     "metadata": {
      "needs_background": "light"
     },
     "output_type": "display_data"
    }
   ],
   "source": [
    "# Graficar para un 90% de comfianza\n",
    "sns.histplot(data=perm_replicates)\n",
    "plt.axvline(diff_empiricas_prop, c=\"green\")\n",
    "plt.axvline(nvl_95, c=\"red\")  # esto corresponde a las colas\n",
    "plt.axvline(nvl_5, c=\"red\");   # esto corresponde a las colas"
   ]
  }
 ],
 "metadata": {
  "kernelspec": {
   "display_name": "Python 3 (ipykernel)",
   "language": "python",
   "name": "python3"
  },
  "language_info": {
   "codemirror_mode": {
    "name": "ipython",
    "version": 3
   },
   "file_extension": ".py",
   "mimetype": "text/x-python",
   "name": "python",
   "nbconvert_exporter": "python",
   "pygments_lexer": "ipython3",
   "version": "3.9.7"
  }
 },
 "nbformat": 4,
 "nbformat_minor": 5
}
