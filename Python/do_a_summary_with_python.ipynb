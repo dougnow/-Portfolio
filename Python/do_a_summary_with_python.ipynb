{
  "nbformat": 4,
  "nbformat_minor": 0,
  "metadata": {
    "colab": {
      "name": "do_a_summary_with_python.ipynb",
      "provenance": [],
      "collapsed_sections": []
    },
    "kernelspec": {
      "name": "python3",
      "display_name": "Python 3"
    },
    "language_info": {
      "name": "python"
    }
  },
  "cells": [
    {
      "cell_type": "markdown",
      "source": [
        "# How to create a summary/abstract with python"
      ],
      "metadata": {
        "id": "eJLi4hmhYM2M"
      }
    },
    {
      "cell_type": "markdown",
      "source": [
        "* please also check : https://gist.github.com/N0taN3rd/8b4119ec6bac523fdbd1bd55afc05cf5\n",
        "*https://www.pythontutorial.net/python-basics/python-write-text-file/#:~:text=Steps%20for%20writing%20to%20text,using%20the%20close()%20method."
      ],
      "metadata": {
        "id": "zuLtojBCPqaM"
      }
    },
    {
      "cell_type": "code",
      "execution_count": 2,
      "metadata": {
        "colab": {
          "base_uri": "https://localhost:8080/"
        },
        "id": "sgTZtJj34_-O",
        "outputId": "ba907655-79f0-430d-d429-b8f7e3436f6f"
      },
      "outputs": [
        {
          "output_type": "stream",
          "name": "stdout",
          "text": [
            "Looking in indexes: https://pypi.org/simple, https://us-python.pkg.dev/colab-wheels/public/simple/\n",
            "Collecting sumy\n",
            "  Downloading sumy-0.10.0-py2.py3-none-any.whl (94 kB)\n",
            "\u001b[K     |████████████████████████████████| 94 kB 2.0 MB/s \n",
            "\u001b[?25hRequirement already satisfied: docopt<0.7,>=0.6.1 in /usr/local/lib/python3.7/dist-packages (from sumy) (0.6.2)\n",
            "Requirement already satisfied: requests>=2.7.0 in /usr/local/lib/python3.7/dist-packages (from sumy) (2.23.0)\n",
            "Requirement already satisfied: nltk>=3.0.2 in /usr/local/lib/python3.7/dist-packages (from sumy) (3.7)\n",
            "Collecting breadability>=0.1.20\n",
            "  Downloading breadability-0.1.20.tar.gz (32 kB)\n",
            "Collecting pycountry>=18.2.23\n",
            "  Downloading pycountry-22.3.5.tar.gz (10.1 MB)\n",
            "\u001b[K     |████████████████████████████████| 10.1 MB 26.9 MB/s \n",
            "\u001b[?25h  Installing build dependencies ... \u001b[?25l\u001b[?25hdone\n",
            "  Getting requirements to build wheel ... \u001b[?25l\u001b[?25hdone\n",
            "    Preparing wheel metadata ... \u001b[?25l\u001b[?25hdone\n",
            "Requirement already satisfied: chardet in /usr/local/lib/python3.7/dist-packages (from breadability>=0.1.20->sumy) (3.0.4)\n",
            "Requirement already satisfied: lxml>=2.0 in /usr/local/lib/python3.7/dist-packages (from breadability>=0.1.20->sumy) (4.2.6)\n",
            "Requirement already satisfied: click in /usr/local/lib/python3.7/dist-packages (from nltk>=3.0.2->sumy) (7.1.2)\n",
            "Requirement already satisfied: tqdm in /usr/local/lib/python3.7/dist-packages (from nltk>=3.0.2->sumy) (4.64.0)\n",
            "Requirement already satisfied: regex>=2021.8.3 in /usr/local/lib/python3.7/dist-packages (from nltk>=3.0.2->sumy) (2022.6.2)\n",
            "Requirement already satisfied: joblib in /usr/local/lib/python3.7/dist-packages (from nltk>=3.0.2->sumy) (1.1.0)\n",
            "Requirement already satisfied: setuptools in /usr/local/lib/python3.7/dist-packages (from pycountry>=18.2.23->sumy) (57.4.0)\n",
            "Requirement already satisfied: idna<3,>=2.5 in /usr/local/lib/python3.7/dist-packages (from requests>=2.7.0->sumy) (2.10)\n",
            "Requirement already satisfied: urllib3!=1.25.0,!=1.25.1,<1.26,>=1.21.1 in /usr/local/lib/python3.7/dist-packages (from requests>=2.7.0->sumy) (1.24.3)\n",
            "Requirement already satisfied: certifi>=2017.4.17 in /usr/local/lib/python3.7/dist-packages (from requests>=2.7.0->sumy) (2022.6.15)\n",
            "Building wheels for collected packages: breadability, pycountry\n",
            "  Building wheel for breadability (setup.py) ... \u001b[?25l\u001b[?25hdone\n",
            "  Created wheel for breadability: filename=breadability-0.1.20-py2.py3-none-any.whl size=21712 sha256=d66ad853c5245f45b9f1b3c3bdda663367c756fea17055c1384e6a3f6cc74f1b\n",
            "  Stored in directory: /root/.cache/pip/wheels/d4/bf/51/81d27ad638e1a6dca4f362ecc33d1e2c764b8ea7ec751b8fc1\n",
            "  Building wheel for pycountry (PEP 517) ... \u001b[?25l\u001b[?25hdone\n",
            "  Created wheel for pycountry: filename=pycountry-22.3.5-py2.py3-none-any.whl size=10681845 sha256=15418255d68d5ac7e79641f0caa585ea0846605d4ca6b524279ade9c70060649\n",
            "  Stored in directory: /root/.cache/pip/wheels/0e/06/e8/7ee176e95ea9a8a8c3b3afcb1869f20adbd42413d4611c6eb4\n",
            "Successfully built breadability pycountry\n",
            "Installing collected packages: pycountry, breadability, sumy\n",
            "Successfully installed breadability-0.1.20 pycountry-22.3.5 sumy-0.10.0\n"
          ]
        }
      ],
      "source": [
        "pip install sumy"
      ]
    },
    {
      "cell_type": "code",
      "source": [
        "import nltk\n",
        "nltk.download('punkt')"
      ],
      "metadata": {
        "colab": {
          "base_uri": "https://localhost:8080/"
        },
        "id": "TKRcC8dySFeN",
        "outputId": "e2a9927a-5e0e-4b6d-806e-860b53b18205"
      },
      "execution_count": 7,
      "outputs": [
        {
          "output_type": "stream",
          "name": "stderr",
          "text": [
            "[nltk_data] Downloading package punkt to /root/nltk_data...\n",
            "[nltk_data]   Unzipping tokenizers/punkt.zip.\n"
          ]
        },
        {
          "output_type": "execute_result",
          "data": {
            "text/plain": [
              "True"
            ]
          },
          "metadata": {},
          "execution_count": 7
        }
      ]
    },
    {
      "cell_type": "code",
      "source": [
        "from sumy.parsers.html import HtmlParser\n",
        "from sumy.nlp.tokenizers import Tokenizer\n",
        "from sumy.summarizers.luhn import LuhnSummarizer\n",
        "from sumy.summarizers.lsa import LsaSummarizer as Summarizer\n",
        "from sumy.nlp.stemmers import Stemmer\n",
        "from sumy.utils import get_stop_words"
      ],
      "metadata": {
        "id": "zICYZo4n5c4t"
      },
      "execution_count": 8,
      "outputs": []
    },
    {
      "cell_type": "code",
      "source": [
        "#now most define idiom\n",
        "language = 'english'\n",
        "sentences_count= 10\n",
        "url = 'https://www.bcie.org/en/news-and-media/news/article/bcie-y-la-republica-federal-de-alemania-firman-convenio-para-fomentar-la-movilidad-urbana-sostenible-de-centroamerica'\n",
        "parser =  HtmlParser.from_url(url, Tokenizer(language))\n",
        "\n",
        "#define summarizer\n",
        "summarizer =LuhnSummarizer()\n",
        "summarizer = LuhnSummarizer(Stemmer(language))\n",
        "summarizer.stop_words = get_stop_words(language)\n",
        "\n",
        "#loop for sentence\n",
        "for sentence in summarizer(parser.document,sentences_count):\n",
        "    print(sentence)"
      ],
      "metadata": {
        "colab": {
          "base_uri": "https://localhost:8080/"
        },
        "id": "8VAX5vgsPhgY",
        "outputId": "b3d9562b-9a7e-4a52-b5ec-629f8b36b8a4"
      },
      "execution_count": 23,
      "outputs": [
        {
          "output_type": "stream",
          "name": "stdout",
          "text": [
            "The initiative will be financed with up to EUR132.0 million and is being developed in an international context in which rising fuel prices are affecting countries' economies.\n",
            "The Federal Republic of Germany has also supported non-reimbursable facilities for pre-investment studies and other complementary measures in the amount of EUR48.7 million.\n",
            "– The Central American Bank for Economic Integration (CABEI) and the Federal Republic of Germany signed a financial cooperation agreement for up to EUR 132.0 million to promote Sustainable Urban Mobility projects in Central America, promoting the implementation of sustainable, accessible and safe multimodal transportation projects that, in turn, contribute to the improvement of energy efficiency and the reduction of greenhouse gas emissions.\n",
            "The ceremony was also attended by the Director for Latin America, Dr. Ute Heinbuch, Head of the Latin America Division of the Federal Ministry for Economic Cooperation and Development, who took advantage of her visit to discuss future cooperation links with CABEI.\n",
            "For CABEI, said Executive President Dr. Dante Mossi, \"environmental sustainability is a transversal axis of CABEI's Institutional Strategy, which is why improving and modernizing the forms of transportation in our region is a priority to which we have been directing our efforts for several years with strategic allies such as the German government, which today, once again, supports Central America by joining an initiative as important as this one.\"\n",
            "Dr. Thomas Cieslik, Interim Head of Business of the German Embassy, commented: \"Germany will continue with its commitments to the region in the area of development cooperation.\n",
            "In general, regional projects are an important instrument to strengthen the countries' capacities in terms of sustainability and in offering quality services to their people, such as public transportation, for example.\"\n",
            "Through the signed agreement, CABEI will receive two loans for a total amount of up to EUR130.0 million, plus a financial contribution of EUR2.0 million through the \"Kreditanstalt Fur Wiederaufbau\" (KfW) bank, the German government's financial cooperation to promote this strategic sector of sustainable urban mobility, supporting the climate change mitigation efforts of Central American countries.\n",
            "This agreement will allow CABEI to grant loans to the public and private sectors for a 20-year term, including up to a 5-year grace period, at an indicative rate of 4.23%.\n",
            "CABEI has a long history of financial cooperation with the Government of the Federal Republic of Germany through KfW since 2002, having subscribed an amount of EUR 799.8 million in loans for sustainable development in the region.\n"
          ]
        }
      ]
    },
    {
      "cell_type": "code",
      "source": [
        "print(sentence)"
      ],
      "metadata": {
        "colab": {
          "base_uri": "https://localhost:8080/"
        },
        "id": "gC7KWjehT54v",
        "outputId": "6b337f6f-2c3b-4249-e58b-d568df73f73b"
      },
      "execution_count": 17,
      "outputs": [
        {
          "output_type": "stream",
          "name": "stdout",
          "text": [
            "CABEI has a long history of financial cooperation with the Government of the Federal Republic of Germany through KfW since 2002, having subscribed an amount of EUR 799.8 million in loans for sustainable development in the region.\n"
          ]
        }
      ]
    },
    {
      "cell_type": "code",
      "source": [
        "lines = ['test1', 'sentence']\n",
        "with open('test1.txt', 'w') as f:\n",
        "    for line in lines:\n",
        "        f.write(line)\n",
        "        f.write('\\n')"
      ],
      "metadata": {
        "id": "MwfIvEpcRnv8"
      },
      "execution_count": 13,
      "outputs": []
    }
  ]
}